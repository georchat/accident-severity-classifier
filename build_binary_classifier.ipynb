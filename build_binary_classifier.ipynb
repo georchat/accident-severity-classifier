{
 "cells": [
  {
   "cell_type": "markdown",
   "metadata": {},
   "source": [
    "# Setup"
   ]
  },
  {
   "cell_type": "markdown",
   "metadata": {},
   "source": [
    "Import a few common modules, ensure MatplotLib plots figures inline and prepare a function to save the figures:"
   ]
  },
  {
   "cell_type": "code",
   "execution_count": 1,
   "metadata": {},
   "outputs": [],
   "source": [
    "# Common imports\n",
    "import numpy as np\n",
    "import pandas as pd\n",
    "import os\n",
    "import seaborn as sns\n",
    "from datetime import datetime\n",
    "sns.set(style=\"darkgrid\")\n",
    "\n",
    "# to make this notebook's output stable across runs\n",
    "np.random.seed(42)\n",
    "\n",
    "# To plot figures\n",
    "%matplotlib inline\n",
    "import matplotlib\n",
    "import matplotlib.pyplot as plt\n",
    "plt.rcParams['axes.labelsize'] = 14\n",
    "plt.rcParams['xtick.labelsize'] = 12\n",
    "plt.rcParams['ytick.labelsize'] = 12\n",
    "\n",
    "# Path to save the figures\n",
    "PROJECT_ROOT_DIR = \".\"\n",
    "IMAGES_PATH = os.path.join(\"images\")\n",
    "\n",
    "def save_fig(fig_id, tight_layout=True, image_path=IMAGES_PATH):\n",
    "    path = os.path.join(PROJECT_ROOT_DIR, image_path, fig_id + \".png\")\n",
    "    print(\"Saving figure\", fig_id)\n",
    "    if tight_layout:\n",
    "        plt.tight_layout()\n",
    "    plt.savefig(path, format='png', dpi=300)"
   ]
  },
  {
   "cell_type": "markdown",
   "metadata": {},
   "source": [
    "# Get the Data"
   ]
  },
  {
   "cell_type": "markdown",
   "metadata": {},
   "source": [
    "The data is split into a training set and a test set. In addition, the vehicles data is provided in the file `vehicle.csv`. All files are available in the directory `datasets`."
   ]
  },
  {
   "cell_type": "code",
   "execution_count": 2,
   "metadata": {},
   "outputs": [],
   "source": [
    "import os\n",
    "import pandas as pd\n",
    "\n",
    "DATA_PATH = os.path.join(\"datasets\")\n",
    "\n",
    "def load_transport_data(filename, data_path=DATA_PATH):\n",
    "    csv_path = os.path.join(PROJECT_ROOT_DIR,data_path, filename)\n",
    "    return pd.read_csv(csv_path)"
   ]
  },
  {
   "cell_type": "code",
   "execution_count": 3,
   "metadata": {},
   "outputs": [
    {
     "name": "stderr",
     "output_type": "stream",
     "text": [
      "C:\\Users\\geochatz\\AppData\\Local\\Continuum\\anaconda3\\lib\\site-packages\\IPython\\core\\interactiveshell.py:3185: DtypeWarning: Columns (25) have mixed types. Specify dtype option on import or set low_memory=False.\n",
      "  if (yield from self.run_code(code, result)):\n"
     ]
    }
   ],
   "source": [
    "train_data = load_transport_data('train.csv')\n",
    "test_data = load_transport_data('test.csv')"
   ]
  },
  {
   "cell_type": "markdown",
   "metadata": {},
   "source": [
    "## Take a Quick Look at the Data Structure"
   ]
  },
  {
   "cell_type": "code",
   "execution_count": 4,
   "metadata": {},
   "outputs": [
    {
     "name": "stdout",
     "output_type": "stream",
     "text": [
      "<class 'pandas.core.frame.DataFrame'>\n",
      "RangeIndex: 136575 entries, 0 to 136574\n",
      "Data columns (total 30 columns):\n",
      "accident_id                                136575 non-null int64\n",
      "location_easting_osgr                      136575 non-null float64\n",
      "location_northing_osgr                     136575 non-null float64\n",
      "longitude                                  136575 non-null float64\n",
      "latitude                                   136575 non-null float64\n",
      "number_of_vehicles                         136575 non-null int64\n",
      "number_of_casualties                       136575 non-null int64\n",
      "date                                       136575 non-null object\n",
      "time                                       136575 non-null object\n",
      "1st_road_class                             136575 non-null object\n",
      "1st_road_number                            136575 non-null int64\n",
      "road_type                                  136575 non-null object\n",
      "speed_limit                                136575 non-null float64\n",
      "junction_detail                            136469 non-null object\n",
      "junction_control                           79982 non-null object\n",
      "2nd_road_class                             79626 non-null object\n",
      "2nd_road_number                            135969 non-null float64\n",
      "pedestrian_crossing-human_control          136394 non-null object\n",
      "pedestrian_crossing-physical_facilities    135948 non-null object\n",
      "light_conditions                           136566 non-null object\n",
      "weather_conditions                         136566 non-null object\n",
      "road_surface_conditions                    135810 non-null object\n",
      "special_conditions_at_site                 136070 non-null object\n",
      "carriageway_hazards                        136030 non-null object\n",
      "urban_or_rural_area                        136575 non-null object\n",
      "lsoa_of_accident_location                  128232 non-null object\n",
      "police_force                               136575 non-null object\n",
      "local_authority_district                   136575 non-null object\n",
      "local_authority_highway                    136575 non-null object\n",
      "target                                     136575 non-null int64\n",
      "dtypes: float64(6), int64(5), object(19)\n",
      "memory usage: 31.3+ MB\n"
     ]
    }
   ],
   "source": [
    "train_data.info()"
   ]
  },
  {
   "cell_type": "code",
   "execution_count": 5,
   "metadata": {},
   "outputs": [
    {
     "data": {
      "text/plain": [
       "136575"
      ]
     },
     "execution_count": 5,
     "metadata": {},
     "output_type": "execute_result"
    }
   ],
   "source": [
    "len(train_data.accident_id.unique())"
   ]
  },
  {
   "cell_type": "markdown",
   "metadata": {},
   "source": [
    "Each row represents one accident. The `info()` method shows the total number of rows and each attribute's type and number of the non-null values. There are 136575 instances in the dataset and the **id** per accident is unique as expected.\n",
    "\n",
    "The data has different type of attributes, such as numerical. There are also attributes which type is object.\n",
    "\n",
    "There are attributes which are sometimes null (less than 136575 non-null). The **junction_control** attribute for example has about 40% null values. The attributes **junction_control** and **2nd_road_class** will be removed since a lot of assumptions should be taken to fill the null-values."
   ]
  },
  {
   "cell_type": "code",
   "execution_count": 6,
   "metadata": {},
   "outputs": [
    {
     "data": {
      "text/plain": [
       "count    136575.000000\n",
       "mean          0.171444\n",
       "std           0.376898\n",
       "min           0.000000\n",
       "25%           0.000000\n",
       "50%           0.000000\n",
       "75%           0.000000\n",
       "max           1.000000\n",
       "Name: target, dtype: float64"
      ]
     },
     "execution_count": 6,
     "metadata": {},
     "output_type": "execute_result"
    }
   ],
   "source": [
    "train_data['target'].describe()"
   ]
  },
  {
   "cell_type": "markdown",
   "metadata": {},
   "source": [
    "From the total number of accidents 17% is a fatal accident (the mean in the **target** attribute), so the classes are imbalanced and accuracy won't be a reasonable metric to evaluate our model"
   ]
  },
  {
   "cell_type": "markdown",
   "metadata": {},
   "source": [
    "## Create a Test Set"
   ]
  },
  {
   "cell_type": "code",
   "execution_count": 7,
   "metadata": {},
   "outputs": [],
   "source": [
    "from sklearn.model_selection import train_test_split\n",
    "\n",
    "train_set, test_set = train_test_split(train_data, test_size=0.2, random_state=42)"
   ]
  },
  {
   "cell_type": "code",
   "execution_count": 8,
   "metadata": {},
   "outputs": [
    {
     "data": {
      "text/plain": [
       "count    109260.000000\n",
       "mean          0.171353\n",
       "std           0.376819\n",
       "min           0.000000\n",
       "25%           0.000000\n",
       "50%           0.000000\n",
       "75%           0.000000\n",
       "max           1.000000\n",
       "Name: target, dtype: float64"
      ]
     },
     "execution_count": 8,
     "metadata": {},
     "output_type": "execute_result"
    }
   ],
   "source": [
    "train_set.target.describe()"
   ]
  },
  {
   "cell_type": "code",
   "execution_count": 9,
   "metadata": {},
   "outputs": [
    {
     "data": {
      "text/plain": [
       "count    27315.000000\n",
       "mean         0.171810\n",
       "std          0.377222\n",
       "min          0.000000\n",
       "25%          0.000000\n",
       "50%          0.000000\n",
       "75%          0.000000\n",
       "max          1.000000\n",
       "Name: target, dtype: float64"
      ]
     },
     "execution_count": 9,
     "metadata": {},
     "output_type": "execute_result"
    }
   ],
   "source": [
    "test_set.target.describe()"
   ]
  },
  {
   "cell_type": "markdown",
   "metadata": {},
   "source": [
    "# Explore the Data to Get Insights"
   ]
  },
  {
   "cell_type": "markdown",
   "metadata": {},
   "source": [
    "### Datetime Attributes"
   ]
  },
  {
   "cell_type": "code",
   "execution_count": 10,
   "metadata": {},
   "outputs": [],
   "source": [
    "accident_data = train_set.copy()"
   ]
  },
  {
   "cell_type": "code",
   "execution_count": 11,
   "metadata": {},
   "outputs": [
    {
     "data": {
      "text/html": [
       "<div>\n",
       "<style scoped>\n",
       "    .dataframe tbody tr th:only-of-type {\n",
       "        vertical-align: middle;\n",
       "    }\n",
       "\n",
       "    .dataframe tbody tr th {\n",
       "        vertical-align: top;\n",
       "    }\n",
       "\n",
       "    .dataframe thead th {\n",
       "        text-align: right;\n",
       "    }\n",
       "</style>\n",
       "<table border=\"1\" class=\"dataframe\">\n",
       "  <thead>\n",
       "    <tr style=\"text-align: right;\">\n",
       "      <th></th>\n",
       "      <th>date</th>\n",
       "      <th>time</th>\n",
       "    </tr>\n",
       "  </thead>\n",
       "  <tbody>\n",
       "    <tr>\n",
       "      <th>0</th>\n",
       "      <td>2016-01-11</td>\n",
       "      <td>02:30</td>\n",
       "    </tr>\n",
       "    <tr>\n",
       "      <th>1</th>\n",
       "      <td>2016-01-11</td>\n",
       "      <td>00:37</td>\n",
       "    </tr>\n",
       "    <tr>\n",
       "      <th>2</th>\n",
       "      <td>2016-01-11</td>\n",
       "      <td>01:25</td>\n",
       "    </tr>\n",
       "    <tr>\n",
       "      <th>3</th>\n",
       "      <td>2016-01-11</td>\n",
       "      <td>09:15</td>\n",
       "    </tr>\n",
       "    <tr>\n",
       "      <th>4</th>\n",
       "      <td>2016-01-11</td>\n",
       "      <td>07:53</td>\n",
       "    </tr>\n",
       "  </tbody>\n",
       "</table>\n",
       "</div>"
      ],
      "text/plain": [
       "         date   time\n",
       "0  2016-01-11  02:30\n",
       "1  2016-01-11  00:37\n",
       "2  2016-01-11  01:25\n",
       "3  2016-01-11  09:15\n",
       "4  2016-01-11  07:53"
      ]
     },
     "execution_count": 11,
     "metadata": {},
     "output_type": "execute_result"
    }
   ],
   "source": [
    "date_attributes = ['date', 'time']\n",
    "train_data[date_attributes].head()"
   ]
  },
  {
   "cell_type": "markdown",
   "metadata": {},
   "source": [
    "Combine date and time and create one datetime attribute"
   ]
  },
  {
   "cell_type": "code",
   "execution_count": 12,
   "metadata": {},
   "outputs": [],
   "source": [
    "accident_data['datetime'] = pd.to_datetime(accident_data['date'] + ' ' + accident_data['time'])"
   ]
  },
  {
   "cell_type": "code",
   "execution_count": 13,
   "metadata": {},
   "outputs": [
    {
     "data": {
      "text/plain": [
       "96365    2016-04-29 15:20:00\n",
       "129456   2016-08-06 18:15:00\n",
       "129441   2016-05-31 19:35:00\n",
       "104030   2016-03-27 07:48:00\n",
       "15911    2016-08-08 19:45:00\n",
       "Name: datetime, dtype: datetime64[ns]"
      ]
     },
     "execution_count": 13,
     "metadata": {},
     "output_type": "execute_result"
    }
   ],
   "source": [
    "accident_data['datetime'][:5]"
   ]
  },
  {
   "cell_type": "markdown",
   "metadata": {},
   "source": [
    "From datetime attribute extract the year, month, day, week, hour and minute of the accident"
   ]
  },
  {
   "cell_type": "code",
   "execution_count": 14,
   "metadata": {},
   "outputs": [],
   "source": [
    "accident_data['year'] = accident_data['datetime'].dt.year\n",
    "accident_data['month'] = accident_data['datetime'].dt.month\n",
    "accident_data['day'] = accident_data['datetime'].dt.day\n",
    "accident_data['week'] = accident_data['datetime'].dt.week\n",
    "accident_data['hour'] = accident_data['datetime'].dt.hour\n",
    "accident_data['minute'] = accident_data['datetime'].dt.minute"
   ]
  },
  {
   "cell_type": "code",
   "execution_count": 15,
   "metadata": {},
   "outputs": [
    {
     "data": {
      "text/html": [
       "<div>\n",
       "<style scoped>\n",
       "    .dataframe tbody tr th:only-of-type {\n",
       "        vertical-align: middle;\n",
       "    }\n",
       "\n",
       "    .dataframe tbody tr th {\n",
       "        vertical-align: top;\n",
       "    }\n",
       "\n",
       "    .dataframe thead th {\n",
       "        text-align: right;\n",
       "    }\n",
       "</style>\n",
       "<table border=\"1\" class=\"dataframe\">\n",
       "  <thead>\n",
       "    <tr style=\"text-align: right;\">\n",
       "      <th></th>\n",
       "      <th>year</th>\n",
       "      <th>month</th>\n",
       "      <th>week</th>\n",
       "      <th>day</th>\n",
       "      <th>hour</th>\n",
       "      <th>minute</th>\n",
       "    </tr>\n",
       "  </thead>\n",
       "  <tbody>\n",
       "    <tr>\n",
       "      <th>96365</th>\n",
       "      <td>2016</td>\n",
       "      <td>4</td>\n",
       "      <td>17</td>\n",
       "      <td>29</td>\n",
       "      <td>15</td>\n",
       "      <td>20</td>\n",
       "    </tr>\n",
       "    <tr>\n",
       "      <th>129456</th>\n",
       "      <td>2016</td>\n",
       "      <td>8</td>\n",
       "      <td>31</td>\n",
       "      <td>6</td>\n",
       "      <td>18</td>\n",
       "      <td>15</td>\n",
       "    </tr>\n",
       "    <tr>\n",
       "      <th>129441</th>\n",
       "      <td>2016</td>\n",
       "      <td>5</td>\n",
       "      <td>22</td>\n",
       "      <td>31</td>\n",
       "      <td>19</td>\n",
       "      <td>35</td>\n",
       "    </tr>\n",
       "    <tr>\n",
       "      <th>104030</th>\n",
       "      <td>2016</td>\n",
       "      <td>3</td>\n",
       "      <td>12</td>\n",
       "      <td>27</td>\n",
       "      <td>7</td>\n",
       "      <td>48</td>\n",
       "    </tr>\n",
       "    <tr>\n",
       "      <th>15911</th>\n",
       "      <td>2016</td>\n",
       "      <td>8</td>\n",
       "      <td>32</td>\n",
       "      <td>8</td>\n",
       "      <td>19</td>\n",
       "      <td>45</td>\n",
       "    </tr>\n",
       "  </tbody>\n",
       "</table>\n",
       "</div>"
      ],
      "text/plain": [
       "        year  month  week  day  hour  minute\n",
       "96365   2016      4    17   29    15      20\n",
       "129456  2016      8    31    6    18      15\n",
       "129441  2016      5    22   31    19      35\n",
       "104030  2016      3    12   27     7      48\n",
       "15911   2016      8    32    8    19      45"
      ]
     },
     "execution_count": 15,
     "metadata": {},
     "output_type": "execute_result"
    }
   ],
   "source": [
    "accident_data[['year','month','week','day','hour','minute']].head()"
   ]
  },
  {
   "cell_type": "markdown",
   "metadata": {},
   "source": [
    "### Categorical Attributes"
   ]
  },
  {
   "cell_type": "code",
   "execution_count": 16,
   "metadata": {},
   "outputs": [],
   "source": [
    "accident_data = train_set.copy()"
   ]
  },
  {
   "cell_type": "code",
   "execution_count": 17,
   "metadata": {},
   "outputs": [
    {
     "data": {
      "text/plain": [
       "Index(['date', 'time', '1st_road_class', 'road_type', 'junction_detail',\n",
       "       'junction_control', '2nd_road_class',\n",
       "       'pedestrian_crossing-human_control',\n",
       "       'pedestrian_crossing-physical_facilities', 'light_conditions',\n",
       "       'weather_conditions', 'road_surface_conditions',\n",
       "       'special_conditions_at_site', 'carriageway_hazards',\n",
       "       'urban_or_rural_area', 'lsoa_of_accident_location', 'police_force',\n",
       "       'local_authority_district', 'local_authority_highway'],\n",
       "      dtype='object')"
      ]
     },
     "execution_count": 17,
     "metadata": {},
     "output_type": "execute_result"
    }
   ],
   "source": [
    "accident_data.select_dtypes(include=['object']).columns"
   ]
  },
  {
   "cell_type": "code",
   "execution_count": 18,
   "metadata": {},
   "outputs": [],
   "source": [
    "cat_attributes = ['1st_road_class', \n",
    "                   'road_type',\n",
    "                   'junction_detail',\n",
    "                   'pedestrian_crossing-human_control',\n",
    "                   'pedestrian_crossing-physical_facilities',\n",
    "                   'light_conditions',\n",
    "                   'weather_conditions',\n",
    "                   'road_surface_conditions',\n",
    "                   'special_conditions_at_site', \n",
    "                   'carriageway_hazards',\n",
    "                   'urban_or_rural_area',\n",
    "                   'lsoa_of_accident_location', \n",
    "                   'police_force',\n",
    "                   'local_authority_district',\n",
    "                   'local_authority_highway']"
   ]
  },
  {
   "cell_type": "code",
   "execution_count": 19,
   "metadata": {},
   "outputs": [
    {
     "name": "stdout",
     "output_type": "stream",
     "text": [
      "<class 'pandas.core.frame.DataFrame'>\n",
      "Int64Index: 109260 entries, 96365 to 121958\n",
      "Data columns (total 15 columns):\n",
      "1st_road_class                             109260 non-null object\n",
      "road_type                                  109260 non-null object\n",
      "junction_detail                            109177 non-null object\n",
      "pedestrian_crossing-human_control          109110 non-null object\n",
      "pedestrian_crossing-physical_facilities    108767 non-null object\n",
      "light_conditions                           109251 non-null object\n",
      "weather_conditions                         109251 non-null object\n",
      "road_surface_conditions                    108648 non-null object\n",
      "special_conditions_at_site                 108857 non-null object\n",
      "carriageway_hazards                        108830 non-null object\n",
      "urban_or_rural_area                        109260 non-null object\n",
      "lsoa_of_accident_location                  102609 non-null object\n",
      "police_force                               109260 non-null object\n",
      "local_authority_district                   109260 non-null object\n",
      "local_authority_highway                    109260 non-null object\n",
      "dtypes: object(15)\n",
      "memory usage: 13.3+ MB\n"
     ]
    }
   ],
   "source": [
    "accident_data[cat_attributes].info()"
   ]
  },
  {
   "cell_type": "code",
   "execution_count": 20,
   "metadata": {},
   "outputs": [
    {
     "data": {
      "text/html": [
       "<div>\n",
       "<style scoped>\n",
       "    .dataframe tbody tr th:only-of-type {\n",
       "        vertical-align: middle;\n",
       "    }\n",
       "\n",
       "    .dataframe tbody tr th {\n",
       "        vertical-align: top;\n",
       "    }\n",
       "\n",
       "    .dataframe thead th {\n",
       "        text-align: right;\n",
       "    }\n",
       "</style>\n",
       "<table border=\"1\" class=\"dataframe\">\n",
       "  <thead>\n",
       "    <tr style=\"text-align: right;\">\n",
       "      <th></th>\n",
       "      <th>1st_road_class</th>\n",
       "      <th>road_type</th>\n",
       "      <th>junction_detail</th>\n",
       "      <th>pedestrian_crossing-human_control</th>\n",
       "      <th>pedestrian_crossing-physical_facilities</th>\n",
       "      <th>light_conditions</th>\n",
       "      <th>weather_conditions</th>\n",
       "      <th>road_surface_conditions</th>\n",
       "      <th>special_conditions_at_site</th>\n",
       "      <th>carriageway_hazards</th>\n",
       "      <th>urban_or_rural_area</th>\n",
       "      <th>lsoa_of_accident_location</th>\n",
       "      <th>police_force</th>\n",
       "      <th>local_authority_district</th>\n",
       "      <th>local_authority_highway</th>\n",
       "    </tr>\n",
       "  </thead>\n",
       "  <tbody>\n",
       "    <tr>\n",
       "      <th>96365</th>\n",
       "      <td>Motorway</td>\n",
       "      <td>Roundabout</td>\n",
       "      <td>Roundabout</td>\n",
       "      <td>None within 50 metres</td>\n",
       "      <td>No physical crossing facilities within 50 metres</td>\n",
       "      <td>Daylight</td>\n",
       "      <td>Fine no high winds</td>\n",
       "      <td>Dry</td>\n",
       "      <td>None</td>\n",
       "      <td>None</td>\n",
       "      <td>Rural</td>\n",
       "      <td>E01023170</td>\n",
       "      <td>Hampshire</td>\n",
       "      <td>Test Valley</td>\n",
       "      <td>Hampshire</td>\n",
       "    </tr>\n",
       "    <tr>\n",
       "      <th>129456</th>\n",
       "      <td>Unclassified</td>\n",
       "      <td>Single carriageway</td>\n",
       "      <td>T or staggered junction</td>\n",
       "      <td>None within 50 metres</td>\n",
       "      <td>No physical crossing facilities within 50 metres</td>\n",
       "      <td>Daylight</td>\n",
       "      <td>Fine no high winds</td>\n",
       "      <td>Dry</td>\n",
       "      <td>None</td>\n",
       "      <td>None</td>\n",
       "      <td>Urban</td>\n",
       "      <td>NaN</td>\n",
       "      <td>Tayside</td>\n",
       "      <td>Dundee City</td>\n",
       "      <td>Dundee City</td>\n",
       "    </tr>\n",
       "    <tr>\n",
       "      <th>129441</th>\n",
       "      <td>Unclassified</td>\n",
       "      <td>Single carriageway</td>\n",
       "      <td>Not at junction or within 20 metres</td>\n",
       "      <td>None within 50 metres</td>\n",
       "      <td>No physical crossing facilities within 50 metres</td>\n",
       "      <td>Daylight</td>\n",
       "      <td>Fine no high winds</td>\n",
       "      <td>Dry</td>\n",
       "      <td>None</td>\n",
       "      <td>None</td>\n",
       "      <td>Urban</td>\n",
       "      <td>NaN</td>\n",
       "      <td>Tayside</td>\n",
       "      <td>Dundee City</td>\n",
       "      <td>Dundee City</td>\n",
       "    </tr>\n",
       "    <tr>\n",
       "      <th>104030</th>\n",
       "      <td>Motorway</td>\n",
       "      <td>Dual carriageway</td>\n",
       "      <td>Not at junction or within 20 metres</td>\n",
       "      <td>None within 50 metres</td>\n",
       "      <td>No physical crossing facilities within 50 metres</td>\n",
       "      <td>Daylight</td>\n",
       "      <td>Raining no high winds</td>\n",
       "      <td>Wet or damp</td>\n",
       "      <td>None</td>\n",
       "      <td>None</td>\n",
       "      <td>Rural</td>\n",
       "      <td>E01024628</td>\n",
       "      <td>Kent</td>\n",
       "      <td>Swale</td>\n",
       "      <td>Kent</td>\n",
       "    </tr>\n",
       "    <tr>\n",
       "      <th>15911</th>\n",
       "      <td>A</td>\n",
       "      <td>Dual carriageway</td>\n",
       "      <td>T or staggered junction</td>\n",
       "      <td>None within 50 metres</td>\n",
       "      <td>Pedestrian phase at traffic signal junction</td>\n",
       "      <td>Daylight</td>\n",
       "      <td>Fine no high winds</td>\n",
       "      <td>Dry</td>\n",
       "      <td>None</td>\n",
       "      <td>None</td>\n",
       "      <td>Urban</td>\n",
       "      <td>E01003107</td>\n",
       "      <td>Metropolitan Police</td>\n",
       "      <td>Lambeth</td>\n",
       "      <td>Lambeth</td>\n",
       "    </tr>\n",
       "  </tbody>\n",
       "</table>\n",
       "</div>"
      ],
      "text/plain": [
       "       1st_road_class           road_type  \\\n",
       "96365        Motorway          Roundabout   \n",
       "129456   Unclassified  Single carriageway   \n",
       "129441   Unclassified  Single carriageway   \n",
       "104030       Motorway    Dual carriageway   \n",
       "15911               A    Dual carriageway   \n",
       "\n",
       "                            junction_detail pedestrian_crossing-human_control  \\\n",
       "96365                            Roundabout             None within 50 metres   \n",
       "129456              T or staggered junction             None within 50 metres   \n",
       "129441  Not at junction or within 20 metres             None within 50 metres   \n",
       "104030  Not at junction or within 20 metres             None within 50 metres   \n",
       "15911               T or staggered junction             None within 50 metres   \n",
       "\n",
       "                 pedestrian_crossing-physical_facilities light_conditions  \\\n",
       "96365   No physical crossing facilities within 50 metres         Daylight   \n",
       "129456  No physical crossing facilities within 50 metres         Daylight   \n",
       "129441  No physical crossing facilities within 50 metres         Daylight   \n",
       "104030  No physical crossing facilities within 50 metres         Daylight   \n",
       "15911        Pedestrian phase at traffic signal junction         Daylight   \n",
       "\n",
       "           weather_conditions road_surface_conditions  \\\n",
       "96365      Fine no high winds                     Dry   \n",
       "129456     Fine no high winds                     Dry   \n",
       "129441     Fine no high winds                     Dry   \n",
       "104030  Raining no high winds             Wet or damp   \n",
       "15911      Fine no high winds                     Dry   \n",
       "\n",
       "       special_conditions_at_site carriageway_hazards urban_or_rural_area  \\\n",
       "96365                        None                None               Rural   \n",
       "129456                       None                None               Urban   \n",
       "129441                       None                None               Urban   \n",
       "104030                       None                None               Rural   \n",
       "15911                        None                None               Urban   \n",
       "\n",
       "       lsoa_of_accident_location         police_force  \\\n",
       "96365                  E01023170            Hampshire   \n",
       "129456                       NaN              Tayside   \n",
       "129441                       NaN              Tayside   \n",
       "104030                 E01024628                 Kent   \n",
       "15911                  E01003107  Metropolitan Police   \n",
       "\n",
       "       local_authority_district local_authority_highway  \n",
       "96365               Test Valley               Hampshire  \n",
       "129456              Dundee City             Dundee City  \n",
       "129441              Dundee City             Dundee City  \n",
       "104030                    Swale                    Kent  \n",
       "15911                   Lambeth                 Lambeth  "
      ]
     },
     "execution_count": 20,
     "metadata": {},
     "output_type": "execute_result"
    }
   ],
   "source": [
    "accident_data[cat_attributes].head()"
   ]
  },
  {
   "cell_type": "code",
   "execution_count": 21,
   "metadata": {},
   "outputs": [
    {
     "data": {
      "text/plain": [
       "A               49230\n",
       "Unclassified    34837\n",
       "B               13354\n",
       "C                7530\n",
       "Motorway         3975\n",
       "A(M)              334\n",
       "Name: 1st_road_class, dtype: int64"
      ]
     },
     "execution_count": 21,
     "metadata": {},
     "output_type": "execute_result"
    }
   ],
   "source": [
    "accident_data['1st_road_class'].value_counts()"
   ]
  },
  {
   "cell_type": "code",
   "execution_count": 22,
   "metadata": {},
   "outputs": [
    {
     "data": {
      "text/plain": [
       "Single carriageway    81361\n",
       "Dual carriageway      16041\n",
       "Roundabout             7128\n",
       "One way street         2477\n",
       "Slip road              1147\n",
       "Unknown                1106\n",
       "Name: road_type, dtype: int64"
      ]
     },
     "execution_count": 22,
     "metadata": {},
     "output_type": "execute_result"
    }
   ],
   "source": [
    "accident_data['road_type'].value_counts()"
   ]
  },
  {
   "cell_type": "code",
   "execution_count": 23,
   "metadata": {},
   "outputs": [],
   "source": [
    "accident_data['lsoa_of_accident_location_slc']=accident_data[['lsoa_of_accident_location']].apply(lambda x: x.str.slice(0, 6))"
   ]
  },
  {
   "cell_type": "code",
   "execution_count": 24,
   "metadata": {},
   "outputs": [
    {
     "data": {
      "text/plain": [
       "E01004    4002\n",
       "E01003    3984\n",
       "E01002    3980\n",
       "E01030    3740\n",
       "E01001    3673\n",
       "E01024    3647\n",
       "E01000    3517\n",
       "E01033    3468\n",
       "E01031    3152\n",
       "E01026    3071\n",
       "E01013    3039\n",
       "E01023    3024\n",
       "E01032    3003\n",
       "E01018    2986\n",
       "E01015    2964\n",
       "E01016    2850\n",
       "E01017    2841\n",
       "E01021    2818\n",
       "E01025    2789\n",
       "E01027    2771\n",
       "E01029    2744\n",
       "E01028    2730\n",
       "E01012    2636\n",
       "E01009    2605\n",
       "E01019    2535\n",
       "E01010    2525\n",
       "E01020    2518\n",
       "E01011    2517\n",
       "E01007    2454\n",
       "E01022    2356\n",
       "E01014    2342\n",
       "E01008    2337\n",
       "W01000    2264\n",
       "W01001    1708\n",
       "E01006    1653\n",
       "E01005    1366\n",
       "Name: lsoa_of_accident_location_slc, dtype: int64"
      ]
     },
     "execution_count": 24,
     "metadata": {},
     "output_type": "execute_result"
    }
   ],
   "source": [
    "accident_data['lsoa_of_accident_location_slc'].value_counts()"
   ]
  },
  {
   "cell_type": "code",
   "execution_count": 25,
   "metadata": {},
   "outputs": [
    {
     "data": {
      "text/plain": [
       "Metropolitan Police      19842\n",
       "West Midlands             4703\n",
       "Kent                      4032\n",
       "West Yorkshire            3955\n",
       "Thames Valley             3889\n",
       "Hampshire                 3514\n",
       "Sussex                    3334\n",
       "Surrey                    3002\n",
       "Essex                     2985\n",
       "Strathclyde               2940\n",
       "Lancashire                2920\n",
       "Devon and Cornwall        2806\n",
       "South Yorkshire           2463\n",
       "Avon and Somerset         2459\n",
       "Greater Manchester        2318\n",
       "Northumbria               2222\n",
       "Hertfordshire             2126\n",
       "Nottinghamshire           2077\n",
       "Staffordshire             2062\n",
       "Merseyside                1937\n",
       "Cheshire                  1899\n",
       "Humberside                1886\n",
       "West Mercia               1856\n",
       "Cambridgeshire            1754\n",
       "Leicestershire            1753\n",
       "South Wales               1653\n",
       "North Yorkshire           1644\n",
       "Lothian and Borders       1610\n",
       "Lincolnshire              1599\n",
       "Derbyshire                1528\n",
       "Norfolk                   1486\n",
       "Wiltshire                 1281\n",
       "Suffolk                   1279\n",
       "Dorset                    1256\n",
       "Bedfordshire              1231\n",
       "Warwickshire              1164\n",
       "Cumbria                   1019\n",
       "Dyfed-Powys               1007\n",
       "Northamptonshire           973\n",
       "North Wales                812\n",
       "Durham                     805\n",
       "Gloucestershire            675\n",
       "Cleveland                  615\n",
       "Gwent                      500\n",
       "Grampian                   443\n",
       "Central                    390\n",
       "Northern                   364\n",
       "Fife                       363\n",
       "Tayside                    332\n",
       "City of London             290\n",
       "Dumfries and Galloway      207\n",
       "Name: police_force, dtype: int64"
      ]
     },
     "execution_count": 25,
     "metadata": {},
     "output_type": "execute_result"
    }
   ],
   "source": [
    "accident_data['police_force'].value_counts()"
   ]
  },
  {
   "cell_type": "code",
   "execution_count": 26,
   "metadata": {},
   "outputs": [
    {
     "data": {
      "text/plain": [
       "Birmingham                     2234\n",
       "Leeds                          1534\n",
       "Westminster                    1228\n",
       "Glasgow City                   1028\n",
       "Lambeth                        1015\n",
       "Cornwall                        964\n",
       "Sheffield                       939\n",
       "Bradford                        920\n",
       "Edinburgh, City of              918\n",
       "Wiltshire                       879\n",
       "Tower Hamlets                   877\n",
       "Bristol, City of                823\n",
       "Ealing                          814\n",
       "Southwark                       812\n",
       "Liverpool                       797\n",
       "Barnet                          764\n",
       "Wandsworth                      752\n",
       "Nottingham                      729\n",
       "Brent                           726\n",
       "Hackney                         723\n",
       "Croydon                         720\n",
       "Lewisham                        710\n",
       "Hounslow                        705\n",
       "Haringey                        700\n",
       "Newham                          687\n",
       "Cheshire East                   683\n",
       "Leicester                       677\n",
       "Camden                          663\n",
       "Kingston upon Hull, City of     644\n",
       "County Durham                   644\n",
       "                               ... \n",
       "Melton                           97\n",
       "Hartlepool                       94\n",
       "East Northamptonshire            93\n",
       "Maldon                           93\n",
       "Angus                            91\n",
       "Stroud                           91\n",
       "Redditch                         91\n",
       "West Devon                       90\n",
       "Inverclyde                       88\n",
       "Torfaen                          86\n",
       "Weymouth and Portland            83\n",
       "North Dorset                     80\n",
       "East Dunbartonshire              78\n",
       "East Renfrewshire                74\n",
       "Christchurch                     74\n",
       "Monmouthshire                    72\n",
       "Corby                            68\n",
       "Forest of Dean                   68\n",
       "Merthyr Tydfil                   67\n",
       "Isle of Anglesey                 60\n",
       "Blaenau Gwent                    58\n",
       "Clackmannanshire                 56\n",
       "Rutland                          55\n",
       "Moray                            54\n",
       "Oadby and Wigston                54\n",
       "West Somerset                    48\n",
       "London Airport (Heathrow)        24\n",
       "Orkney Islands                   23\n",
       "Western Isles                    21\n",
       "Shetland Islands                 20\n",
       "Name: local_authority_district, Length: 380, dtype: int64"
      ]
     },
     "execution_count": 26,
     "metadata": {},
     "output_type": "execute_result"
    }
   ],
   "source": [
    "accident_data['local_authority_district'].value_counts()"
   ]
  },
  {
   "cell_type": "code",
   "execution_count": 27,
   "metadata": {},
   "outputs": [
    {
     "data": {
      "text/plain": [
       "Kent                                    3534\n",
       "Surrey                                  3002\n",
       "Hampshire                               2395\n",
       "Essex                                   2384\n",
       "Lancashire                              2240\n",
       "Birmingham                              2234\n",
       "Hertfordshire                           2126\n",
       "Lincolnshire                            1599\n",
       "West Sussex                             1597\n",
       "Staffordshire                           1539\n",
       "Leeds                                   1534\n",
       "Norfolk                                 1486\n",
       "Nottinghamshire                         1348\n",
       "Suffolk                                 1279\n",
       "Cambridgeshire                          1265\n",
       "North Yorkshire                         1255\n",
       "Westminster                             1228\n",
       "Oxfordshire                             1203\n",
       "Devon                                   1201\n",
       "Warwickshire                            1164\n",
       "East Sussex                             1107\n",
       "Derbyshire                              1105\n",
       "Glasgow City                            1028\n",
       "Leicestershire                          1021\n",
       "Cumbria                                 1019\n",
       "Lambeth                                 1015\n",
       "Northamptonshire                         973\n",
       "Cornwall                                 963\n",
       "Sheffield                                939\n",
       "Bradford                                 920\n",
       "                                        ... \n",
       "Denbighshire                             142\n",
       "Midlothian                               141\n",
       "Argyll & Bute                            140\n",
       "The Vale of Glamorgan                    139\n",
       "East Ayrshire                            139\n",
       "Perth and Kinross                        134\n",
       "Aberdeen City                            129\n",
       "Redcar and Cleveland                     126\n",
       "East Lothian                             124\n",
       "Caerphilly                               114\n",
       "Dundee City                              107\n",
       "West Dunbartonshire                      100\n",
       "Hartlepool                                94\n",
       "Angus                                     91\n",
       "Inverclyde                                88\n",
       "Torfaen                                   86\n",
       "East Dunbartonshire                       78\n",
       "East Renfrewshire                         74\n",
       "Monmouthshire                             72\n",
       "Merthyr Tydfil                            67\n",
       "Isle of Anglesey                          60\n",
       "Blaenau Gwent                             58\n",
       "Clackmannanshire                          56\n",
       "Rutland                                   55\n",
       "Moray                                     54\n",
       "London Airport (Heathrow)                 24\n",
       "Orkney Islands                            23\n",
       "Na h-Eileanan an Iar (Western Isles)      21\n",
       "Shetland Islands                          20\n",
       "Isles of Scilly                            1\n",
       "Name: local_authority_highway, Length: 207, dtype: int64"
      ]
     },
     "execution_count": 27,
     "metadata": {},
     "output_type": "execute_result"
    }
   ],
   "source": [
    "accident_data['local_authority_highway'].value_counts()"
   ]
  },
  {
   "cell_type": "code",
   "execution_count": 28,
   "metadata": {},
   "outputs": [
    {
     "data": {
      "text/plain": [
       "None                                          106556\n",
       "Roadworks                                       1153\n",
       "Mud                                              260\n",
       "Oil or diesel                                    255\n",
       "Road surface defective                           238\n",
       "Auto traffic signal - out                        234\n",
       "Road sign or marking defective or obscured       121\n",
       "Auto signal part defective                        40\n",
       "Name: special_conditions_at_site, dtype: int64"
      ]
     },
     "execution_count": 28,
     "metadata": {},
     "output_type": "execute_result"
    }
   ],
   "source": [
    "accident_data['special_conditions_at_site'].value_counts()"
   ]
  },
  {
   "cell_type": "code",
   "execution_count": 29,
   "metadata": {},
   "outputs": [
    {
     "data": {
      "text/plain": [
       "None                                               107071\n",
       "Other object on road                                  780\n",
       "Any animal in carriageway (except ridden horse)       458\n",
       "Pedestrian in carriageway - not injured               205\n",
       "Vehicle load on road                                  161\n",
       "Previous accident                                     155\n",
       "Name: carriageway_hazards, dtype: int64"
      ]
     },
     "execution_count": 29,
     "metadata": {},
     "output_type": "execute_result"
    }
   ],
   "source": [
    "accident_data['carriageway_hazards'].value_counts()"
   ]
  },
  {
   "cell_type": "code",
   "execution_count": 30,
   "metadata": {},
   "outputs": [
    {
     "name": "stdout",
     "output_type": "stream",
     "text": [
      "Saving figure categorical_attributes_histogram\n"
     ]
    },
    {
     "data": {
      "image/png": "[encoded data removed]",
      "text/plain": [
       "<Figure size 864x360 with 3 Axes>"
      ]
     },
     "metadata": {
      "needs_background": "light"
     },
     "output_type": "display_data"
    }
   ],
   "source": [
    "plt.figure(figsize=(12,5))\n",
    "ax1=plt.subplot(131)\n",
    "sns.countplot(x=\"1st_road_class\", hue='target',data=accident_data, ax=ax1)\n",
    "plt.xticks(rotation=90)\n",
    "plt.xlabel('1st road class')\n",
    "\n",
    "ax2 = plt.subplot(132)\n",
    "sns.countplot(x=\"light_conditions\", hue='target',data=accident_data, ax=ax2)\n",
    "plt.xticks(rotation=90)\n",
    "plt.xlabel('light conditions')\n",
    "\n",
    "ax3=plt.subplot(133)\n",
    "sns.countplot(x=\"junction_detail\", hue='target',data=accident_data, ax=ax3)\n",
    "plt.xticks(rotation=90)\n",
    "plt.xlabel('junction detail')\n",
    "\n",
    "save_fig(\"categorical_attributes_histogram\")\n",
    "plt.show()"
   ]
  },
  {
   "cell_type": "markdown",
   "metadata": {},
   "source": [
    "### Numerical Attributes"
   ]
  },
  {
   "cell_type": "code",
   "execution_count": 31,
   "metadata": {},
   "outputs": [],
   "source": [
    "accident_data = train_set.copy()"
   ]
  },
  {
   "cell_type": "code",
   "execution_count": 32,
   "metadata": {},
   "outputs": [
    {
     "name": "stdout",
     "output_type": "stream",
     "text": [
      "<class 'pandas.core.frame.DataFrame'>\n",
      "Int64Index: 109260 entries, 96365 to 121958\n",
      "Data columns (total 11 columns):\n",
      "accident_id               109260 non-null int64\n",
      "location_easting_osgr     109260 non-null float64\n",
      "location_northing_osgr    109260 non-null float64\n",
      "longitude                 109260 non-null float64\n",
      "latitude                  109260 non-null float64\n",
      "number_of_vehicles        109260 non-null int64\n",
      "number_of_casualties      109260 non-null int64\n",
      "1st_road_number           109260 non-null int64\n",
      "speed_limit               109260 non-null float64\n",
      "2nd_road_number           108783 non-null float64\n",
      "target                    109260 non-null int64\n",
      "dtypes: float64(6), int64(5)\n",
      "memory usage: 10.0 MB\n"
     ]
    }
   ],
   "source": [
    "accident_data.select_dtypes(include=['int64', 'float64']).info()"
   ]
  },
  {
   "cell_type": "code",
   "execution_count": 33,
   "metadata": {},
   "outputs": [
    {
     "data": {
      "text/plain": [
       "Index(['accident_id', 'location_easting_osgr', 'location_northing_osgr',\n",
       "       'longitude', 'latitude', 'number_of_vehicles', 'number_of_casualties',\n",
       "       '1st_road_number', 'speed_limit', '2nd_road_number', 'target'],\n",
       "      dtype='object')"
      ]
     },
     "execution_count": 33,
     "metadata": {},
     "output_type": "execute_result"
    }
   ],
   "source": [
    "accident_data.select_dtypes(include=['int64', 'float64']).columns"
   ]
  },
  {
   "cell_type": "code",
   "execution_count": 34,
   "metadata": {},
   "outputs": [],
   "source": [
    "num_attributes = ['location_easting_osgr',\n",
    "                  'location_northing_osgr',\n",
    "                  'longitude',\n",
    "                  'latitude', \n",
    "                  'number_of_vehicles',\n",
    "                  'number_of_casualties',\n",
    "                  '1st_road_number',\n",
    "                  'speed_limit',\n",
    "                  '2nd_road_number']"
   ]
  },
  {
   "cell_type": "code",
   "execution_count": 35,
   "metadata": {},
   "outputs": [
    {
     "data": {
      "text/html": [
       "<div>\n",
       "<style scoped>\n",
       "    .dataframe tbody tr th:only-of-type {\n",
       "        vertical-align: middle;\n",
       "    }\n",
       "\n",
       "    .dataframe tbody tr th {\n",
       "        vertical-align: top;\n",
       "    }\n",
       "\n",
       "    .dataframe thead th {\n",
       "        text-align: right;\n",
       "    }\n",
       "</style>\n",
       "<table border=\"1\" class=\"dataframe\">\n",
       "  <thead>\n",
       "    <tr style=\"text-align: right;\">\n",
       "      <th></th>\n",
       "      <th>location_easting_osgr</th>\n",
       "      <th>location_northing_osgr</th>\n",
       "      <th>longitude</th>\n",
       "      <th>latitude</th>\n",
       "      <th>number_of_vehicles</th>\n",
       "      <th>number_of_casualties</th>\n",
       "      <th>1st_road_number</th>\n",
       "      <th>speed_limit</th>\n",
       "      <th>2nd_road_number</th>\n",
       "    </tr>\n",
       "  </thead>\n",
       "  <tbody>\n",
       "    <tr>\n",
       "      <th>count</th>\n",
       "      <td>109260.000000</td>\n",
       "      <td>1.092600e+05</td>\n",
       "      <td>109260.000000</td>\n",
       "      <td>109260.000000</td>\n",
       "      <td>109260.000000</td>\n",
       "      <td>109260.000000</td>\n",
       "      <td>109260.000000</td>\n",
       "      <td>109260.000000</td>\n",
       "      <td>108783.000000</td>\n",
       "    </tr>\n",
       "    <tr>\n",
       "      <th>mean</th>\n",
       "      <td>448937.590838</td>\n",
       "      <td>2.880173e+05</td>\n",
       "      <td>-1.301422</td>\n",
       "      <td>52.479528</td>\n",
       "      <td>1.850201</td>\n",
       "      <td>1.328016</td>\n",
       "      <td>925.044920</td>\n",
       "      <td>37.955153</td>\n",
       "      <td>323.153848</td>\n",
       "    </tr>\n",
       "    <tr>\n",
       "      <th>std</th>\n",
       "      <td>95176.816820</td>\n",
       "      <td>1.568003e+05</td>\n",
       "      <td>1.398171</td>\n",
       "      <td>1.412061</td>\n",
       "      <td>0.711299</td>\n",
       "      <td>0.793772</td>\n",
       "      <td>1757.160982</td>\n",
       "      <td>14.051479</td>\n",
       "      <td>1205.617431</td>\n",
       "    </tr>\n",
       "    <tr>\n",
       "      <th>min</th>\n",
       "      <td>76702.000000</td>\n",
       "      <td>1.107500e+04</td>\n",
       "      <td>-7.389809</td>\n",
       "      <td>49.919716</td>\n",
       "      <td>1.000000</td>\n",
       "      <td>1.000000</td>\n",
       "      <td>0.000000</td>\n",
       "      <td>20.000000</td>\n",
       "      <td>0.000000</td>\n",
       "    </tr>\n",
       "    <tr>\n",
       "      <th>25%</th>\n",
       "      <td>386731.000000</td>\n",
       "      <td>1.763900e+05</td>\n",
       "      <td>-2.199677</td>\n",
       "      <td>51.473550</td>\n",
       "      <td>1.000000</td>\n",
       "      <td>1.000000</td>\n",
       "      <td>0.000000</td>\n",
       "      <td>30.000000</td>\n",
       "      <td>0.000000</td>\n",
       "    </tr>\n",
       "    <tr>\n",
       "      <th>50%</th>\n",
       "      <td>454425.500000</td>\n",
       "      <td>2.367310e+05</td>\n",
       "      <td>-1.197291</td>\n",
       "      <td>52.017065</td>\n",
       "      <td>2.000000</td>\n",
       "      <td>1.000000</td>\n",
       "      <td>66.000000</td>\n",
       "      <td>30.000000</td>\n",
       "      <td>0.000000</td>\n",
       "    </tr>\n",
       "    <tr>\n",
       "      <th>75%</th>\n",
       "      <td>527770.000000</td>\n",
       "      <td>3.893665e+05</td>\n",
       "      <td>-0.158571</td>\n",
       "      <td>53.398617</td>\n",
       "      <td>2.000000</td>\n",
       "      <td>1.000000</td>\n",
       "      <td>644.000000</td>\n",
       "      <td>40.000000</td>\n",
       "      <td>0.000000</td>\n",
       "    </tr>\n",
       "    <tr>\n",
       "      <th>max</th>\n",
       "      <td>655203.000000</td>\n",
       "      <td>1.178623e+06</td>\n",
       "      <td>1.756599</td>\n",
       "      <td>60.490191</td>\n",
       "      <td>16.000000</td>\n",
       "      <td>58.000000</td>\n",
       "      <td>9918.000000</td>\n",
       "      <td>70.000000</td>\n",
       "      <td>9999.000000</td>\n",
       "    </tr>\n",
       "  </tbody>\n",
       "</table>\n",
       "</div>"
      ],
      "text/plain": [
       "       location_easting_osgr  location_northing_osgr      longitude  \\\n",
       "count          109260.000000            1.092600e+05  109260.000000   \n",
       "mean           448937.590838            2.880173e+05      -1.301422   \n",
       "std             95176.816820            1.568003e+05       1.398171   \n",
       "min             76702.000000            1.107500e+04      -7.389809   \n",
       "25%            386731.000000            1.763900e+05      -2.199677   \n",
       "50%            454425.500000            2.367310e+05      -1.197291   \n",
       "75%            527770.000000            3.893665e+05      -0.158571   \n",
       "max            655203.000000            1.178623e+06       1.756599   \n",
       "\n",
       "            latitude  number_of_vehicles  number_of_casualties  \\\n",
       "count  109260.000000       109260.000000         109260.000000   \n",
       "mean       52.479528            1.850201              1.328016   \n",
       "std         1.412061            0.711299              0.793772   \n",
       "min        49.919716            1.000000              1.000000   \n",
       "25%        51.473550            1.000000              1.000000   \n",
       "50%        52.017065            2.000000              1.000000   \n",
       "75%        53.398617            2.000000              1.000000   \n",
       "max        60.490191           16.000000             58.000000   \n",
       "\n",
       "       1st_road_number    speed_limit  2nd_road_number  \n",
       "count    109260.000000  109260.000000    108783.000000  \n",
       "mean        925.044920      37.955153       323.153848  \n",
       "std        1757.160982      14.051479      1205.617431  \n",
       "min           0.000000      20.000000         0.000000  \n",
       "25%           0.000000      30.000000         0.000000  \n",
       "50%          66.000000      30.000000         0.000000  \n",
       "75%         644.000000      40.000000         0.000000  \n",
       "max        9918.000000      70.000000      9999.000000  "
      ]
     },
     "execution_count": 35,
     "metadata": {},
     "output_type": "execute_result"
    }
   ],
   "source": [
    "accident_data[num_attributes].describe()"
   ]
  },
  {
   "cell_type": "code",
   "execution_count": 36,
   "metadata": {},
   "outputs": [
    {
     "name": "stdout",
     "output_type": "stream",
     "text": [
      "Saving figure attribute_histogram_plots\n"
     ]
    },
    {
     "data": {
      "image/png": "[encoded data removed]",
      "text/plain": [
       "<Figure size 720x432 with 9 Axes>"
      ]
     },
     "metadata": {
      "needs_background": "light"
     },
     "output_type": "display_data"
    }
   ],
   "source": [
    "accident_data[num_attributes].hist(bins=30, figsize=(10,6))\n",
    "save_fig(\"attribute_histogram_plots\")\n",
    "plt.show()"
   ]
  },
  {
   "cell_type": "code",
   "execution_count": 37,
   "metadata": {},
   "outputs": [
    {
     "data": {
      "text/html": [
       "<div>\n",
       "<style scoped>\n",
       "    .dataframe tbody tr th:only-of-type {\n",
       "        vertical-align: middle;\n",
       "    }\n",
       "\n",
       "    .dataframe tbody tr th {\n",
       "        vertical-align: top;\n",
       "    }\n",
       "\n",
       "    .dataframe thead th {\n",
       "        text-align: right;\n",
       "    }\n",
       "</style>\n",
       "<table border=\"1\" class=\"dataframe\">\n",
       "  <thead>\n",
       "    <tr style=\"text-align: right;\">\n",
       "      <th></th>\n",
       "      <th>accident_id</th>\n",
       "      <th>location_easting_osgr</th>\n",
       "      <th>location_northing_osgr</th>\n",
       "      <th>longitude</th>\n",
       "      <th>latitude</th>\n",
       "      <th>number_of_vehicles</th>\n",
       "      <th>number_of_casualties</th>\n",
       "      <th>1st_road_number</th>\n",
       "      <th>speed_limit</th>\n",
       "      <th>2nd_road_number</th>\n",
       "      <th>target</th>\n",
       "    </tr>\n",
       "  </thead>\n",
       "  <tbody>\n",
       "    <tr>\n",
       "      <th>accident_id</th>\n",
       "      <td>1.000000</td>\n",
       "      <td>0.002004</td>\n",
       "      <td>-0.002156</td>\n",
       "      <td>0.002075</td>\n",
       "      <td>-0.002160</td>\n",
       "      <td>0.000566</td>\n",
       "      <td>-0.001519</td>\n",
       "      <td>-0.002635</td>\n",
       "      <td>0.001773</td>\n",
       "      <td>-0.002964</td>\n",
       "      <td>0.002239</td>\n",
       "    </tr>\n",
       "    <tr>\n",
       "      <th>location_easting_osgr</th>\n",
       "      <td>0.002004</td>\n",
       "      <td>1.000000</td>\n",
       "      <td>-0.445930</td>\n",
       "      <td>0.999383</td>\n",
       "      <td>-0.448141</td>\n",
       "      <td>0.010667</td>\n",
       "      <td>-0.036682</td>\n",
       "      <td>-0.115188</td>\n",
       "      <td>-0.073345</td>\n",
       "      <td>-0.028757</td>\n",
       "      <td>-0.039648</td>\n",
       "    </tr>\n",
       "    <tr>\n",
       "      <th>location_northing_osgr</th>\n",
       "      <td>-0.002156</td>\n",
       "      <td>-0.445930</td>\n",
       "      <td>1.000000</td>\n",
       "      <td>-0.455514</td>\n",
       "      <td>0.999972</td>\n",
       "      <td>-0.020433</td>\n",
       "      <td>0.023989</td>\n",
       "      <td>0.041817</td>\n",
       "      <td>0.060014</td>\n",
       "      <td>0.018686</td>\n",
       "      <td>0.031377</td>\n",
       "    </tr>\n",
       "    <tr>\n",
       "      <th>longitude</th>\n",
       "      <td>0.002075</td>\n",
       "      <td>0.999383</td>\n",
       "      <td>-0.455514</td>\n",
       "      <td>1.000000</td>\n",
       "      <td>-0.457623</td>\n",
       "      <td>0.011211</td>\n",
       "      <td>-0.035494</td>\n",
       "      <td>-0.112799</td>\n",
       "      <td>-0.072462</td>\n",
       "      <td>-0.027318</td>\n",
       "      <td>-0.039174</td>\n",
       "    </tr>\n",
       "    <tr>\n",
       "      <th>latitude</th>\n",
       "      <td>-0.002160</td>\n",
       "      <td>-0.448141</td>\n",
       "      <td>0.999972</td>\n",
       "      <td>-0.457623</td>\n",
       "      <td>1.000000</td>\n",
       "      <td>-0.020307</td>\n",
       "      <td>0.024099</td>\n",
       "      <td>0.043026</td>\n",
       "      <td>0.059771</td>\n",
       "      <td>0.019483</td>\n",
       "      <td>0.031414</td>\n",
       "    </tr>\n",
       "    <tr>\n",
       "      <th>number_of_vehicles</th>\n",
       "      <td>0.000566</td>\n",
       "      <td>0.010667</td>\n",
       "      <td>-0.020433</td>\n",
       "      <td>0.011211</td>\n",
       "      <td>-0.020307</td>\n",
       "      <td>1.000000</td>\n",
       "      <td>0.247041</td>\n",
       "      <td>-0.012272</td>\n",
       "      <td>0.116126</td>\n",
       "      <td>0.013191</td>\n",
       "      <td>-0.079648</td>\n",
       "    </tr>\n",
       "    <tr>\n",
       "      <th>number_of_casualties</th>\n",
       "      <td>-0.001519</td>\n",
       "      <td>-0.036682</td>\n",
       "      <td>0.023989</td>\n",
       "      <td>-0.035494</td>\n",
       "      <td>0.024099</td>\n",
       "      <td>0.247041</td>\n",
       "      <td>1.000000</td>\n",
       "      <td>0.003852</td>\n",
       "      <td>0.161956</td>\n",
       "      <td>-0.005051</td>\n",
       "      <td>0.058778</td>\n",
       "    </tr>\n",
       "    <tr>\n",
       "      <th>1st_road_number</th>\n",
       "      <td>-0.002635</td>\n",
       "      <td>-0.115188</td>\n",
       "      <td>0.041817</td>\n",
       "      <td>-0.112799</td>\n",
       "      <td>0.043026</td>\n",
       "      <td>-0.012272</td>\n",
       "      <td>0.003852</td>\n",
       "      <td>1.000000</td>\n",
       "      <td>-0.044957</td>\n",
       "      <td>0.200435</td>\n",
       "      <td>0.009492</td>\n",
       "    </tr>\n",
       "    <tr>\n",
       "      <th>speed_limit</th>\n",
       "      <td>0.001773</td>\n",
       "      <td>-0.073345</td>\n",
       "      <td>0.060014</td>\n",
       "      <td>-0.072462</td>\n",
       "      <td>0.059771</td>\n",
       "      <td>0.116126</td>\n",
       "      <td>0.161956</td>\n",
       "      <td>-0.044957</td>\n",
       "      <td>1.000000</td>\n",
       "      <td>-0.032394</td>\n",
       "      <td>0.077153</td>\n",
       "    </tr>\n",
       "    <tr>\n",
       "      <th>2nd_road_number</th>\n",
       "      <td>-0.002964</td>\n",
       "      <td>-0.028757</td>\n",
       "      <td>0.018686</td>\n",
       "      <td>-0.027318</td>\n",
       "      <td>0.019483</td>\n",
       "      <td>0.013191</td>\n",
       "      <td>-0.005051</td>\n",
       "      <td>0.200435</td>\n",
       "      <td>-0.032394</td>\n",
       "      <td>1.000000</td>\n",
       "      <td>-0.013349</td>\n",
       "    </tr>\n",
       "    <tr>\n",
       "      <th>target</th>\n",
       "      <td>0.002239</td>\n",
       "      <td>-0.039648</td>\n",
       "      <td>0.031377</td>\n",
       "      <td>-0.039174</td>\n",
       "      <td>0.031414</td>\n",
       "      <td>-0.079648</td>\n",
       "      <td>0.058778</td>\n",
       "      <td>0.009492</td>\n",
       "      <td>0.077153</td>\n",
       "      <td>-0.013349</td>\n",
       "      <td>1.000000</td>\n",
       "    </tr>\n",
       "  </tbody>\n",
       "</table>\n",
       "</div>"
      ],
      "text/plain": [
       "                        accident_id  location_easting_osgr  \\\n",
       "accident_id                1.000000               0.002004   \n",
       "location_easting_osgr      0.002004               1.000000   \n",
       "location_northing_osgr    -0.002156              -0.445930   \n",
       "longitude                  0.002075               0.999383   \n",
       "latitude                  -0.002160              -0.448141   \n",
       "number_of_vehicles         0.000566               0.010667   \n",
       "number_of_casualties      -0.001519              -0.036682   \n",
       "1st_road_number           -0.002635              -0.115188   \n",
       "speed_limit                0.001773              -0.073345   \n",
       "2nd_road_number           -0.002964              -0.028757   \n",
       "target                     0.002239              -0.039648   \n",
       "\n",
       "                        location_northing_osgr  longitude  latitude  \\\n",
       "accident_id                          -0.002156   0.002075 -0.002160   \n",
       "location_easting_osgr                -0.445930   0.999383 -0.448141   \n",
       "location_northing_osgr                1.000000  -0.455514  0.999972   \n",
       "longitude                            -0.455514   1.000000 -0.457623   \n",
       "latitude                              0.999972  -0.457623  1.000000   \n",
       "number_of_vehicles                   -0.020433   0.011211 -0.020307   \n",
       "number_of_casualties                  0.023989  -0.035494  0.024099   \n",
       "1st_road_number                       0.041817  -0.112799  0.043026   \n",
       "speed_limit                           0.060014  -0.072462  0.059771   \n",
       "2nd_road_number                       0.018686  -0.027318  0.019483   \n",
       "target                                0.031377  -0.039174  0.031414   \n",
       "\n",
       "                        number_of_vehicles  number_of_casualties  \\\n",
       "accident_id                       0.000566             -0.001519   \n",
       "location_easting_osgr             0.010667             -0.036682   \n",
       "location_northing_osgr           -0.020433              0.023989   \n",
       "longitude                         0.011211             -0.035494   \n",
       "latitude                         -0.020307              0.024099   \n",
       "number_of_vehicles                1.000000              0.247041   \n",
       "number_of_casualties              0.247041              1.000000   \n",
       "1st_road_number                  -0.012272              0.003852   \n",
       "speed_limit                       0.116126              0.161956   \n",
       "2nd_road_number                   0.013191             -0.005051   \n",
       "target                           -0.079648              0.058778   \n",
       "\n",
       "                        1st_road_number  speed_limit  2nd_road_number  \\\n",
       "accident_id                   -0.002635     0.001773        -0.002964   \n",
       "location_easting_osgr         -0.115188    -0.073345        -0.028757   \n",
       "location_northing_osgr         0.041817     0.060014         0.018686   \n",
       "longitude                     -0.112799    -0.072462        -0.027318   \n",
       "latitude                       0.043026     0.059771         0.019483   \n",
       "number_of_vehicles            -0.012272     0.116126         0.013191   \n",
       "number_of_casualties           0.003852     0.161956        -0.005051   \n",
       "1st_road_number                1.000000    -0.044957         0.200435   \n",
       "speed_limit                   -0.044957     1.000000        -0.032394   \n",
       "2nd_road_number                0.200435    -0.032394         1.000000   \n",
       "target                         0.009492     0.077153        -0.013349   \n",
       "\n",
       "                          target  \n",
       "accident_id             0.002239  \n",
       "location_easting_osgr  -0.039648  \n",
       "location_northing_osgr  0.031377  \n",
       "longitude              -0.039174  \n",
       "latitude                0.031414  \n",
       "number_of_vehicles     -0.079648  \n",
       "number_of_casualties    0.058778  \n",
       "1st_road_number         0.009492  \n",
       "speed_limit             0.077153  \n",
       "2nd_road_number        -0.013349  \n",
       "target                  1.000000  "
      ]
     },
     "execution_count": 37,
     "metadata": {},
     "output_type": "execute_result"
    }
   ],
   "source": [
    "accident_data.corr()"
   ]
  },
  {
   "cell_type": "code",
   "execution_count": 38,
   "metadata": {},
   "outputs": [
    {
     "name": "stdout",
     "output_type": "stream",
     "text": [
      "Saving figure bad_visualization_plot\n"
     ]
    },
    {
     "data": {
      "image/png": "[encoded data removed]",
      "text/plain": [
       "<Figure size 288x288 with 1 Axes>"
      ]
     },
     "metadata": {
      "needs_background": "light"
     },
     "output_type": "display_data"
    }
   ],
   "source": [
    "accident_data.plot(kind=\"scatter\", x=\"longitude\", y=\"latitude\", figsize=(4,4))\n",
    "save_fig(\"bad_visualization_plot\")"
   ]
  },
  {
   "cell_type": "code",
   "execution_count": 39,
   "metadata": {},
   "outputs": [
    {
     "name": "stdout",
     "output_type": "stream",
     "text": [
      "Saving figure better_visualization_plot\n"
     ]
    },
    {
     "data": {
      "image/png": "[encoded data removed]",
      "text/plain": [
       "<Figure size 288x288 with 1 Axes>"
      ]
     },
     "metadata": {
      "needs_background": "light"
     },
     "output_type": "display_data"
    }
   ],
   "source": [
    "accident_data.plot(kind=\"scatter\", x=\"longitude\", y=\"latitude\", alpha=0.1, figsize=(4,4))\n",
    "save_fig(\"better_visualization_plot\")"
   ]
  },
  {
   "cell_type": "code",
   "execution_count": 40,
   "metadata": {},
   "outputs": [
    {
     "name": "stdout",
     "output_type": "stream",
     "text": [
      "Saving figure UK_accidents_scatterplot\n"
     ]
    },
    {
     "data": {
      "image/png": "[encoded data removed]",
      "text/plain": [
       "<Figure size 432x288 with 2 Axes>"
      ]
     },
     "metadata": {
      "needs_background": "light"
     },
     "output_type": "display_data"
    }
   ],
   "source": [
    "accident_data.plot(kind=\"scatter\", x=\"longitude\", y=\"latitude\", alpha=0.4,\n",
    "    s=accident_data[\"number_of_vehicles\"], label=\"number_of_vehicles\", figsize=(6,4),\n",
    "    c=\"target\", cmap=plt.get_cmap(\"jet\"), colorbar=True,\n",
    "    sharex=False)\n",
    "plt.legend()\n",
    "save_fig(\"UK_accidents_scatterplot\")"
   ]
  },
  {
   "cell_type": "markdown",
   "metadata": {},
   "source": [
    "## Merge with Vehicles Dataset"
   ]
  },
  {
   "cell_type": "code",
   "execution_count": 41,
   "metadata": {},
   "outputs": [],
   "source": [
    "vehicles_data = load_transport_data('vehicles.csv')"
   ]
  },
  {
   "cell_type": "code",
   "execution_count": 42,
   "metadata": {},
   "outputs": [
    {
     "name": "stdout",
     "output_type": "stream",
     "text": [
      "<class 'pandas.core.frame.DataFrame'>\n",
      "RangeIndex: 451396 entries, 0 to 451395\n",
      "Data columns (total 22 columns):\n",
      "accident_id                         451396 non-null int64\n",
      "Vehicle_Reference                   451396 non-null int64\n",
      "Vehicle_Type                        450779 non-null object\n",
      "Towing_and_Articulation             448721 non-null object\n",
      "Vehicle_Manoeuvre                   448705 non-null object\n",
      "Vehicle_Location-Restricted_Lane    448684 non-null object\n",
      "Junction_Location                   449410 non-null object\n",
      "Skidding_and_Overturning            448522 non-null object\n",
      "Hit_Object_in_Carriageway           448311 non-null object\n",
      "Vehicle_Leaving_Carriageway         448490 non-null object\n",
      "Hit_Object_off_Carriageway          449570 non-null object\n",
      "1st_Point_of_Impact                 448590 non-null object\n",
      "Was_Vehicle_Left_Hand_Drive?        447677 non-null object\n",
      "Journey_Purpose_of_Driver           451363 non-null object\n",
      "Sex_of_Driver                       451351 non-null object\n",
      "Age_of_Driver                       400498 non-null float64\n",
      "Engine_Capacity_(CC)                347911 non-null float64\n",
      "Propulsion_Code                     348788 non-null object\n",
      "Age_of_Vehicle                      331960 non-null float64\n",
      "Driver_IMD_Decile                   309768 non-null float64\n",
      "Driver_Home_Area_Type               346713 non-null float64\n",
      "Vehicle_IMD_Decile                  309768 non-null float64\n",
      "dtypes: float64(6), int64(2), object(14)\n",
      "memory usage: 75.8+ MB\n"
     ]
    }
   ],
   "source": [
    "vehicles_data.info()"
   ]
  },
  {
   "cell_type": "code",
   "execution_count": 43,
   "metadata": {},
   "outputs": [
    {
     "data": {
      "image/png": "[encoded data removed]",
      "text/plain": [
       "<Figure size 432x432 with 4 Axes>"
      ]
     },
     "metadata": {
      "needs_background": "light"
     },
     "output_type": "display_data"
    }
   ],
   "source": [
    "vehicles_data[['Age_of_Driver', 'Age_of_Vehicle', 'Engine_Capacity_(CC)']].hist(figsize=(6,6))\n",
    "plt.show()"
   ]
  },
  {
   "cell_type": "code",
   "execution_count": 44,
   "metadata": {},
   "outputs": [
    {
     "data": {
      "text/html": [
       "<div>\n",
       "<style scoped>\n",
       "    .dataframe tbody tr th:only-of-type {\n",
       "        vertical-align: middle;\n",
       "    }\n",
       "\n",
       "    .dataframe tbody tr th {\n",
       "        vertical-align: top;\n",
       "    }\n",
       "\n",
       "    .dataframe thead th {\n",
       "        text-align: right;\n",
       "    }\n",
       "</style>\n",
       "<table border=\"1\" class=\"dataframe\">\n",
       "  <thead>\n",
       "    <tr style=\"text-align: right;\">\n",
       "      <th></th>\n",
       "      <th>AgeBucket</th>\n",
       "    </tr>\n",
       "    <tr>\n",
       "      <th>AgeBucket</th>\n",
       "      <th></th>\n",
       "    </tr>\n",
       "  </thead>\n",
       "  <tbody>\n",
       "    <tr>\n",
       "      <th>0.0</th>\n",
       "      <td>0.0</td>\n",
       "    </tr>\n",
       "    <tr>\n",
       "      <th>10.0</th>\n",
       "      <td>268440.0</td>\n",
       "    </tr>\n",
       "    <tr>\n",
       "      <th>20.0</th>\n",
       "      <td>1929720.0</td>\n",
       "    </tr>\n",
       "    <tr>\n",
       "      <th>30.0</th>\n",
       "      <td>2611140.0</td>\n",
       "    </tr>\n",
       "    <tr>\n",
       "      <th>40.0</th>\n",
       "      <td>2982520.0</td>\n",
       "    </tr>\n",
       "    <tr>\n",
       "      <th>50.0</th>\n",
       "      <td>3025850.0</td>\n",
       "    </tr>\n",
       "    <tr>\n",
       "      <th>60.0</th>\n",
       "      <td>1842660.0</td>\n",
       "    </tr>\n",
       "    <tr>\n",
       "      <th>70.0</th>\n",
       "      <td>1112650.0</td>\n",
       "    </tr>\n",
       "    <tr>\n",
       "      <th>80.0</th>\n",
       "      <td>569920.0</td>\n",
       "    </tr>\n",
       "    <tr>\n",
       "      <th>90.0</th>\n",
       "      <td>64440.0</td>\n",
       "    </tr>\n",
       "    <tr>\n",
       "      <th>100.0</th>\n",
       "      <td>200.0</td>\n",
       "    </tr>\n",
       "  </tbody>\n",
       "</table>\n",
       "</div>"
      ],
      "text/plain": [
       "           AgeBucket\n",
       "AgeBucket           \n",
       "0.0              0.0\n",
       "10.0        268440.0\n",
       "20.0       1929720.0\n",
       "30.0       2611140.0\n",
       "40.0       2982520.0\n",
       "50.0       3025850.0\n",
       "60.0       1842660.0\n",
       "70.0       1112650.0\n",
       "80.0        569920.0\n",
       "90.0         64440.0\n",
       "100.0          200.0"
      ]
     },
     "execution_count": 44,
     "metadata": {},
     "output_type": "execute_result"
    }
   ],
   "source": [
    "vehicles_data['AgeBucket'] = vehicles_data['Age_of_Driver'] // 10 * 10\n",
    "vehicles_data.groupby('AgeBucket')[['AgeBucket']].sum()\n",
    "#vehicles_data.head()"
   ]
  },
  {
   "cell_type": "code",
   "execution_count": 45,
   "metadata": {},
   "outputs": [],
   "source": [
    "vehicles_data['count'] = 1"
   ]
  },
  {
   "cell_type": "code",
   "execution_count": 46,
   "metadata": {},
   "outputs": [
    {
     "data": {
      "text/html": [
       "<div>\n",
       "<style scoped>\n",
       "    .dataframe tbody tr th:only-of-type {\n",
       "        vertical-align: middle;\n",
       "    }\n",
       "\n",
       "    .dataframe tbody tr th {\n",
       "        vertical-align: top;\n",
       "    }\n",
       "\n",
       "    .dataframe thead th {\n",
       "        text-align: right;\n",
       "    }\n",
       "</style>\n",
       "<table border=\"1\" class=\"dataframe\">\n",
       "  <thead>\n",
       "    <tr style=\"text-align: right;\">\n",
       "      <th>AgeBucket</th>\n",
       "      <th>0.0</th>\n",
       "      <th>10.0</th>\n",
       "      <th>20.0</th>\n",
       "      <th>30.0</th>\n",
       "      <th>40.0</th>\n",
       "      <th>50.0</th>\n",
       "      <th>60.0</th>\n",
       "      <th>70.0</th>\n",
       "      <th>80.0</th>\n",
       "      <th>90.0</th>\n",
       "      <th>100.0</th>\n",
       "    </tr>\n",
       "    <tr>\n",
       "      <th>accident_id</th>\n",
       "      <th></th>\n",
       "      <th></th>\n",
       "      <th></th>\n",
       "      <th></th>\n",
       "      <th></th>\n",
       "      <th></th>\n",
       "      <th></th>\n",
       "      <th></th>\n",
       "      <th></th>\n",
       "      <th></th>\n",
       "      <th></th>\n",
       "    </tr>\n",
       "  </thead>\n",
       "  <tbody>\n",
       "    <tr>\n",
       "      <th>300000</th>\n",
       "      <td>0.0</td>\n",
       "      <td>0.0</td>\n",
       "      <td>1.0</td>\n",
       "      <td>0.0</td>\n",
       "      <td>0.0</td>\n",
       "      <td>0.0</td>\n",
       "      <td>0.0</td>\n",
       "      <td>0.0</td>\n",
       "      <td>0.0</td>\n",
       "      <td>0.0</td>\n",
       "      <td>0.0</td>\n",
       "    </tr>\n",
       "    <tr>\n",
       "      <th>300001</th>\n",
       "      <td>0.0</td>\n",
       "      <td>0.0</td>\n",
       "      <td>0.0</td>\n",
       "      <td>0.0</td>\n",
       "      <td>1.0</td>\n",
       "      <td>0.0</td>\n",
       "      <td>0.0</td>\n",
       "      <td>0.0</td>\n",
       "      <td>0.0</td>\n",
       "      <td>0.0</td>\n",
       "      <td>0.0</td>\n",
       "    </tr>\n",
       "    <tr>\n",
       "      <th>300002</th>\n",
       "      <td>0.0</td>\n",
       "      <td>0.0</td>\n",
       "      <td>0.0</td>\n",
       "      <td>0.0</td>\n",
       "      <td>0.0</td>\n",
       "      <td>1.0</td>\n",
       "      <td>1.0</td>\n",
       "      <td>0.0</td>\n",
       "      <td>0.0</td>\n",
       "      <td>0.0</td>\n",
       "      <td>0.0</td>\n",
       "    </tr>\n",
       "    <tr>\n",
       "      <th>300003</th>\n",
       "      <td>0.0</td>\n",
       "      <td>1.0</td>\n",
       "      <td>0.0</td>\n",
       "      <td>0.0</td>\n",
       "      <td>0.0</td>\n",
       "      <td>0.0</td>\n",
       "      <td>0.0</td>\n",
       "      <td>0.0</td>\n",
       "      <td>0.0</td>\n",
       "      <td>0.0</td>\n",
       "      <td>0.0</td>\n",
       "    </tr>\n",
       "    <tr>\n",
       "      <th>300004</th>\n",
       "      <td>0.0</td>\n",
       "      <td>0.0</td>\n",
       "      <td>0.0</td>\n",
       "      <td>2.0</td>\n",
       "      <td>0.0</td>\n",
       "      <td>0.0</td>\n",
       "      <td>0.0</td>\n",
       "      <td>0.0</td>\n",
       "      <td>0.0</td>\n",
       "      <td>0.0</td>\n",
       "      <td>0.0</td>\n",
       "    </tr>\n",
       "  </tbody>\n",
       "</table>\n",
       "</div>"
      ],
      "text/plain": [
       "AgeBucket    0.0    10.0   20.0   30.0   40.0   50.0   60.0   70.0   80.0   \\\n",
       "accident_id                                                                  \n",
       "300000         0.0    0.0    1.0    0.0    0.0    0.0    0.0    0.0    0.0   \n",
       "300001         0.0    0.0    0.0    0.0    1.0    0.0    0.0    0.0    0.0   \n",
       "300002         0.0    0.0    0.0    0.0    0.0    1.0    1.0    0.0    0.0   \n",
       "300003         0.0    1.0    0.0    0.0    0.0    0.0    0.0    0.0    0.0   \n",
       "300004         0.0    0.0    0.0    2.0    0.0    0.0    0.0    0.0    0.0   \n",
       "\n",
       "AgeBucket    90.0   100.0  \n",
       "accident_id                \n",
       "300000         0.0    0.0  \n",
       "300001         0.0    0.0  \n",
       "300002         0.0    0.0  \n",
       "300003         0.0    0.0  \n",
       "300004         0.0    0.0  "
      ]
     },
     "execution_count": 46,
     "metadata": {},
     "output_type": "execute_result"
    }
   ],
   "source": [
    "vehicles_data.groupby(['accident_id', 'AgeBucket'])['count'].sum().unstack().fillna(0).head()"
   ]
  },
  {
   "cell_type": "code",
   "execution_count": 47,
   "metadata": {},
   "outputs": [
    {
     "data": {
      "text/html": [
       "<div>\n",
       "<style scoped>\n",
       "    .dataframe tbody tr th:only-of-type {\n",
       "        vertical-align: middle;\n",
       "    }\n",
       "\n",
       "    .dataframe tbody tr th {\n",
       "        vertical-align: top;\n",
       "    }\n",
       "\n",
       "    .dataframe thead th {\n",
       "        text-align: right;\n",
       "    }\n",
       "</style>\n",
       "<table border=\"1\" class=\"dataframe\">\n",
       "  <thead>\n",
       "    <tr style=\"text-align: right;\">\n",
       "      <th></th>\n",
       "      <th>Engine_Capacity_(CC)</th>\n",
       "    </tr>\n",
       "  </thead>\n",
       "  <tbody>\n",
       "    <tr>\n",
       "      <th>count</th>\n",
       "      <td>347911.000000</td>\n",
       "    </tr>\n",
       "    <tr>\n",
       "      <th>mean</th>\n",
       "      <td>1869.255712</td>\n",
       "    </tr>\n",
       "    <tr>\n",
       "      <th>std</th>\n",
       "      <td>1627.516805</td>\n",
       "    </tr>\n",
       "    <tr>\n",
       "      <th>min</th>\n",
       "      <td>1.000000</td>\n",
       "    </tr>\n",
       "    <tr>\n",
       "      <th>25%</th>\n",
       "      <td>1248.000000</td>\n",
       "    </tr>\n",
       "    <tr>\n",
       "      <th>50%</th>\n",
       "      <td>1598.000000</td>\n",
       "    </tr>\n",
       "    <tr>\n",
       "      <th>75%</th>\n",
       "      <td>1995.000000</td>\n",
       "    </tr>\n",
       "    <tr>\n",
       "      <th>max</th>\n",
       "      <td>91000.000000</td>\n",
       "    </tr>\n",
       "  </tbody>\n",
       "</table>\n",
       "</div>"
      ],
      "text/plain": [
       "       Engine_Capacity_(CC)\n",
       "count         347911.000000\n",
       "mean            1869.255712\n",
       "std             1627.516805\n",
       "min                1.000000\n",
       "25%             1248.000000\n",
       "50%             1598.000000\n",
       "75%             1995.000000\n",
       "max            91000.000000"
      ]
     },
     "execution_count": 47,
     "metadata": {},
     "output_type": "execute_result"
    }
   ],
   "source": [
    "vehicles_data[['Engine_Capacity_(CC)']].describe()"
   ]
  },
  {
   "cell_type": "code",
   "execution_count": 48,
   "metadata": {},
   "outputs": [
    {
     "data": {
      "text/html": [
       "<div>\n",
       "<style scoped>\n",
       "    .dataframe tbody tr th:only-of-type {\n",
       "        vertical-align: middle;\n",
       "    }\n",
       "\n",
       "    .dataframe tbody tr th {\n",
       "        vertical-align: top;\n",
       "    }\n",
       "\n",
       "    .dataframe thead th {\n",
       "        text-align: right;\n",
       "    }\n",
       "</style>\n",
       "<table border=\"1\" class=\"dataframe\">\n",
       "  <thead>\n",
       "    <tr style=\"text-align: right;\">\n",
       "      <th>Vehicle_Type</th>\n",
       "      <th>Agricultural vehicle</th>\n",
       "      <th>Bus or coach (17 or more pass seats)</th>\n",
       "      <th>Car</th>\n",
       "      <th>Electric motorcycle</th>\n",
       "      <th>Goods 7.5 tonnes mgw and over</th>\n",
       "      <th>Goods over 3.5t. and under 7.5t</th>\n",
       "      <th>Goods vehicle - unknown weight</th>\n",
       "      <th>Minibus (8 - 16 passenger seats)</th>\n",
       "      <th>Mobility scooter</th>\n",
       "      <th>Motorcycle - unknown cc</th>\n",
       "      <th>Motorcycle 125cc and under</th>\n",
       "      <th>Motorcycle 50cc and under</th>\n",
       "      <th>Motorcycle over 125cc and up to 500cc</th>\n",
       "      <th>Motorcycle over 500cc</th>\n",
       "      <th>Other vehicle</th>\n",
       "      <th>Pedal cycle</th>\n",
       "      <th>Ridden horse</th>\n",
       "      <th>Taxi/Private hire car</th>\n",
       "      <th>Tram</th>\n",
       "      <th>Van / Goods 3.5 tonnes mgw or under</th>\n",
       "    </tr>\n",
       "    <tr>\n",
       "      <th>accident_id</th>\n",
       "      <th></th>\n",
       "      <th></th>\n",
       "      <th></th>\n",
       "      <th></th>\n",
       "      <th></th>\n",
       "      <th></th>\n",
       "      <th></th>\n",
       "      <th></th>\n",
       "      <th></th>\n",
       "      <th></th>\n",
       "      <th></th>\n",
       "      <th></th>\n",
       "      <th></th>\n",
       "      <th></th>\n",
       "      <th></th>\n",
       "      <th></th>\n",
       "      <th></th>\n",
       "      <th></th>\n",
       "      <th></th>\n",
       "      <th></th>\n",
       "    </tr>\n",
       "  </thead>\n",
       "  <tbody>\n",
       "    <tr>\n",
       "      <th>300000</th>\n",
       "      <td>0.0</td>\n",
       "      <td>0.0</td>\n",
       "      <td>1.0</td>\n",
       "      <td>0.0</td>\n",
       "      <td>0.0</td>\n",
       "      <td>0.0</td>\n",
       "      <td>0.0</td>\n",
       "      <td>0.0</td>\n",
       "      <td>0.0</td>\n",
       "      <td>0.0</td>\n",
       "      <td>0.0</td>\n",
       "      <td>0.0</td>\n",
       "      <td>0.0</td>\n",
       "      <td>0.0</td>\n",
       "      <td>0.0</td>\n",
       "      <td>0.0</td>\n",
       "      <td>0.0</td>\n",
       "      <td>0.0</td>\n",
       "      <td>0.0</td>\n",
       "      <td>1.0</td>\n",
       "    </tr>\n",
       "    <tr>\n",
       "      <th>300001</th>\n",
       "      <td>0.0</td>\n",
       "      <td>0.0</td>\n",
       "      <td>2.0</td>\n",
       "      <td>0.0</td>\n",
       "      <td>0.0</td>\n",
       "      <td>0.0</td>\n",
       "      <td>0.0</td>\n",
       "      <td>0.0</td>\n",
       "      <td>0.0</td>\n",
       "      <td>0.0</td>\n",
       "      <td>0.0</td>\n",
       "      <td>0.0</td>\n",
       "      <td>0.0</td>\n",
       "      <td>0.0</td>\n",
       "      <td>0.0</td>\n",
       "      <td>0.0</td>\n",
       "      <td>0.0</td>\n",
       "      <td>0.0</td>\n",
       "      <td>0.0</td>\n",
       "      <td>0.0</td>\n",
       "    </tr>\n",
       "    <tr>\n",
       "      <th>300002</th>\n",
       "      <td>0.0</td>\n",
       "      <td>0.0</td>\n",
       "      <td>1.0</td>\n",
       "      <td>0.0</td>\n",
       "      <td>0.0</td>\n",
       "      <td>0.0</td>\n",
       "      <td>0.0</td>\n",
       "      <td>0.0</td>\n",
       "      <td>0.0</td>\n",
       "      <td>0.0</td>\n",
       "      <td>0.0</td>\n",
       "      <td>0.0</td>\n",
       "      <td>0.0</td>\n",
       "      <td>1.0</td>\n",
       "      <td>0.0</td>\n",
       "      <td>0.0</td>\n",
       "      <td>0.0</td>\n",
       "      <td>0.0</td>\n",
       "      <td>0.0</td>\n",
       "      <td>0.0</td>\n",
       "    </tr>\n",
       "    <tr>\n",
       "      <th>300003</th>\n",
       "      <td>0.0</td>\n",
       "      <td>0.0</td>\n",
       "      <td>1.0</td>\n",
       "      <td>0.0</td>\n",
       "      <td>0.0</td>\n",
       "      <td>0.0</td>\n",
       "      <td>0.0</td>\n",
       "      <td>0.0</td>\n",
       "      <td>0.0</td>\n",
       "      <td>0.0</td>\n",
       "      <td>0.0</td>\n",
       "      <td>0.0</td>\n",
       "      <td>0.0</td>\n",
       "      <td>0.0</td>\n",
       "      <td>0.0</td>\n",
       "      <td>0.0</td>\n",
       "      <td>0.0</td>\n",
       "      <td>0.0</td>\n",
       "      <td>0.0</td>\n",
       "      <td>0.0</td>\n",
       "    </tr>\n",
       "    <tr>\n",
       "      <th>300004</th>\n",
       "      <td>0.0</td>\n",
       "      <td>0.0</td>\n",
       "      <td>1.0</td>\n",
       "      <td>0.0</td>\n",
       "      <td>0.0</td>\n",
       "      <td>0.0</td>\n",
       "      <td>0.0</td>\n",
       "      <td>0.0</td>\n",
       "      <td>0.0</td>\n",
       "      <td>0.0</td>\n",
       "      <td>1.0</td>\n",
       "      <td>0.0</td>\n",
       "      <td>0.0</td>\n",
       "      <td>0.0</td>\n",
       "      <td>0.0</td>\n",
       "      <td>0.0</td>\n",
       "      <td>0.0</td>\n",
       "      <td>0.0</td>\n",
       "      <td>0.0</td>\n",
       "      <td>0.0</td>\n",
       "    </tr>\n",
       "  </tbody>\n",
       "</table>\n",
       "</div>"
      ],
      "text/plain": [
       "Vehicle_Type  Agricultural vehicle  Bus or coach (17 or more pass seats)  Car  \\\n",
       "accident_id                                                                     \n",
       "300000                         0.0                                   0.0  1.0   \n",
       "300001                         0.0                                   0.0  2.0   \n",
       "300002                         0.0                                   0.0  1.0   \n",
       "300003                         0.0                                   0.0  1.0   \n",
       "300004                         0.0                                   0.0  1.0   \n",
       "\n",
       "Vehicle_Type  Electric motorcycle  Goods 7.5 tonnes mgw and over  \\\n",
       "accident_id                                                        \n",
       "300000                        0.0                            0.0   \n",
       "300001                        0.0                            0.0   \n",
       "300002                        0.0                            0.0   \n",
       "300003                        0.0                            0.0   \n",
       "300004                        0.0                            0.0   \n",
       "\n",
       "Vehicle_Type  Goods over 3.5t. and under 7.5t  Goods vehicle - unknown weight  \\\n",
       "accident_id                                                                     \n",
       "300000                                    0.0                             0.0   \n",
       "300001                                    0.0                             0.0   \n",
       "300002                                    0.0                             0.0   \n",
       "300003                                    0.0                             0.0   \n",
       "300004                                    0.0                             0.0   \n",
       "\n",
       "Vehicle_Type  Minibus (8 - 16 passenger seats)  Mobility scooter  \\\n",
       "accident_id                                                        \n",
       "300000                                     0.0               0.0   \n",
       "300001                                     0.0               0.0   \n",
       "300002                                     0.0               0.0   \n",
       "300003                                     0.0               0.0   \n",
       "300004                                     0.0               0.0   \n",
       "\n",
       "Vehicle_Type  Motorcycle - unknown cc  Motorcycle 125cc and under  \\\n",
       "accident_id                                                         \n",
       "300000                            0.0                         0.0   \n",
       "300001                            0.0                         0.0   \n",
       "300002                            0.0                         0.0   \n",
       "300003                            0.0                         0.0   \n",
       "300004                            0.0                         1.0   \n",
       "\n",
       "Vehicle_Type  Motorcycle 50cc and under  \\\n",
       "accident_id                               \n",
       "300000                              0.0   \n",
       "300001                              0.0   \n",
       "300002                              0.0   \n",
       "300003                              0.0   \n",
       "300004                              0.0   \n",
       "\n",
       "Vehicle_Type  Motorcycle over 125cc and up to 500cc  Motorcycle over 500cc  \\\n",
       "accident_id                                                                  \n",
       "300000                                          0.0                    0.0   \n",
       "300001                                          0.0                    0.0   \n",
       "300002                                          0.0                    1.0   \n",
       "300003                                          0.0                    0.0   \n",
       "300004                                          0.0                    0.0   \n",
       "\n",
       "Vehicle_Type  Other vehicle  Pedal cycle  Ridden horse  Taxi/Private hire car  \\\n",
       "accident_id                                                                     \n",
       "300000                  0.0          0.0           0.0                    0.0   \n",
       "300001                  0.0          0.0           0.0                    0.0   \n",
       "300002                  0.0          0.0           0.0                    0.0   \n",
       "300003                  0.0          0.0           0.0                    0.0   \n",
       "300004                  0.0          0.0           0.0                    0.0   \n",
       "\n",
       "Vehicle_Type  Tram  Van / Goods 3.5 tonnes mgw or under  \n",
       "accident_id                                              \n",
       "300000         0.0                                  1.0  \n",
       "300001         0.0                                  0.0  \n",
       "300002         0.0                                  0.0  \n",
       "300003         0.0                                  0.0  \n",
       "300004         0.0                                  0.0  "
      ]
     },
     "execution_count": 48,
     "metadata": {},
     "output_type": "execute_result"
    }
   ],
   "source": [
    "vehicles_data.groupby(['accident_id', 'Vehicle_Type'])['count'].sum().unstack().fillna(0).head()"
   ]
  },
  {
   "cell_type": "code",
   "execution_count": 49,
   "metadata": {},
   "outputs": [
    {
     "data": {
      "text/html": [
       "<div>\n",
       "<style scoped>\n",
       "    .dataframe tbody tr th:only-of-type {\n",
       "        vertical-align: middle;\n",
       "    }\n",
       "\n",
       "    .dataframe tbody tr th {\n",
       "        vertical-align: top;\n",
       "    }\n",
       "\n",
       "    .dataframe thead th {\n",
       "        text-align: right;\n",
       "    }\n",
       "</style>\n",
       "<table border=\"1\" class=\"dataframe\">\n",
       "  <thead>\n",
       "    <tr style=\"text-align: right;\">\n",
       "      <th>Was_Vehicle_Left_Hand_Drive?</th>\n",
       "      <th>No</th>\n",
       "      <th>Yes</th>\n",
       "    </tr>\n",
       "    <tr>\n",
       "      <th>accident_id</th>\n",
       "      <th></th>\n",
       "      <th></th>\n",
       "    </tr>\n",
       "  </thead>\n",
       "  <tbody>\n",
       "    <tr>\n",
       "      <th>300000</th>\n",
       "      <td>2.0</td>\n",
       "      <td>0.0</td>\n",
       "    </tr>\n",
       "    <tr>\n",
       "      <th>300001</th>\n",
       "      <td>2.0</td>\n",
       "      <td>0.0</td>\n",
       "    </tr>\n",
       "    <tr>\n",
       "      <th>300002</th>\n",
       "      <td>2.0</td>\n",
       "      <td>0.0</td>\n",
       "    </tr>\n",
       "    <tr>\n",
       "      <th>300003</th>\n",
       "      <td>1.0</td>\n",
       "      <td>0.0</td>\n",
       "    </tr>\n",
       "    <tr>\n",
       "      <th>300004</th>\n",
       "      <td>2.0</td>\n",
       "      <td>0.0</td>\n",
       "    </tr>\n",
       "  </tbody>\n",
       "</table>\n",
       "</div>"
      ],
      "text/plain": [
       "Was_Vehicle_Left_Hand_Drive?   No  Yes\n",
       "accident_id                           \n",
       "300000                        2.0  0.0\n",
       "300001                        2.0  0.0\n",
       "300002                        2.0  0.0\n",
       "300003                        1.0  0.0\n",
       "300004                        2.0  0.0"
      ]
     },
     "execution_count": 49,
     "metadata": {},
     "output_type": "execute_result"
    }
   ],
   "source": [
    "vehicles_data.groupby(['accident_id', 'Was_Vehicle_Left_Hand_Drive?'])['count'].sum().unstack().fillna(0).head()"
   ]
  },
  {
   "cell_type": "code",
   "execution_count": 50,
   "metadata": {},
   "outputs": [
    {
     "data": {
      "text/html": [
       "<div>\n",
       "<style scoped>\n",
       "    .dataframe tbody tr th:only-of-type {\n",
       "        vertical-align: middle;\n",
       "    }\n",
       "\n",
       "    .dataframe tbody tr th {\n",
       "        vertical-align: top;\n",
       "    }\n",
       "\n",
       "    .dataframe thead th {\n",
       "        text-align: right;\n",
       "    }\n",
       "</style>\n",
       "<table border=\"1\" class=\"dataframe\">\n",
       "  <thead>\n",
       "    <tr style=\"text-align: right;\">\n",
       "      <th>Junction_Location</th>\n",
       "      <th>Approaching junction or waiting/parked at junction approach</th>\n",
       "      <th>Cleared junction or waiting/parked at junction exit</th>\n",
       "      <th>Entering from slip road</th>\n",
       "      <th>Entering main road</th>\n",
       "      <th>Entering roundabout</th>\n",
       "      <th>Leaving main road</th>\n",
       "      <th>Leaving roundabout</th>\n",
       "      <th>Mid Junction - on roundabout or on main road</th>\n",
       "      <th>Not at or within 20 metres of junction</th>\n",
       "    </tr>\n",
       "    <tr>\n",
       "      <th>accident_id</th>\n",
       "      <th></th>\n",
       "      <th></th>\n",
       "      <th></th>\n",
       "      <th></th>\n",
       "      <th></th>\n",
       "      <th></th>\n",
       "      <th></th>\n",
       "      <th></th>\n",
       "      <th></th>\n",
       "    </tr>\n",
       "  </thead>\n",
       "  <tbody>\n",
       "    <tr>\n",
       "      <th>300000</th>\n",
       "      <td>1.0</td>\n",
       "      <td>1.0</td>\n",
       "      <td>0.0</td>\n",
       "      <td>0.0</td>\n",
       "      <td>0.0</td>\n",
       "      <td>0.0</td>\n",
       "      <td>0.0</td>\n",
       "      <td>0.0</td>\n",
       "      <td>0.0</td>\n",
       "    </tr>\n",
       "    <tr>\n",
       "      <th>300001</th>\n",
       "      <td>0.0</td>\n",
       "      <td>0.0</td>\n",
       "      <td>0.0</td>\n",
       "      <td>0.0</td>\n",
       "      <td>0.0</td>\n",
       "      <td>0.0</td>\n",
       "      <td>0.0</td>\n",
       "      <td>0.0</td>\n",
       "      <td>2.0</td>\n",
       "    </tr>\n",
       "    <tr>\n",
       "      <th>300002</th>\n",
       "      <td>0.0</td>\n",
       "      <td>0.0</td>\n",
       "      <td>0.0</td>\n",
       "      <td>0.0</td>\n",
       "      <td>0.0</td>\n",
       "      <td>0.0</td>\n",
       "      <td>0.0</td>\n",
       "      <td>0.0</td>\n",
       "      <td>2.0</td>\n",
       "    </tr>\n",
       "    <tr>\n",
       "      <th>300003</th>\n",
       "      <td>0.0</td>\n",
       "      <td>0.0</td>\n",
       "      <td>0.0</td>\n",
       "      <td>0.0</td>\n",
       "      <td>0.0</td>\n",
       "      <td>0.0</td>\n",
       "      <td>0.0</td>\n",
       "      <td>0.0</td>\n",
       "      <td>1.0</td>\n",
       "    </tr>\n",
       "    <tr>\n",
       "      <th>300004</th>\n",
       "      <td>0.0</td>\n",
       "      <td>0.0</td>\n",
       "      <td>0.0</td>\n",
       "      <td>0.0</td>\n",
       "      <td>1.0</td>\n",
       "      <td>0.0</td>\n",
       "      <td>0.0</td>\n",
       "      <td>1.0</td>\n",
       "      <td>0.0</td>\n",
       "    </tr>\n",
       "  </tbody>\n",
       "</table>\n",
       "</div>"
      ],
      "text/plain": [
       "Junction_Location  Approaching junction or waiting/parked at junction approach  \\\n",
       "accident_id                                                                      \n",
       "300000                                                           1.0             \n",
       "300001                                                           0.0             \n",
       "300002                                                           0.0             \n",
       "300003                                                           0.0             \n",
       "300004                                                           0.0             \n",
       "\n",
       "Junction_Location  Cleared junction or waiting/parked at junction exit  \\\n",
       "accident_id                                                              \n",
       "300000                                                           1.0     \n",
       "300001                                                           0.0     \n",
       "300002                                                           0.0     \n",
       "300003                                                           0.0     \n",
       "300004                                                           0.0     \n",
       "\n",
       "Junction_Location  Entering from slip road  Entering main road  \\\n",
       "accident_id                                                      \n",
       "300000                                 0.0                 0.0   \n",
       "300001                                 0.0                 0.0   \n",
       "300002                                 0.0                 0.0   \n",
       "300003                                 0.0                 0.0   \n",
       "300004                                 0.0                 0.0   \n",
       "\n",
       "Junction_Location  Entering roundabout  Leaving main road  Leaving roundabout  \\\n",
       "accident_id                                                                     \n",
       "300000                             0.0                0.0                 0.0   \n",
       "300001                             0.0                0.0                 0.0   \n",
       "300002                             0.0                0.0                 0.0   \n",
       "300003                             0.0                0.0                 0.0   \n",
       "300004                             1.0                0.0                 0.0   \n",
       "\n",
       "Junction_Location  Mid Junction - on roundabout or on main road  \\\n",
       "accident_id                                                       \n",
       "300000                                                      0.0   \n",
       "300001                                                      0.0   \n",
       "300002                                                      0.0   \n",
       "300003                                                      0.0   \n",
       "300004                                                      1.0   \n",
       "\n",
       "Junction_Location  Not at or within 20 metres of junction  \n",
       "accident_id                                                \n",
       "300000                                                0.0  \n",
       "300001                                                2.0  \n",
       "300002                                                2.0  \n",
       "300003                                                1.0  \n",
       "300004                                                0.0  "
      ]
     },
     "execution_count": 50,
     "metadata": {},
     "output_type": "execute_result"
    }
   ],
   "source": [
    "vehicles_data.groupby(['accident_id', 'Junction_Location'])['count'].sum().unstack().fillna(0).head()"
   ]
  },
  {
   "cell_type": "code",
   "execution_count": 51,
   "metadata": {},
   "outputs": [
    {
     "data": {
      "text/html": [
       "<div>\n",
       "<style scoped>\n",
       "    .dataframe tbody tr th:only-of-type {\n",
       "        vertical-align: middle;\n",
       "    }\n",
       "\n",
       "    .dataframe tbody tr th {\n",
       "        vertical-align: top;\n",
       "    }\n",
       "\n",
       "    .dataframe thead th {\n",
       "        text-align: right;\n",
       "    }\n",
       "</style>\n",
       "<table border=\"1\" class=\"dataframe\">\n",
       "  <thead>\n",
       "    <tr style=\"text-align: right;\">\n",
       "      <th></th>\n",
       "      <th>accident_id</th>\n",
       "      <th>Vehicle_Reference</th>\n",
       "      <th>Vehicle_Type</th>\n",
       "      <th>Towing_and_Articulation</th>\n",
       "      <th>Vehicle_Manoeuvre</th>\n",
       "      <th>Vehicle_Location-Restricted_Lane</th>\n",
       "      <th>Junction_Location</th>\n",
       "      <th>Skidding_and_Overturning</th>\n",
       "      <th>Hit_Object_in_Carriageway</th>\n",
       "      <th>Vehicle_Leaving_Carriageway</th>\n",
       "      <th>...</th>\n",
       "      <th>Sex_of_Driver</th>\n",
       "      <th>Age_of_Driver</th>\n",
       "      <th>Engine_Capacity_(CC)</th>\n",
       "      <th>Propulsion_Code</th>\n",
       "      <th>Age_of_Vehicle</th>\n",
       "      <th>Driver_IMD_Decile</th>\n",
       "      <th>Driver_Home_Area_Type</th>\n",
       "      <th>Vehicle_IMD_Decile</th>\n",
       "      <th>AgeBucket</th>\n",
       "      <th>count</th>\n",
       "    </tr>\n",
       "  </thead>\n",
       "  <tbody>\n",
       "    <tr>\n",
       "      <th>224646</th>\n",
       "      <td>300000</td>\n",
       "      <td>1</td>\n",
       "      <td>Car</td>\n",
       "      <td>No tow/articulation</td>\n",
       "      <td>Overtaking static vehicle - offside</td>\n",
       "      <td>On main c'way - not in restricted lane</td>\n",
       "      <td>Cleared junction or waiting/parked at junction...</td>\n",
       "      <td>None</td>\n",
       "      <td>None</td>\n",
       "      <td>Did not leave carriageway</td>\n",
       "      <td>...</td>\n",
       "      <td>Female</td>\n",
       "      <td>20.0</td>\n",
       "      <td>1086.0</td>\n",
       "      <td>Petrol</td>\n",
       "      <td>11.0</td>\n",
       "      <td>6.0</td>\n",
       "      <td>1.0</td>\n",
       "      <td>6.0</td>\n",
       "      <td>20.0</td>\n",
       "      <td>1</td>\n",
       "    </tr>\n",
       "    <tr>\n",
       "      <th>224647</th>\n",
       "      <td>300000</td>\n",
       "      <td>2</td>\n",
       "      <td>Van / Goods 3.5 tonnes mgw or under</td>\n",
       "      <td>No tow/articulation</td>\n",
       "      <td>Going ahead other</td>\n",
       "      <td>On main c'way - not in restricted lane</td>\n",
       "      <td>Approaching junction or waiting/parked at junc...</td>\n",
       "      <td>None</td>\n",
       "      <td>None</td>\n",
       "      <td>Did not leave carriageway</td>\n",
       "      <td>...</td>\n",
       "      <td>Not known</td>\n",
       "      <td>NaN</td>\n",
       "      <td>1753.0</td>\n",
       "      <td>Heavy oil</td>\n",
       "      <td>12.0</td>\n",
       "      <td>NaN</td>\n",
       "      <td>NaN</td>\n",
       "      <td>NaN</td>\n",
       "      <td>NaN</td>\n",
       "      <td>1</td>\n",
       "    </tr>\n",
       "  </tbody>\n",
       "</table>\n",
       "<p>2 rows × 24 columns</p>\n",
       "</div>"
      ],
      "text/plain": [
       "        accident_id  Vehicle_Reference                         Vehicle_Type  \\\n",
       "224646       300000                  1                                  Car   \n",
       "224647       300000                  2  Van / Goods 3.5 tonnes mgw or under   \n",
       "\n",
       "       Towing_and_Articulation                    Vehicle_Manoeuvre  \\\n",
       "224646     No tow/articulation  Overtaking static vehicle - offside   \n",
       "224647     No tow/articulation                    Going ahead other   \n",
       "\n",
       "              Vehicle_Location-Restricted_Lane  \\\n",
       "224646  On main c'way - not in restricted lane   \n",
       "224647  On main c'way - not in restricted lane   \n",
       "\n",
       "                                        Junction_Location  \\\n",
       "224646  Cleared junction or waiting/parked at junction...   \n",
       "224647  Approaching junction or waiting/parked at junc...   \n",
       "\n",
       "       Skidding_and_Overturning Hit_Object_in_Carriageway  \\\n",
       "224646                     None                      None   \n",
       "224647                     None                      None   \n",
       "\n",
       "       Vehicle_Leaving_Carriageway  ...   Sex_of_Driver Age_of_Driver  \\\n",
       "224646   Did not leave carriageway  ...          Female          20.0   \n",
       "224647   Did not leave carriageway  ...       Not known           NaN   \n",
       "\n",
       "       Engine_Capacity_(CC) Propulsion_Code Age_of_Vehicle  Driver_IMD_Decile  \\\n",
       "224646               1086.0          Petrol           11.0                6.0   \n",
       "224647               1753.0       Heavy oil           12.0                NaN   \n",
       "\n",
       "        Driver_Home_Area_Type Vehicle_IMD_Decile  AgeBucket  count  \n",
       "224646                    1.0                6.0       20.0      1  \n",
       "224647                    NaN                NaN        NaN      1  \n",
       "\n",
       "[2 rows x 24 columns]"
      ]
     },
     "execution_count": 51,
     "metadata": {},
     "output_type": "execute_result"
    }
   ],
   "source": [
    "vehicles_data.loc[vehicles_data.accident_id==300000]"
   ]
  },
  {
   "cell_type": "code",
   "execution_count": 52,
   "metadata": {},
   "outputs": [
    {
     "data": {
      "text/html": [
       "<div>\n",
       "<style scoped>\n",
       "    .dataframe tbody tr th:only-of-type {\n",
       "        vertical-align: middle;\n",
       "    }\n",
       "\n",
       "    .dataframe tbody tr th {\n",
       "        vertical-align: top;\n",
       "    }\n",
       "\n",
       "    .dataframe thead th {\n",
       "        text-align: right;\n",
       "    }\n",
       "</style>\n",
       "<table border=\"1\" class=\"dataframe\">\n",
       "  <thead>\n",
       "    <tr style=\"text-align: right;\">\n",
       "      <th></th>\n",
       "      <th>Age_of_Driver</th>\n",
       "      <th>Age_of_Vehicle</th>\n",
       "    </tr>\n",
       "    <tr>\n",
       "      <th>accident_id</th>\n",
       "      <th></th>\n",
       "      <th></th>\n",
       "    </tr>\n",
       "  </thead>\n",
       "  <tbody>\n",
       "    <tr>\n",
       "      <th>300000</th>\n",
       "      <td>20.0</td>\n",
       "      <td>11.5</td>\n",
       "    </tr>\n",
       "    <tr>\n",
       "      <th>300001</th>\n",
       "      <td>41.0</td>\n",
       "      <td>NaN</td>\n",
       "    </tr>\n",
       "    <tr>\n",
       "      <th>300002</th>\n",
       "      <td>55.5</td>\n",
       "      <td>22.0</td>\n",
       "    </tr>\n",
       "    <tr>\n",
       "      <th>300003</th>\n",
       "      <td>17.0</td>\n",
       "      <td>9.0</td>\n",
       "    </tr>\n",
       "    <tr>\n",
       "      <th>300004</th>\n",
       "      <td>34.0</td>\n",
       "      <td>2.0</td>\n",
       "    </tr>\n",
       "  </tbody>\n",
       "</table>\n",
       "</div>"
      ],
      "text/plain": [
       "             Age_of_Driver  Age_of_Vehicle\n",
       "accident_id                               \n",
       "300000                20.0            11.5\n",
       "300001                41.0             NaN\n",
       "300002                55.5            22.0\n",
       "300003                17.0             9.0\n",
       "300004                34.0             2.0"
      ]
     },
     "execution_count": 52,
     "metadata": {},
     "output_type": "execute_result"
    }
   ],
   "source": [
    "pd.pivot_table(vehicles_data, index='accident_id', values=['Age_of_Vehicle', 'Age_of_Driver'], aggfunc='mean').head()"
   ]
  },
  {
   "cell_type": "code",
   "execution_count": 53,
   "metadata": {},
   "outputs": [],
   "source": [
    "from sklearn.base import BaseEstimator, TransformerMixin\n",
    "\n",
    "class AddVehiclesAttributes(BaseEstimator, TransformerMixin):\n",
    "    def fit(self, X, y=None):\n",
    "        print('AddVehiclesAttributes fit')\n",
    "        return self\n",
    "    \n",
    "    def transform(self, X, y=None):\n",
    "        print('AddVehiclesAttributes transform')\n",
    "        \n",
    "        cat_attributes = [\n",
    "            'Sex_of_Driver',\n",
    "            'Vehicle_Type',\n",
    "            'Was_Vehicle_Left_Hand_Drive?',\n",
    "            'Junction_Location']\n",
    "        \n",
    "        for attr in cat_attributes:\n",
    "            X = AddVehiclesAttributes.merge_categorical_vehicle_attribute(X, col=attr)\n",
    "            \n",
    "        X = AddVehiclesAttributes.merge_numerical_vehicle_attribute(X)\n",
    "        \n",
    "        return X\n",
    "    \n",
    "    @staticmethod\n",
    "    def merge_categorical_vehicle_attribute(X, col='Sex_of_Driver'):\n",
    "        vehicles_data = load_transport_data('vehicles.csv')\n",
    "        vehicles_data['counts'] = 1\n",
    "        vehicles_cat = vehicles_data.groupby(['accident_id',col])['counts'].sum().unstack().fillna(0)\n",
    "        return pd.merge(left=X, right=vehicles_cat, left_on='accident_id', right_index=True)\n",
    "    \n",
    "    @staticmethod\n",
    "    def merge_numerical_vehicle_attribute(X):\n",
    "        vehicles_data = load_transport_data('vehicles.csv')\n",
    "        return pd.merge(left=X, \n",
    "                        right=pd.pivot_table(vehicles_data,\n",
    "                                             index='accident_id', \n",
    "                                             values=['Age_of_Driver', 'Age_of_Vehicle', 'Engine_Capacity_(CC)'],\n",
    "                                             aggfunc='mean'),\n",
    "                        left_on='accident_id',\n",
    "                        right_index=True)"
   ]
  },
  {
   "cell_type": "code",
   "execution_count": 54,
   "metadata": {},
   "outputs": [],
   "source": [
    "vehicle_adder = AddVehiclesAttributes()"
   ]
  },
  {
   "cell_type": "code",
   "execution_count": 55,
   "metadata": {},
   "outputs": [
    {
     "name": "stdout",
     "output_type": "stream",
     "text": [
      "AddVehiclesAttributes fit\n",
      "AddVehiclesAttributes transform\n",
      "<class 'pandas.core.frame.DataFrame'>\n",
      "Int64Index: 105828 entries, 96365 to 121958\n",
      "Data columns (total 67 columns):\n",
      "accident_id                                                    105828 non-null int64\n",
      "location_easting_osgr                                          105828 non-null float64\n",
      "location_northing_osgr                                         105828 non-null float64\n",
      "longitude                                                      105828 non-null float64\n",
      "latitude                                                       105828 non-null float64\n",
      "number_of_vehicles                                             105828 non-null int64\n",
      "number_of_casualties                                           105828 non-null int64\n",
      "date                                                           105828 non-null object\n",
      "time                                                           105828 non-null object\n",
      "1st_road_class                                                 105828 non-null object\n",
      "1st_road_number                                                105828 non-null int64\n",
      "road_type                                                      105828 non-null object\n",
      "speed_limit                                                    105828 non-null float64\n",
      "junction_detail                                                105818 non-null object\n",
      "junction_control                                               62159 non-null object\n",
      "2nd_road_class                                                 61710 non-null object\n",
      "2nd_road_number                                                105356 non-null float64\n",
      "pedestrian_crossing-human_control                              105698 non-null object\n",
      "pedestrian_crossing-physical_facilities                        105574 non-null object\n",
      "light_conditions                                               105820 non-null object\n",
      "weather_conditions                                             105820 non-null object\n",
      "road_surface_conditions                                        105454 non-null object\n",
      "special_conditions_at_site                                     105668 non-null object\n",
      "carriageway_hazards                                            105648 non-null object\n",
      "urban_or_rural_area                                            105828 non-null object\n",
      "lsoa_of_accident_location                                      99260 non-null object\n",
      "police_force                                                   105828 non-null object\n",
      "local_authority_district                                       105828 non-null object\n",
      "local_authority_highway                                        105828 non-null object\n",
      "target                                                         105828 non-null int64\n",
      "Female                                                         105828 non-null float64\n",
      "Male                                                           105828 non-null float64\n",
      "Not known                                                      105828 non-null float64\n",
      "Agricultural vehicle                                           105828 non-null float64\n",
      "Bus or coach (17 or more pass seats)                           105828 non-null float64\n",
      "Car                                                            105828 non-null float64\n",
      "Electric motorcycle                                            105828 non-null float64\n",
      "Goods 7.5 tonnes mgw and over                                  105828 non-null float64\n",
      "Goods over 3.5t. and under 7.5t                                105828 non-null float64\n",
      "Goods vehicle - unknown weight                                 105828 non-null float64\n",
      "Minibus (8 - 16 passenger seats)                               105828 non-null float64\n",
      "Mobility scooter                                               105828 non-null float64\n",
      "Motorcycle - unknown cc                                        105828 non-null float64\n",
      "Motorcycle 125cc and under                                     105828 non-null float64\n",
      "Motorcycle 50cc and under                                      105828 non-null float64\n",
      "Motorcycle over 125cc and up to 500cc                          105828 non-null float64\n",
      "Motorcycle over 500cc                                          105828 non-null float64\n",
      "Other vehicle                                                  105828 non-null float64\n",
      "Pedal cycle                                                    105828 non-null float64\n",
      "Ridden horse                                                   105828 non-null float64\n",
      "Taxi/Private hire car                                          105828 non-null float64\n",
      "Tram                                                           105828 non-null float64\n",
      "Van / Goods 3.5 tonnes mgw or under                            105828 non-null float64\n",
      "No                                                             105828 non-null float64\n",
      "Yes                                                            105828 non-null float64\n",
      "Approaching junction or waiting/parked at junction approach    105828 non-null float64\n",
      "Cleared junction or waiting/parked at junction exit            105828 non-null float64\n",
      "Entering from slip road                                        105828 non-null float64\n",
      "Entering main road                                             105828 non-null float64\n",
      "Entering roundabout                                            105828 non-null float64\n",
      "Leaving main road                                              105828 non-null float64\n",
      "Leaving roundabout                                             105828 non-null float64\n",
      "Mid Junction - on roundabout or on main road                   105828 non-null float64\n",
      "Not at or within 20 metres of junction                         105828 non-null float64\n",
      "Age_of_Driver                                                  104354 non-null float64\n",
      "Age_of_Vehicle                                                 93854 non-null float64\n",
      "Engine_Capacity_(CC)                                           96103 non-null float64\n",
      "dtypes: float64(43), int64(5), object(19)\n",
      "memory usage: 54.9+ MB\n"
     ]
    }
   ],
   "source": [
    "accident_with_vehicles = vehicle_adder.fit_transform(accident_data)\n",
    "accident_with_vehicles.info()"
   ]
  },
  {
   "cell_type": "code",
   "execution_count": 56,
   "metadata": {},
   "outputs": [
    {
     "data": {
      "text/html": [
       "<div>\n",
       "<style scoped>\n",
       "    .dataframe tbody tr th:only-of-type {\n",
       "        vertical-align: middle;\n",
       "    }\n",
       "\n",
       "    .dataframe tbody tr th {\n",
       "        vertical-align: top;\n",
       "    }\n",
       "\n",
       "    .dataframe thead th {\n",
       "        text-align: right;\n",
       "    }\n",
       "</style>\n",
       "<table border=\"1\" class=\"dataframe\">\n",
       "  <thead>\n",
       "    <tr style=\"text-align: right;\">\n",
       "      <th></th>\n",
       "      <th>accident_id</th>\n",
       "      <th>location_easting_osgr</th>\n",
       "      <th>location_northing_osgr</th>\n",
       "      <th>longitude</th>\n",
       "      <th>latitude</th>\n",
       "      <th>number_of_vehicles</th>\n",
       "      <th>number_of_casualties</th>\n",
       "      <th>date</th>\n",
       "      <th>time</th>\n",
       "      <th>1st_road_class</th>\n",
       "      <th>...</th>\n",
       "      <th>Entering from slip road</th>\n",
       "      <th>Entering main road</th>\n",
       "      <th>Entering roundabout</th>\n",
       "      <th>Leaving main road</th>\n",
       "      <th>Leaving roundabout</th>\n",
       "      <th>Mid Junction - on roundabout or on main road</th>\n",
       "      <th>Not at or within 20 metres of junction</th>\n",
       "      <th>Age_of_Driver</th>\n",
       "      <th>Age_of_Vehicle</th>\n",
       "      <th>Engine_Capacity_(CC)</th>\n",
       "    </tr>\n",
       "  </thead>\n",
       "  <tbody>\n",
       "    <tr>\n",
       "      <th>96365</th>\n",
       "      <td>320754</td>\n",
       "      <td>436967.0</td>\n",
       "      <td>116357.0</td>\n",
       "      <td>-1.475189</td>\n",
       "      <td>50.945410</td>\n",
       "      <td>4</td>\n",
       "      <td>1</td>\n",
       "      <td>2016-04-29</td>\n",
       "      <td>15:20</td>\n",
       "      <td>Motorway</td>\n",
       "      <td>...</td>\n",
       "      <td>0.0</td>\n",
       "      <td>0.0</td>\n",
       "      <td>0.0</td>\n",
       "      <td>0.0</td>\n",
       "      <td>0.0</td>\n",
       "      <td>4.0</td>\n",
       "      <td>0.0</td>\n",
       "      <td>37.250000</td>\n",
       "      <td>3.666667</td>\n",
       "      <td>1678.666667</td>\n",
       "    </tr>\n",
       "    <tr>\n",
       "      <th>129456</th>\n",
       "      <td>382572</td>\n",
       "      <td>341017.0</td>\n",
       "      <td>731306.0</td>\n",
       "      <td>-2.958981</td>\n",
       "      <td>56.470229</td>\n",
       "      <td>3</td>\n",
       "      <td>2</td>\n",
       "      <td>2016-08-06</td>\n",
       "      <td>18:15</td>\n",
       "      <td>Unclassified</td>\n",
       "      <td>...</td>\n",
       "      <td>0.0</td>\n",
       "      <td>0.0</td>\n",
       "      <td>0.0</td>\n",
       "      <td>0.0</td>\n",
       "      <td>0.0</td>\n",
       "      <td>0.0</td>\n",
       "      <td>0.0</td>\n",
       "      <td>32.666667</td>\n",
       "      <td>2.000000</td>\n",
       "      <td>1242.000000</td>\n",
       "    </tr>\n",
       "    <tr>\n",
       "      <th>129441</th>\n",
       "      <td>301060</td>\n",
       "      <td>339991.0</td>\n",
       "      <td>733454.0</td>\n",
       "      <td>-2.976128</td>\n",
       "      <td>56.489394</td>\n",
       "      <td>1</td>\n",
       "      <td>1</td>\n",
       "      <td>2016-05-31</td>\n",
       "      <td>19:35</td>\n",
       "      <td>Unclassified</td>\n",
       "      <td>...</td>\n",
       "      <td>0.0</td>\n",
       "      <td>0.0</td>\n",
       "      <td>0.0</td>\n",
       "      <td>0.0</td>\n",
       "      <td>0.0</td>\n",
       "      <td>0.0</td>\n",
       "      <td>1.0</td>\n",
       "      <td>NaN</td>\n",
       "      <td>2.000000</td>\n",
       "      <td>1248.000000</td>\n",
       "    </tr>\n",
       "    <tr>\n",
       "      <th>104030</th>\n",
       "      <td>463285</td>\n",
       "      <td>591484.0</td>\n",
       "      <td>158928.0</td>\n",
       "      <td>0.745259</td>\n",
       "      <td>51.297211</td>\n",
       "      <td>1</td>\n",
       "      <td>1</td>\n",
       "      <td>2016-03-27</td>\n",
       "      <td>07:48</td>\n",
       "      <td>Motorway</td>\n",
       "      <td>...</td>\n",
       "      <td>0.0</td>\n",
       "      <td>0.0</td>\n",
       "      <td>0.0</td>\n",
       "      <td>0.0</td>\n",
       "      <td>0.0</td>\n",
       "      <td>0.0</td>\n",
       "      <td>1.0</td>\n",
       "      <td>27.000000</td>\n",
       "      <td>4.000000</td>\n",
       "      <td>1560.000000</td>\n",
       "    </tr>\n",
       "    <tr>\n",
       "      <th>15911</th>\n",
       "      <td>494190</td>\n",
       "      <td>531230.0</td>\n",
       "      <td>178310.0</td>\n",
       "      <td>-0.111251</td>\n",
       "      <td>51.488465</td>\n",
       "      <td>2</td>\n",
       "      <td>1</td>\n",
       "      <td>2016-08-08</td>\n",
       "      <td>19:45</td>\n",
       "      <td>A</td>\n",
       "      <td>...</td>\n",
       "      <td>0.0</td>\n",
       "      <td>0.0</td>\n",
       "      <td>0.0</td>\n",
       "      <td>0.0</td>\n",
       "      <td>0.0</td>\n",
       "      <td>1.0</td>\n",
       "      <td>0.0</td>\n",
       "      <td>46.500000</td>\n",
       "      <td>7.000000</td>\n",
       "      <td>1797.000000</td>\n",
       "    </tr>\n",
       "  </tbody>\n",
       "</table>\n",
       "<p>5 rows × 67 columns</p>\n",
       "</div>"
      ],
      "text/plain": [
       "        accident_id  location_easting_osgr  location_northing_osgr  longitude  \\\n",
       "96365        320754               436967.0                116357.0  -1.475189   \n",
       "129456       382572               341017.0                731306.0  -2.958981   \n",
       "129441       301060               339991.0                733454.0  -2.976128   \n",
       "104030       463285               591484.0                158928.0   0.745259   \n",
       "15911        494190               531230.0                178310.0  -0.111251   \n",
       "\n",
       "         latitude  number_of_vehicles  number_of_casualties        date  \\\n",
       "96365   50.945410                   4                     1  2016-04-29   \n",
       "129456  56.470229                   3                     2  2016-08-06   \n",
       "129441  56.489394                   1                     1  2016-05-31   \n",
       "104030  51.297211                   1                     1  2016-03-27   \n",
       "15911   51.488465                   2                     1  2016-08-08   \n",
       "\n",
       "         time 1st_road_class         ...           Entering from slip road  \\\n",
       "96365   15:20       Motorway         ...                               0.0   \n",
       "129456  18:15   Unclassified         ...                               0.0   \n",
       "129441  19:35   Unclassified         ...                               0.0   \n",
       "104030  07:48       Motorway         ...                               0.0   \n",
       "15911   19:45              A         ...                               0.0   \n",
       "\n",
       "       Entering main road  Entering roundabout Leaving main road  \\\n",
       "96365                 0.0                  0.0               0.0   \n",
       "129456                0.0                  0.0               0.0   \n",
       "129441                0.0                  0.0               0.0   \n",
       "104030                0.0                  0.0               0.0   \n",
       "15911                 0.0                  0.0               0.0   \n",
       "\n",
       "       Leaving roundabout Mid Junction - on roundabout or on main road  \\\n",
       "96365                 0.0                                          4.0   \n",
       "129456                0.0                                          0.0   \n",
       "129441                0.0                                          0.0   \n",
       "104030                0.0                                          0.0   \n",
       "15911                 0.0                                          1.0   \n",
       "\n",
       "        Not at or within 20 metres of junction Age_of_Driver Age_of_Vehicle  \\\n",
       "96365                                      0.0     37.250000       3.666667   \n",
       "129456                                     0.0     32.666667       2.000000   \n",
       "129441                                     1.0           NaN       2.000000   \n",
       "104030                                     1.0     27.000000       4.000000   \n",
       "15911                                      0.0     46.500000       7.000000   \n",
       "\n",
       "       Engine_Capacity_(CC)  \n",
       "96365           1678.666667  \n",
       "129456          1242.000000  \n",
       "129441          1248.000000  \n",
       "104030          1560.000000  \n",
       "15911           1797.000000  \n",
       "\n",
       "[5 rows x 67 columns]"
      ]
     },
     "execution_count": 56,
     "metadata": {},
     "output_type": "execute_result"
    }
   ],
   "source": [
    "accident_with_vehicles.head()"
   ]
  },
  {
   "cell_type": "markdown",
   "metadata": {},
   "source": [
    "# Preparing Data for ML"
   ]
  },
  {
   "cell_type": "code",
   "execution_count": 57,
   "metadata": {},
   "outputs": [],
   "source": [
    "from sklearn.base import BaseEstimator, TransformerMixin\n",
    "\n",
    "# A class to select numerical, categorical or datetime columns \n",
    "class DataFrameSelector(BaseEstimator, TransformerMixin):\n",
    "    def __init__(self, attribute_names):\n",
    "        self.attribute_names = attribute_names\n",
    "        \n",
    "    def fit(self, X, y=None):\n",
    "        print('DataFrameSelector fit')\n",
    "        return self\n",
    "    \n",
    "    def transform(self, X):\n",
    "        print('DataFrameSelector transform')\n",
    "        print('attributes names:', self.attribute_names)\n",
    "        return X[self.attribute_names]"
   ]
  },
  {
   "cell_type": "markdown",
   "metadata": {},
   "source": [
    "## Handling Categorical Attributes"
   ]
  },
  {
   "cell_type": "code",
   "execution_count": 58,
   "metadata": {},
   "outputs": [],
   "source": [
    "accident_data = train_set.copy()"
   ]
  },
  {
   "cell_type": "code",
   "execution_count": 59,
   "metadata": {},
   "outputs": [
    {
     "name": "stdout",
     "output_type": "stream",
     "text": [
      "AddVehiclesAttributes fit\n",
      "AddVehiclesAttributes transform\n"
     ]
    }
   ],
   "source": [
    "accident_and_vehicles_data = vehicle_adder.fit_transform(accident_data)"
   ]
  },
  {
   "cell_type": "code",
   "execution_count": 60,
   "metadata": {},
   "outputs": [
    {
     "data": {
      "text/plain": [
       "Index(['date', 'time', '1st_road_class', 'road_type', 'junction_detail',\n",
       "       'junction_control', '2nd_road_class',\n",
       "       'pedestrian_crossing-human_control',\n",
       "       'pedestrian_crossing-physical_facilities', 'light_conditions',\n",
       "       'weather_conditions', 'road_surface_conditions',\n",
       "       'special_conditions_at_site', 'carriageway_hazards',\n",
       "       'urban_or_rural_area', 'lsoa_of_accident_location', 'police_force',\n",
       "       'local_authority_district', 'local_authority_highway'],\n",
       "      dtype='object')"
      ]
     },
     "execution_count": 60,
     "metadata": {},
     "output_type": "execute_result"
    }
   ],
   "source": [
    "accident_and_vehicles_data.select_dtypes(include='object').columns"
   ]
  },
  {
   "cell_type": "code",
   "execution_count": 61,
   "metadata": {},
   "outputs": [],
   "source": [
    "cat_attributes = ['1st_road_class',\n",
    "                  'road_type',\n",
    "                  'junction_detail',\n",
    "                  'pedestrian_crossing-human_control',\n",
    "                  'pedestrian_crossing-physical_facilities',\n",
    "                  'light_conditions',\n",
    "                  'weather_conditions', \n",
    "                  'road_surface_conditions',\n",
    "                  'special_conditions_at_site',\n",
    "                  'carriageway_hazards',\n",
    "                  'urban_or_rural_area',\n",
    "                  'lsoa_of_accident_location']\n",
    "                  #'police_force',\n",
    "                  #'local_authority_district', \n",
    "                  #'local_authority_highway']"
   ]
  },
  {
   "cell_type": "code",
   "execution_count": 62,
   "metadata": {},
   "outputs": [],
   "source": [
    "class AccidentLocationSlicer(BaseEstimator, TransformerMixin):\n",
    "    def __init__(self, slicer=6):\n",
    "        self.slicer = slicer\n",
    "    \n",
    "    def fit(self, X, y=None):\n",
    "        print('AccidentLocationSlicer fit')\n",
    "        return self\n",
    "    \n",
    "    def transform(self, X, y=None):\n",
    "        print('AccidentLocationSlicer transform')\n",
    "        if 'lsoa_of_accident_location' in X.columns:\n",
    "            print('slicing')\n",
    "            return X.assign(lsoa_of_accident_location = X[['lsoa_of_accident_location']].apply(lambda x: x.str.slice(0, self.slicer)))\n",
    "        else:\n",
    "            return X"
   ]
  },
  {
   "cell_type": "code",
   "execution_count": 63,
   "metadata": {},
   "outputs": [],
   "source": [
    "from sklearn.pipeline import Pipeline\n",
    "\n",
    "cat_pipeline = Pipeline([\n",
    "    (\"selector\", DataFrameSelector(attribute_names=cat_attributes)),\n",
    "    (\"slicer\", AccidentLocationSlicer(slicer=6))\n",
    "])"
   ]
  },
  {
   "cell_type": "code",
   "execution_count": 64,
   "metadata": {},
   "outputs": [
    {
     "name": "stdout",
     "output_type": "stream",
     "text": [
      "DataFrameSelector fit\n",
      "DataFrameSelector transform\n",
      "attributes names: ['1st_road_class', 'road_type', 'junction_detail', 'pedestrian_crossing-human_control', 'pedestrian_crossing-physical_facilities', 'light_conditions', 'weather_conditions', 'road_surface_conditions', 'special_conditions_at_site', 'carriageway_hazards', 'urban_or_rural_area', 'lsoa_of_accident_location']\n",
      "AccidentLocationSlicer fit\n",
      "AccidentLocationSlicer transform\n",
      "slicing\n"
     ]
    },
    {
     "data": {
      "text/html": [
       "<div>\n",
       "<style scoped>\n",
       "    .dataframe tbody tr th:only-of-type {\n",
       "        vertical-align: middle;\n",
       "    }\n",
       "\n",
       "    .dataframe tbody tr th {\n",
       "        vertical-align: top;\n",
       "    }\n",
       "\n",
       "    .dataframe thead th {\n",
       "        text-align: right;\n",
       "    }\n",
       "</style>\n",
       "<table border=\"1\" class=\"dataframe\">\n",
       "  <thead>\n",
       "    <tr style=\"text-align: right;\">\n",
       "      <th></th>\n",
       "      <th>1st_road_class</th>\n",
       "      <th>road_type</th>\n",
       "      <th>junction_detail</th>\n",
       "      <th>pedestrian_crossing-human_control</th>\n",
       "      <th>pedestrian_crossing-physical_facilities</th>\n",
       "      <th>light_conditions</th>\n",
       "      <th>weather_conditions</th>\n",
       "      <th>road_surface_conditions</th>\n",
       "      <th>special_conditions_at_site</th>\n",
       "      <th>carriageway_hazards</th>\n",
       "      <th>urban_or_rural_area</th>\n",
       "      <th>lsoa_of_accident_location</th>\n",
       "    </tr>\n",
       "  </thead>\n",
       "  <tbody>\n",
       "    <tr>\n",
       "      <th>96365</th>\n",
       "      <td>Motorway</td>\n",
       "      <td>Roundabout</td>\n",
       "      <td>Roundabout</td>\n",
       "      <td>None within 50 metres</td>\n",
       "      <td>No physical crossing facilities within 50 metres</td>\n",
       "      <td>Daylight</td>\n",
       "      <td>Fine no high winds</td>\n",
       "      <td>Dry</td>\n",
       "      <td>None</td>\n",
       "      <td>None</td>\n",
       "      <td>Rural</td>\n",
       "      <td>E01023</td>\n",
       "    </tr>\n",
       "    <tr>\n",
       "      <th>129456</th>\n",
       "      <td>Unclassified</td>\n",
       "      <td>Single carriageway</td>\n",
       "      <td>T or staggered junction</td>\n",
       "      <td>None within 50 metres</td>\n",
       "      <td>No physical crossing facilities within 50 metres</td>\n",
       "      <td>Daylight</td>\n",
       "      <td>Fine no high winds</td>\n",
       "      <td>Dry</td>\n",
       "      <td>None</td>\n",
       "      <td>None</td>\n",
       "      <td>Urban</td>\n",
       "      <td>NaN</td>\n",
       "    </tr>\n",
       "    <tr>\n",
       "      <th>129441</th>\n",
       "      <td>Unclassified</td>\n",
       "      <td>Single carriageway</td>\n",
       "      <td>Not at junction or within 20 metres</td>\n",
       "      <td>None within 50 metres</td>\n",
       "      <td>No physical crossing facilities within 50 metres</td>\n",
       "      <td>Daylight</td>\n",
       "      <td>Fine no high winds</td>\n",
       "      <td>Dry</td>\n",
       "      <td>None</td>\n",
       "      <td>None</td>\n",
       "      <td>Urban</td>\n",
       "      <td>NaN</td>\n",
       "    </tr>\n",
       "    <tr>\n",
       "      <th>104030</th>\n",
       "      <td>Motorway</td>\n",
       "      <td>Dual carriageway</td>\n",
       "      <td>Not at junction or within 20 metres</td>\n",
       "      <td>None within 50 metres</td>\n",
       "      <td>No physical crossing facilities within 50 metres</td>\n",
       "      <td>Daylight</td>\n",
       "      <td>Raining no high winds</td>\n",
       "      <td>Wet or damp</td>\n",
       "      <td>None</td>\n",
       "      <td>None</td>\n",
       "      <td>Rural</td>\n",
       "      <td>E01024</td>\n",
       "    </tr>\n",
       "    <tr>\n",
       "      <th>15911</th>\n",
       "      <td>A</td>\n",
       "      <td>Dual carriageway</td>\n",
       "      <td>T or staggered junction</td>\n",
       "      <td>None within 50 metres</td>\n",
       "      <td>Pedestrian phase at traffic signal junction</td>\n",
       "      <td>Daylight</td>\n",
       "      <td>Fine no high winds</td>\n",
       "      <td>Dry</td>\n",
       "      <td>None</td>\n",
       "      <td>None</td>\n",
       "      <td>Urban</td>\n",
       "      <td>E01003</td>\n",
       "    </tr>\n",
       "  </tbody>\n",
       "</table>\n",
       "</div>"
      ],
      "text/plain": [
       "       1st_road_class           road_type  \\\n",
       "96365        Motorway          Roundabout   \n",
       "129456   Unclassified  Single carriageway   \n",
       "129441   Unclassified  Single carriageway   \n",
       "104030       Motorway    Dual carriageway   \n",
       "15911               A    Dual carriageway   \n",
       "\n",
       "                            junction_detail pedestrian_crossing-human_control  \\\n",
       "96365                            Roundabout             None within 50 metres   \n",
       "129456              T or staggered junction             None within 50 metres   \n",
       "129441  Not at junction or within 20 metres             None within 50 metres   \n",
       "104030  Not at junction or within 20 metres             None within 50 metres   \n",
       "15911               T or staggered junction             None within 50 metres   \n",
       "\n",
       "                 pedestrian_crossing-physical_facilities light_conditions  \\\n",
       "96365   No physical crossing facilities within 50 metres         Daylight   \n",
       "129456  No physical crossing facilities within 50 metres         Daylight   \n",
       "129441  No physical crossing facilities within 50 metres         Daylight   \n",
       "104030  No physical crossing facilities within 50 metres         Daylight   \n",
       "15911        Pedestrian phase at traffic signal junction         Daylight   \n",
       "\n",
       "           weather_conditions road_surface_conditions  \\\n",
       "96365      Fine no high winds                     Dry   \n",
       "129456     Fine no high winds                     Dry   \n",
       "129441     Fine no high winds                     Dry   \n",
       "104030  Raining no high winds             Wet or damp   \n",
       "15911      Fine no high winds                     Dry   \n",
       "\n",
       "       special_conditions_at_site carriageway_hazards urban_or_rural_area  \\\n",
       "96365                        None                None               Rural   \n",
       "129456                       None                None               Urban   \n",
       "129441                       None                None               Urban   \n",
       "104030                       None                None               Rural   \n",
       "15911                        None                None               Urban   \n",
       "\n",
       "       lsoa_of_accident_location  \n",
       "96365                     E01023  \n",
       "129456                       NaN  \n",
       "129441                       NaN  \n",
       "104030                    E01024  \n",
       "15911                     E01003  "
      ]
     },
     "execution_count": 64,
     "metadata": {},
     "output_type": "execute_result"
    }
   ],
   "source": [
    "cat_pipeline.fit_transform(accident_and_vehicles_data).head()"
   ]
  },
  {
   "cell_type": "markdown",
   "metadata": {},
   "source": [
    "We will also need an imputer for the text columns (the regular Imputer does not work on those)."
   ]
  },
  {
   "cell_type": "code",
   "execution_count": 65,
   "metadata": {},
   "outputs": [],
   "source": [
    "class CategoricalImputer(BaseEstimator, TransformerMixin):\n",
    "    def fit(self, X, y=None):\n",
    "        print('CategoricalImputer fit')\n",
    "        self.most_frequent_ = pd.Series([X[attr].value_counts().index[0] for attr in X], index=X.columns)\n",
    "        return self\n",
    "    \n",
    "    def transform(self, X, y=None):\n",
    "        print('CategoricalImputer transform')\n",
    "        print(self.most_frequent_)\n",
    "        return X.fillna(self.most_frequent_)"
   ]
  },
  {
   "cell_type": "code",
   "execution_count": 66,
   "metadata": {},
   "outputs": [],
   "source": [
    "from sklearn.pipeline import Pipeline\n",
    "\n",
    "cat_pipeline = Pipeline([\n",
    "    (\"selector\", DataFrameSelector(attribute_names=cat_attributes)),\n",
    "    (\"slicer\", AccidentLocationSlicer(slicer=6)),\n",
    "    (\"imputer\", CategoricalImputer())\n",
    "])"
   ]
  },
  {
   "cell_type": "code",
   "execution_count": 67,
   "metadata": {},
   "outputs": [
    {
     "data": {
      "text/html": [
       "<div>\n",
       "<style scoped>\n",
       "    .dataframe tbody tr th:only-of-type {\n",
       "        vertical-align: middle;\n",
       "    }\n",
       "\n",
       "    .dataframe tbody tr th {\n",
       "        vertical-align: top;\n",
       "    }\n",
       "\n",
       "    .dataframe thead th {\n",
       "        text-align: right;\n",
       "    }\n",
       "</style>\n",
       "<table border=\"1\" class=\"dataframe\">\n",
       "  <thead>\n",
       "    <tr style=\"text-align: right;\">\n",
       "      <th></th>\n",
       "      <th>1st_road_class</th>\n",
       "      <th>road_type</th>\n",
       "      <th>junction_detail</th>\n",
       "      <th>pedestrian_crossing-human_control</th>\n",
       "      <th>pedestrian_crossing-physical_facilities</th>\n",
       "      <th>light_conditions</th>\n",
       "      <th>weather_conditions</th>\n",
       "      <th>road_surface_conditions</th>\n",
       "      <th>special_conditions_at_site</th>\n",
       "      <th>carriageway_hazards</th>\n",
       "      <th>urban_or_rural_area</th>\n",
       "      <th>lsoa_of_accident_location</th>\n",
       "    </tr>\n",
       "  </thead>\n",
       "  <tbody>\n",
       "    <tr>\n",
       "      <th>96365</th>\n",
       "      <td>Motorway</td>\n",
       "      <td>Roundabout</td>\n",
       "      <td>Roundabout</td>\n",
       "      <td>None within 50 metres</td>\n",
       "      <td>No physical crossing facilities within 50 metres</td>\n",
       "      <td>Daylight</td>\n",
       "      <td>Fine no high winds</td>\n",
       "      <td>Dry</td>\n",
       "      <td>None</td>\n",
       "      <td>None</td>\n",
       "      <td>Rural</td>\n",
       "      <td>E01023170</td>\n",
       "    </tr>\n",
       "    <tr>\n",
       "      <th>129456</th>\n",
       "      <td>Unclassified</td>\n",
       "      <td>Single carriageway</td>\n",
       "      <td>T or staggered junction</td>\n",
       "      <td>None within 50 metres</td>\n",
       "      <td>No physical crossing facilities within 50 metres</td>\n",
       "      <td>Daylight</td>\n",
       "      <td>Fine no high winds</td>\n",
       "      <td>Dry</td>\n",
       "      <td>None</td>\n",
       "      <td>None</td>\n",
       "      <td>Urban</td>\n",
       "      <td>NaN</td>\n",
       "    </tr>\n",
       "    <tr>\n",
       "      <th>129441</th>\n",
       "      <td>Unclassified</td>\n",
       "      <td>Single carriageway</td>\n",
       "      <td>Not at junction or within 20 metres</td>\n",
       "      <td>None within 50 metres</td>\n",
       "      <td>No physical crossing facilities within 50 metres</td>\n",
       "      <td>Daylight</td>\n",
       "      <td>Fine no high winds</td>\n",
       "      <td>Dry</td>\n",
       "      <td>None</td>\n",
       "      <td>None</td>\n",
       "      <td>Urban</td>\n",
       "      <td>NaN</td>\n",
       "    </tr>\n",
       "    <tr>\n",
       "      <th>104030</th>\n",
       "      <td>Motorway</td>\n",
       "      <td>Dual carriageway</td>\n",
       "      <td>Not at junction or within 20 metres</td>\n",
       "      <td>None within 50 metres</td>\n",
       "      <td>No physical crossing facilities within 50 metres</td>\n",
       "      <td>Daylight</td>\n",
       "      <td>Raining no high winds</td>\n",
       "      <td>Wet or damp</td>\n",
       "      <td>None</td>\n",
       "      <td>None</td>\n",
       "      <td>Rural</td>\n",
       "      <td>E01024628</td>\n",
       "    </tr>\n",
       "    <tr>\n",
       "      <th>15911</th>\n",
       "      <td>A</td>\n",
       "      <td>Dual carriageway</td>\n",
       "      <td>T or staggered junction</td>\n",
       "      <td>None within 50 metres</td>\n",
       "      <td>Pedestrian phase at traffic signal junction</td>\n",
       "      <td>Daylight</td>\n",
       "      <td>Fine no high winds</td>\n",
       "      <td>Dry</td>\n",
       "      <td>None</td>\n",
       "      <td>None</td>\n",
       "      <td>Urban</td>\n",
       "      <td>E01003107</td>\n",
       "    </tr>\n",
       "  </tbody>\n",
       "</table>\n",
       "</div>"
      ],
      "text/plain": [
       "       1st_road_class           road_type  \\\n",
       "96365        Motorway          Roundabout   \n",
       "129456   Unclassified  Single carriageway   \n",
       "129441   Unclassified  Single carriageway   \n",
       "104030       Motorway    Dual carriageway   \n",
       "15911               A    Dual carriageway   \n",
       "\n",
       "                            junction_detail pedestrian_crossing-human_control  \\\n",
       "96365                            Roundabout             None within 50 metres   \n",
       "129456              T or staggered junction             None within 50 metres   \n",
       "129441  Not at junction or within 20 metres             None within 50 metres   \n",
       "104030  Not at junction or within 20 metres             None within 50 metres   \n",
       "15911               T or staggered junction             None within 50 metres   \n",
       "\n",
       "                 pedestrian_crossing-physical_facilities light_conditions  \\\n",
       "96365   No physical crossing facilities within 50 metres         Daylight   \n",
       "129456  No physical crossing facilities within 50 metres         Daylight   \n",
       "129441  No physical crossing facilities within 50 metres         Daylight   \n",
       "104030  No physical crossing facilities within 50 metres         Daylight   \n",
       "15911        Pedestrian phase at traffic signal junction         Daylight   \n",
       "\n",
       "           weather_conditions road_surface_conditions  \\\n",
       "96365      Fine no high winds                     Dry   \n",
       "129456     Fine no high winds                     Dry   \n",
       "129441     Fine no high winds                     Dry   \n",
       "104030  Raining no high winds             Wet or damp   \n",
       "15911      Fine no high winds                     Dry   \n",
       "\n",
       "       special_conditions_at_site carriageway_hazards urban_or_rural_area  \\\n",
       "96365                        None                None               Rural   \n",
       "129456                       None                None               Urban   \n",
       "129441                       None                None               Urban   \n",
       "104030                       None                None               Rural   \n",
       "15911                        None                None               Urban   \n",
       "\n",
       "       lsoa_of_accident_location  \n",
       "96365                  E01023170  \n",
       "129456                       NaN  \n",
       "129441                       NaN  \n",
       "104030                 E01024628  \n",
       "15911                  E01003107  "
      ]
     },
     "execution_count": 67,
     "metadata": {},
     "output_type": "execute_result"
    }
   ],
   "source": [
    "accident_and_vehicles_data[cat_attributes].head()"
   ]
  },
  {
   "cell_type": "code",
   "execution_count": 68,
   "metadata": {},
   "outputs": [
    {
     "name": "stdout",
     "output_type": "stream",
     "text": [
      "DataFrameSelector fit\n",
      "DataFrameSelector transform\n",
      "attributes names: ['1st_road_class', 'road_type', 'junction_detail', 'pedestrian_crossing-human_control', 'pedestrian_crossing-physical_facilities', 'light_conditions', 'weather_conditions', 'road_surface_conditions', 'special_conditions_at_site', 'carriageway_hazards', 'urban_or_rural_area', 'lsoa_of_accident_location']\n",
      "AccidentLocationSlicer fit\n",
      "AccidentLocationSlicer transform\n",
      "slicing\n",
      "CategoricalImputer fit\n",
      "CategoricalImputer transform\n",
      "1st_road_class                                                                            A\n",
      "road_type                                                                Single carriageway\n",
      "junction_detail                                         Not at junction or within 20 metres\n",
      "pedestrian_crossing-human_control                                     None within 50 metres\n",
      "pedestrian_crossing-physical_facilities    No physical crossing facilities within 50 metres\n",
      "light_conditions                                                                   Daylight\n",
      "weather_conditions                                                       Fine no high winds\n",
      "road_surface_conditions                                                                 Dry\n",
      "special_conditions_at_site                                                             None\n",
      "carriageway_hazards                                                                    None\n",
      "urban_or_rural_area                                                                   Urban\n",
      "lsoa_of_accident_location                                                            E01002\n",
      "dtype: object\n"
     ]
    },
    {
     "data": {
      "text/html": [
       "<div>\n",
       "<style scoped>\n",
       "    .dataframe tbody tr th:only-of-type {\n",
       "        vertical-align: middle;\n",
       "    }\n",
       "\n",
       "    .dataframe tbody tr th {\n",
       "        vertical-align: top;\n",
       "    }\n",
       "\n",
       "    .dataframe thead th {\n",
       "        text-align: right;\n",
       "    }\n",
       "</style>\n",
       "<table border=\"1\" class=\"dataframe\">\n",
       "  <thead>\n",
       "    <tr style=\"text-align: right;\">\n",
       "      <th></th>\n",
       "      <th>1st_road_class</th>\n",
       "      <th>road_type</th>\n",
       "      <th>junction_detail</th>\n",
       "      <th>pedestrian_crossing-human_control</th>\n",
       "      <th>pedestrian_crossing-physical_facilities</th>\n",
       "      <th>light_conditions</th>\n",
       "      <th>weather_conditions</th>\n",
       "      <th>road_surface_conditions</th>\n",
       "      <th>special_conditions_at_site</th>\n",
       "      <th>carriageway_hazards</th>\n",
       "      <th>urban_or_rural_area</th>\n",
       "      <th>lsoa_of_accident_location</th>\n",
       "    </tr>\n",
       "  </thead>\n",
       "  <tbody>\n",
       "    <tr>\n",
       "      <th>96365</th>\n",
       "      <td>Motorway</td>\n",
       "      <td>Roundabout</td>\n",
       "      <td>Roundabout</td>\n",
       "      <td>None within 50 metres</td>\n",
       "      <td>No physical crossing facilities within 50 metres</td>\n",
       "      <td>Daylight</td>\n",
       "      <td>Fine no high winds</td>\n",
       "      <td>Dry</td>\n",
       "      <td>None</td>\n",
       "      <td>None</td>\n",
       "      <td>Rural</td>\n",
       "      <td>E01023</td>\n",
       "    </tr>\n",
       "    <tr>\n",
       "      <th>129456</th>\n",
       "      <td>Unclassified</td>\n",
       "      <td>Single carriageway</td>\n",
       "      <td>T or staggered junction</td>\n",
       "      <td>None within 50 metres</td>\n",
       "      <td>No physical crossing facilities within 50 metres</td>\n",
       "      <td>Daylight</td>\n",
       "      <td>Fine no high winds</td>\n",
       "      <td>Dry</td>\n",
       "      <td>None</td>\n",
       "      <td>None</td>\n",
       "      <td>Urban</td>\n",
       "      <td>E01002</td>\n",
       "    </tr>\n",
       "    <tr>\n",
       "      <th>129441</th>\n",
       "      <td>Unclassified</td>\n",
       "      <td>Single carriageway</td>\n",
       "      <td>Not at junction or within 20 metres</td>\n",
       "      <td>None within 50 metres</td>\n",
       "      <td>No physical crossing facilities within 50 metres</td>\n",
       "      <td>Daylight</td>\n",
       "      <td>Fine no high winds</td>\n",
       "      <td>Dry</td>\n",
       "      <td>None</td>\n",
       "      <td>None</td>\n",
       "      <td>Urban</td>\n",
       "      <td>E01002</td>\n",
       "    </tr>\n",
       "    <tr>\n",
       "      <th>104030</th>\n",
       "      <td>Motorway</td>\n",
       "      <td>Dual carriageway</td>\n",
       "      <td>Not at junction or within 20 metres</td>\n",
       "      <td>None within 50 metres</td>\n",
       "      <td>No physical crossing facilities within 50 metres</td>\n",
       "      <td>Daylight</td>\n",
       "      <td>Raining no high winds</td>\n",
       "      <td>Wet or damp</td>\n",
       "      <td>None</td>\n",
       "      <td>None</td>\n",
       "      <td>Rural</td>\n",
       "      <td>E01024</td>\n",
       "    </tr>\n",
       "    <tr>\n",
       "      <th>15911</th>\n",
       "      <td>A</td>\n",
       "      <td>Dual carriageway</td>\n",
       "      <td>T or staggered junction</td>\n",
       "      <td>None within 50 metres</td>\n",
       "      <td>Pedestrian phase at traffic signal junction</td>\n",
       "      <td>Daylight</td>\n",
       "      <td>Fine no high winds</td>\n",
       "      <td>Dry</td>\n",
       "      <td>None</td>\n",
       "      <td>None</td>\n",
       "      <td>Urban</td>\n",
       "      <td>E01003</td>\n",
       "    </tr>\n",
       "  </tbody>\n",
       "</table>\n",
       "</div>"
      ],
      "text/plain": [
       "       1st_road_class           road_type  \\\n",
       "96365        Motorway          Roundabout   \n",
       "129456   Unclassified  Single carriageway   \n",
       "129441   Unclassified  Single carriageway   \n",
       "104030       Motorway    Dual carriageway   \n",
       "15911               A    Dual carriageway   \n",
       "\n",
       "                            junction_detail pedestrian_crossing-human_control  \\\n",
       "96365                            Roundabout             None within 50 metres   \n",
       "129456              T or staggered junction             None within 50 metres   \n",
       "129441  Not at junction or within 20 metres             None within 50 metres   \n",
       "104030  Not at junction or within 20 metres             None within 50 metres   \n",
       "15911               T or staggered junction             None within 50 metres   \n",
       "\n",
       "                 pedestrian_crossing-physical_facilities light_conditions  \\\n",
       "96365   No physical crossing facilities within 50 metres         Daylight   \n",
       "129456  No physical crossing facilities within 50 metres         Daylight   \n",
       "129441  No physical crossing facilities within 50 metres         Daylight   \n",
       "104030  No physical crossing facilities within 50 metres         Daylight   \n",
       "15911        Pedestrian phase at traffic signal junction         Daylight   \n",
       "\n",
       "           weather_conditions road_surface_conditions  \\\n",
       "96365      Fine no high winds                     Dry   \n",
       "129456     Fine no high winds                     Dry   \n",
       "129441     Fine no high winds                     Dry   \n",
       "104030  Raining no high winds             Wet or damp   \n",
       "15911      Fine no high winds                     Dry   \n",
       "\n",
       "       special_conditions_at_site carriageway_hazards urban_or_rural_area  \\\n",
       "96365                        None                None               Rural   \n",
       "129456                       None                None               Urban   \n",
       "129441                       None                None               Urban   \n",
       "104030                       None                None               Rural   \n",
       "15911                        None                None               Urban   \n",
       "\n",
       "       lsoa_of_accident_location  \n",
       "96365                     E01023  \n",
       "129456                    E01002  \n",
       "129441                    E01002  \n",
       "104030                    E01024  \n",
       "15911                     E01003  "
      ]
     },
     "execution_count": 68,
     "metadata": {},
     "output_type": "execute_result"
    }
   ],
   "source": [
    "cat_pipeline.fit_transform(accident_and_vehicles_data).head()"
   ]
  },
  {
   "cell_type": "code",
   "execution_count": 69,
   "metadata": {},
   "outputs": [
    {
     "name": "stdout",
     "output_type": "stream",
     "text": [
      "DataFrameSelector fit\n",
      "DataFrameSelector transform\n",
      "attributes names: ['1st_road_class', 'road_type', 'junction_detail', 'pedestrian_crossing-human_control', 'pedestrian_crossing-physical_facilities', 'light_conditions', 'weather_conditions', 'road_surface_conditions', 'special_conditions_at_site', 'carriageway_hazards', 'urban_or_rural_area', 'lsoa_of_accident_location']\n",
      "AccidentLocationSlicer fit\n",
      "AccidentLocationSlicer transform\n",
      "slicing\n",
      "CategoricalImputer fit\n",
      "CategoricalImputer transform\n",
      "1st_road_class                                                                            A\n",
      "road_type                                                                Single carriageway\n",
      "junction_detail                                         Not at junction or within 20 metres\n",
      "pedestrian_crossing-human_control                                     None within 50 metres\n",
      "pedestrian_crossing-physical_facilities    No physical crossing facilities within 50 metres\n",
      "light_conditions                                                                   Daylight\n",
      "weather_conditions                                                       Fine no high winds\n",
      "road_surface_conditions                                                                 Dry\n",
      "special_conditions_at_site                                                             None\n",
      "carriageway_hazards                                                                    None\n",
      "urban_or_rural_area                                                                   Urban\n",
      "lsoa_of_accident_location                                                            E01002\n",
      "dtype: object\n",
      "<class 'pandas.core.frame.DataFrame'>\n",
      "Int64Index: 105828 entries, 96365 to 121958\n",
      "Data columns (total 12 columns):\n",
      "1st_road_class                             105828 non-null object\n",
      "road_type                                  105828 non-null object\n",
      "junction_detail                            105828 non-null object\n",
      "pedestrian_crossing-human_control          105828 non-null object\n",
      "pedestrian_crossing-physical_facilities    105828 non-null object\n",
      "light_conditions                           105828 non-null object\n",
      "weather_conditions                         105828 non-null object\n",
      "road_surface_conditions                    105828 non-null object\n",
      "special_conditions_at_site                 105828 non-null object\n",
      "carriageway_hazards                        105828 non-null object\n",
      "urban_or_rural_area                        105828 non-null object\n",
      "lsoa_of_accident_location                  105828 non-null object\n",
      "dtypes: object(12)\n",
      "memory usage: 10.5+ MB\n"
     ]
    }
   ],
   "source": [
    "cat_pipeline.fit_transform(accident_and_vehicles_data).info()"
   ]
  },
  {
   "cell_type": "markdown",
   "metadata": {},
   "source": [
    "We can convert each categorical value to a one-hot vector using a `OneHotEncoder`. Right now this class can only handle integer categorical inputs, but in Scikit-Learn 0.20 it will also handle string categorical inputs (see [PR #10521](https://github.com/scikit-learn/scikit-learn/issues/10521)). So for now we import it from `future_encoders.py`, but when Scikit-Learn 0.20 is released, we can import it from `sklearn.preprocessing` instead:"
   ]
  },
  {
   "cell_type": "code",
   "execution_count": 70,
   "metadata": {},
   "outputs": [],
   "source": [
    "from sklearn.pipeline import Pipeline\n",
    "from sklearn.preprocessing import OneHotEncoder\n",
    "\n",
    "cat_pipeline = Pipeline([\n",
    "    (\"selector\", DataFrameSelector(attribute_names=cat_attributes)),\n",
    "    (\"slicer\", AccidentLocationSlicer(slicer=6)),\n",
    "    (\"imputer\", CategoricalImputer()),\n",
    "    (\"encoder\", OneHotEncoder(sparse=False))\n",
    "])"
   ]
  },
  {
   "cell_type": "code",
   "execution_count": 71,
   "metadata": {},
   "outputs": [
    {
     "name": "stdout",
     "output_type": "stream",
     "text": [
      "DataFrameSelector fit\n",
      "DataFrameSelector transform\n",
      "attributes names: ['1st_road_class', 'road_type', 'junction_detail', 'pedestrian_crossing-human_control', 'pedestrian_crossing-physical_facilities', 'light_conditions', 'weather_conditions', 'road_surface_conditions', 'special_conditions_at_site', 'carriageway_hazards', 'urban_or_rural_area', 'lsoa_of_accident_location']\n",
      "AccidentLocationSlicer fit\n",
      "AccidentLocationSlicer transform\n",
      "slicing\n",
      "CategoricalImputer fit\n",
      "CategoricalImputer transform\n",
      "1st_road_class                                                                            A\n",
      "road_type                                                                Single carriageway\n",
      "junction_detail                                         Not at junction or within 20 metres\n",
      "pedestrian_crossing-human_control                                     None within 50 metres\n",
      "pedestrian_crossing-physical_facilities    No physical crossing facilities within 50 metres\n",
      "light_conditions                                                                   Daylight\n",
      "weather_conditions                                                       Fine no high winds\n",
      "road_surface_conditions                                                                 Dry\n",
      "special_conditions_at_site                                                             None\n",
      "carriageway_hazards                                                                    None\n",
      "urban_or_rural_area                                                                   Urban\n",
      "lsoa_of_accident_location                                                            E01002\n",
      "dtype: object\n"
     ]
    },
    {
     "data": {
      "text/plain": [
       "array([[0., 0., 0., ..., 0., 0., 0.],\n",
       "       [0., 0., 0., ..., 0., 0., 0.],\n",
       "       [0., 0., 0., ..., 0., 0., 0.],\n",
       "       ...,\n",
       "       [0., 0., 1., ..., 0., 0., 0.],\n",
       "       [0., 0., 0., ..., 0., 0., 0.],\n",
       "       [0., 0., 0., ..., 0., 0., 0.]])"
      ]
     },
     "execution_count": 71,
     "metadata": {},
     "output_type": "execute_result"
    }
   ],
   "source": [
    "cat_pipeline.fit_transform(accident_and_vehicles_data)"
   ]
  },
  {
   "cell_type": "code",
   "execution_count": 72,
   "metadata": {},
   "outputs": [
    {
     "name": "stdout",
     "output_type": "stream",
     "text": [
      "DataFrameSelector fit\n",
      "DataFrameSelector transform\n",
      "attributes names: ['1st_road_class', 'road_type', 'junction_detail', 'pedestrian_crossing-human_control', 'pedestrian_crossing-physical_facilities', 'light_conditions', 'weather_conditions', 'road_surface_conditions', 'special_conditions_at_site', 'carriageway_hazards', 'urban_or_rural_area', 'lsoa_of_accident_location']\n",
      "AccidentLocationSlicer fit\n",
      "AccidentLocationSlicer transform\n",
      "slicing\n",
      "CategoricalImputer fit\n",
      "CategoricalImputer transform\n",
      "1st_road_class                                                                            A\n",
      "road_type                                                                Single carriageway\n",
      "junction_detail                                         Not at junction or within 20 metres\n",
      "pedestrian_crossing-human_control                                     None within 50 metres\n",
      "pedestrian_crossing-physical_facilities    No physical crossing facilities within 50 metres\n",
      "light_conditions                                                                   Daylight\n",
      "weather_conditions                                                       Fine no high winds\n",
      "road_surface_conditions                                                                 Dry\n",
      "special_conditions_at_site                                                             None\n",
      "carriageway_hazards                                                                    None\n",
      "urban_or_rural_area                                                                   Urban\n",
      "lsoa_of_accident_location                                                            E01002\n",
      "dtype: object\n"
     ]
    },
    {
     "data": {
      "text/plain": [
       "(105828, 101)"
      ]
     },
     "execution_count": 72,
     "metadata": {},
     "output_type": "execute_result"
    }
   ],
   "source": [
    "cat_pipeline.fit_transform(accident_and_vehicles_data).shape"
   ]
  },
  {
   "cell_type": "markdown",
   "metadata": {
    "collapsed": true
   },
   "source": [
    "## Handling Datetime Attributes"
   ]
  },
  {
   "cell_type": "code",
   "execution_count": 73,
   "metadata": {},
   "outputs": [],
   "source": [
    "accident_data = train_set.copy()"
   ]
  },
  {
   "cell_type": "code",
   "execution_count": 74,
   "metadata": {},
   "outputs": [],
   "source": [
    "date_attributes = ['year', 'month', 'week', 'day', 'hour', 'minute']"
   ]
  },
  {
   "cell_type": "code",
   "execution_count": 75,
   "metadata": {},
   "outputs": [],
   "source": [
    "class DateTimeTransformer(BaseEstimator, TransformerMixin):\n",
    "    def fit(self, X, y=None):\n",
    "        print('DateTimeTransformer fit')\n",
    "        return self\n",
    "    \n",
    "    def transform(self, X, y=None):\n",
    "        print('DateTimeTransformer transform')\n",
    "        return X.assign(datetime = pd.to_datetime(X['date'] + ' ' + X['time']))"
   ]
  },
  {
   "cell_type": "code",
   "execution_count": 76,
   "metadata": {},
   "outputs": [],
   "source": [
    "from sklearn.pipeline import Pipeline\n",
    "\n",
    "date_pipeline = Pipeline([\n",
    "    (\"selector\", DataFrameSelector(['date', 'time'])),\n",
    "    (\"imputer\", CategoricalImputer()),\n",
    "    (\"transformer\", DateTimeTransformer())\n",
    "])"
   ]
  },
  {
   "cell_type": "code",
   "execution_count": 77,
   "metadata": {},
   "outputs": [
    {
     "name": "stdout",
     "output_type": "stream",
     "text": [
      "DataFrameSelector fit\n",
      "DataFrameSelector transform\n",
      "attributes names: ['date', 'time']\n",
      "CategoricalImputer fit\n",
      "CategoricalImputer transform\n",
      "date    2016-11-11\n",
      "time         17:00\n",
      "dtype: object\n",
      "DateTimeTransformer fit\n",
      "DateTimeTransformer transform\n"
     ]
    },
    {
     "data": {
      "text/html": [
       "<div>\n",
       "<style scoped>\n",
       "    .dataframe tbody tr th:only-of-type {\n",
       "        vertical-align: middle;\n",
       "    }\n",
       "\n",
       "    .dataframe tbody tr th {\n",
       "        vertical-align: top;\n",
       "    }\n",
       "\n",
       "    .dataframe thead th {\n",
       "        text-align: right;\n",
       "    }\n",
       "</style>\n",
       "<table border=\"1\" class=\"dataframe\">\n",
       "  <thead>\n",
       "    <tr style=\"text-align: right;\">\n",
       "      <th></th>\n",
       "      <th>date</th>\n",
       "      <th>time</th>\n",
       "      <th>datetime</th>\n",
       "    </tr>\n",
       "  </thead>\n",
       "  <tbody>\n",
       "    <tr>\n",
       "      <th>96365</th>\n",
       "      <td>2016-04-29</td>\n",
       "      <td>15:20</td>\n",
       "      <td>2016-04-29 15:20:00</td>\n",
       "    </tr>\n",
       "    <tr>\n",
       "      <th>129456</th>\n",
       "      <td>2016-08-06</td>\n",
       "      <td>18:15</td>\n",
       "      <td>2016-08-06 18:15:00</td>\n",
       "    </tr>\n",
       "    <tr>\n",
       "      <th>129441</th>\n",
       "      <td>2016-05-31</td>\n",
       "      <td>19:35</td>\n",
       "      <td>2016-05-31 19:35:00</td>\n",
       "    </tr>\n",
       "    <tr>\n",
       "      <th>104030</th>\n",
       "      <td>2016-03-27</td>\n",
       "      <td>07:48</td>\n",
       "      <td>2016-03-27 07:48:00</td>\n",
       "    </tr>\n",
       "    <tr>\n",
       "      <th>15911</th>\n",
       "      <td>2016-08-08</td>\n",
       "      <td>19:45</td>\n",
       "      <td>2016-08-08 19:45:00</td>\n",
       "    </tr>\n",
       "  </tbody>\n",
       "</table>\n",
       "</div>"
      ],
      "text/plain": [
       "              date   time            datetime\n",
       "96365   2016-04-29  15:20 2016-04-29 15:20:00\n",
       "129456  2016-08-06  18:15 2016-08-06 18:15:00\n",
       "129441  2016-05-31  19:35 2016-05-31 19:35:00\n",
       "104030  2016-03-27  07:48 2016-03-27 07:48:00\n",
       "15911   2016-08-08  19:45 2016-08-08 19:45:00"
      ]
     },
     "execution_count": 77,
     "metadata": {},
     "output_type": "execute_result"
    }
   ],
   "source": [
    "date_pipeline.fit_transform(accident_data).head()"
   ]
  },
  {
   "cell_type": "markdown",
   "metadata": {},
   "source": [
    "For each datetime attribute we can extract now the year, month, week, day, hour and minute."
   ]
  },
  {
   "cell_type": "code",
   "execution_count": 78,
   "metadata": {},
   "outputs": [],
   "source": [
    "class TimeInfoExtractor(BaseEstimator, TransformerMixin):\n",
    "    def fit(self, X, y=None):\n",
    "        print('TimeInfoExtractor fit')\n",
    "        return self\n",
    "    \n",
    "    def transform(self, X, y=None):\n",
    "        print('TimeInfoExtractor transform')\n",
    "        timeinfo_data=pd.DataFrame({\n",
    "            'col1':X['datetime'].dt.year.astype(float),\n",
    "            'col2':X['datetime'].dt.month.astype(float), \n",
    "            'col3':X['datetime'].dt.week.astype(float), \n",
    "            'col4':X['datetime'].dt.day.astype(float), \n",
    "            'col5':X['datetime'].dt.hour.astype(float), \n",
    "            'col6':X['datetime'].dt.minute.astype(float)\n",
    "        })\n",
    "        return np.c_[timeinfo_data]"
   ]
  },
  {
   "cell_type": "code",
   "execution_count": 79,
   "metadata": {},
   "outputs": [],
   "source": [
    "from sklearn.pipeline import Pipeline\n",
    "\n",
    "date_pipeline = Pipeline([\n",
    "    (\"selector\", DataFrameSelector(['date', 'time'])),\n",
    "    (\"imputer\", CategoricalImputer()),\n",
    "    (\"transformer\", DateTimeTransformer()),\n",
    "    ('extractor', TimeInfoExtractor())\n",
    "])"
   ]
  },
  {
   "cell_type": "code",
   "execution_count": 80,
   "metadata": {},
   "outputs": [
    {
     "data": {
      "text/html": [
       "<div>\n",
       "<style scoped>\n",
       "    .dataframe tbody tr th:only-of-type {\n",
       "        vertical-align: middle;\n",
       "    }\n",
       "\n",
       "    .dataframe tbody tr th {\n",
       "        vertical-align: top;\n",
       "    }\n",
       "\n",
       "    .dataframe thead th {\n",
       "        text-align: right;\n",
       "    }\n",
       "</style>\n",
       "<table border=\"1\" class=\"dataframe\">\n",
       "  <thead>\n",
       "    <tr style=\"text-align: right;\">\n",
       "      <th></th>\n",
       "      <th>date</th>\n",
       "      <th>time</th>\n",
       "    </tr>\n",
       "  </thead>\n",
       "  <tbody>\n",
       "    <tr>\n",
       "      <th>96365</th>\n",
       "      <td>2016-04-29</td>\n",
       "      <td>15:20</td>\n",
       "    </tr>\n",
       "    <tr>\n",
       "      <th>129456</th>\n",
       "      <td>2016-08-06</td>\n",
       "      <td>18:15</td>\n",
       "    </tr>\n",
       "    <tr>\n",
       "      <th>129441</th>\n",
       "      <td>2016-05-31</td>\n",
       "      <td>19:35</td>\n",
       "    </tr>\n",
       "    <tr>\n",
       "      <th>104030</th>\n",
       "      <td>2016-03-27</td>\n",
       "      <td>07:48</td>\n",
       "    </tr>\n",
       "    <tr>\n",
       "      <th>15911</th>\n",
       "      <td>2016-08-08</td>\n",
       "      <td>19:45</td>\n",
       "    </tr>\n",
       "  </tbody>\n",
       "</table>\n",
       "</div>"
      ],
      "text/plain": [
       "              date   time\n",
       "96365   2016-04-29  15:20\n",
       "129456  2016-08-06  18:15\n",
       "129441  2016-05-31  19:35\n",
       "104030  2016-03-27  07:48\n",
       "15911   2016-08-08  19:45"
      ]
     },
     "execution_count": 80,
     "metadata": {},
     "output_type": "execute_result"
    }
   ],
   "source": [
    "accident_data[['date', 'time']].head()"
   ]
  },
  {
   "cell_type": "code",
   "execution_count": 81,
   "metadata": {},
   "outputs": [
    {
     "name": "stdout",
     "output_type": "stream",
     "text": [
      "DataFrameSelector fit\n",
      "DataFrameSelector transform\n",
      "attributes names: ['date', 'time']\n",
      "CategoricalImputer fit\n",
      "CategoricalImputer transform\n",
      "date    2016-11-11\n",
      "time         17:00\n",
      "dtype: object\n",
      "DateTimeTransformer fit\n",
      "DateTimeTransformer transform\n",
      "TimeInfoExtractor fit\n",
      "TimeInfoExtractor transform\n"
     ]
    },
    {
     "data": {
      "text/plain": [
       "array([[2016.,    4.,   17.,   29.,   15.,   20.],\n",
       "       [2016.,    8.,   31.,    6.,   18.,   15.],\n",
       "       [2016.,    5.,   22.,   31.,   19.,   35.],\n",
       "       [2016.,    3.,   12.,   27.,    7.,   48.],\n",
       "       [2016.,    8.,   32.,    8.,   19.,   45.]])"
      ]
     },
     "execution_count": 81,
     "metadata": {},
     "output_type": "execute_result"
    }
   ],
   "source": [
    "date_pipeline.fit_transform(accident_data)[0:5,:]"
   ]
  },
  {
   "cell_type": "code",
   "execution_count": 82,
   "metadata": {},
   "outputs": [],
   "source": [
    "from sklearn.pipeline import Pipeline\n",
    "from sklearn.preprocessing import StandardScaler\n",
    "\n",
    "from sklearn.pipeline import Pipeline\n",
    "\n",
    "date_pipeline = Pipeline([\n",
    "    (\"selector\", DataFrameSelector(['date', 'time'])),\n",
    "    (\"imputer\", CategoricalImputer()),\n",
    "    (\"transformer\", DateTimeTransformer()),\n",
    "    ('extractor', TimeInfoExtractor()),\n",
    "    ('scaler', StandardScaler())\n",
    "])"
   ]
  },
  {
   "cell_type": "code",
   "execution_count": 83,
   "metadata": {},
   "outputs": [
    {
     "name": "stdout",
     "output_type": "stream",
     "text": [
      "DataFrameSelector fit\n",
      "DataFrameSelector transform\n",
      "attributes names: ['date', 'time']\n",
      "CategoricalImputer fit\n",
      "CategoricalImputer transform\n",
      "date    2016-11-11\n",
      "time         17:00\n",
      "dtype: object\n",
      "DateTimeTransformer fit\n",
      "DateTimeTransformer transform\n",
      "TimeInfoExtractor fit\n",
      "TimeInfoExtractor transform\n"
     ]
    },
    {
     "data": {
      "text/plain": [
       "array([[ 0.        , -0.74497593, -0.65153221,  1.54286288,  0.28479635,\n",
       "        -0.39504232],\n",
       "       [ 0.        ,  0.41841508,  0.28043968, -1.10298347,  0.8704187 ,\n",
       "        -0.67984064],\n",
       "       [ 0.        , -0.45412818, -0.31868511,  1.77293647,  1.06562615,\n",
       "         0.45935263],\n",
       "       ...,\n",
       "       [ 0.        , -1.32667144, -1.31722641,  0.2774581 , -2.44810798,\n",
       "        -1.24943727],\n",
       "       [ 0.        ,  1.29095833,  1.27898098,  0.2774581 , -0.49603346,\n",
       "        -0.67984064],\n",
       "       [ 0.        ,  1.58180609,  1.41211982, -1.44809387,  1.45604106,\n",
       "         1.08590892]])"
      ]
     },
     "execution_count": 83,
     "metadata": {},
     "output_type": "execute_result"
    }
   ],
   "source": [
    "date_pipeline.fit_transform(accident_data)"
   ]
  },
  {
   "cell_type": "markdown",
   "metadata": {},
   "source": [
    "## Handling Numerical Attributes"
   ]
  },
  {
   "cell_type": "code",
   "execution_count": 84,
   "metadata": {},
   "outputs": [],
   "source": [
    "accident_data = train_set.copy()"
   ]
  },
  {
   "cell_type": "code",
   "execution_count": 85,
   "metadata": {},
   "outputs": [
    {
     "name": "stdout",
     "output_type": "stream",
     "text": [
      "AddVehiclesAttributes fit\n",
      "AddVehiclesAttributes transform\n"
     ]
    }
   ],
   "source": [
    "accident_data_with_vehicles = vehicle_adder.fit_transform(accident_data)"
   ]
  },
  {
   "cell_type": "code",
   "execution_count": 86,
   "metadata": {},
   "outputs": [
    {
     "data": {
      "text/html": [
       "<div>\n",
       "<style scoped>\n",
       "    .dataframe tbody tr th:only-of-type {\n",
       "        vertical-align: middle;\n",
       "    }\n",
       "\n",
       "    .dataframe tbody tr th {\n",
       "        vertical-align: top;\n",
       "    }\n",
       "\n",
       "    .dataframe thead th {\n",
       "        text-align: right;\n",
       "    }\n",
       "</style>\n",
       "<table border=\"1\" class=\"dataframe\">\n",
       "  <thead>\n",
       "    <tr style=\"text-align: right;\">\n",
       "      <th></th>\n",
       "      <th>accident_id</th>\n",
       "      <th>location_easting_osgr</th>\n",
       "      <th>location_northing_osgr</th>\n",
       "      <th>longitude</th>\n",
       "      <th>latitude</th>\n",
       "      <th>number_of_vehicles</th>\n",
       "      <th>number_of_casualties</th>\n",
       "      <th>date</th>\n",
       "      <th>time</th>\n",
       "      <th>1st_road_class</th>\n",
       "      <th>...</th>\n",
       "      <th>Entering from slip road</th>\n",
       "      <th>Entering main road</th>\n",
       "      <th>Entering roundabout</th>\n",
       "      <th>Leaving main road</th>\n",
       "      <th>Leaving roundabout</th>\n",
       "      <th>Mid Junction - on roundabout or on main road</th>\n",
       "      <th>Not at or within 20 metres of junction</th>\n",
       "      <th>Age_of_Driver</th>\n",
       "      <th>Age_of_Vehicle</th>\n",
       "      <th>Engine_Capacity_(CC)</th>\n",
       "    </tr>\n",
       "  </thead>\n",
       "  <tbody>\n",
       "    <tr>\n",
       "      <th>96365</th>\n",
       "      <td>320754</td>\n",
       "      <td>436967.0</td>\n",
       "      <td>116357.0</td>\n",
       "      <td>-1.475189</td>\n",
       "      <td>50.945410</td>\n",
       "      <td>4</td>\n",
       "      <td>1</td>\n",
       "      <td>2016-04-29</td>\n",
       "      <td>15:20</td>\n",
       "      <td>Motorway</td>\n",
       "      <td>...</td>\n",
       "      <td>0.0</td>\n",
       "      <td>0.0</td>\n",
       "      <td>0.0</td>\n",
       "      <td>0.0</td>\n",
       "      <td>0.0</td>\n",
       "      <td>4.0</td>\n",
       "      <td>0.0</td>\n",
       "      <td>37.250000</td>\n",
       "      <td>3.666667</td>\n",
       "      <td>1678.666667</td>\n",
       "    </tr>\n",
       "    <tr>\n",
       "      <th>129456</th>\n",
       "      <td>382572</td>\n",
       "      <td>341017.0</td>\n",
       "      <td>731306.0</td>\n",
       "      <td>-2.958981</td>\n",
       "      <td>56.470229</td>\n",
       "      <td>3</td>\n",
       "      <td>2</td>\n",
       "      <td>2016-08-06</td>\n",
       "      <td>18:15</td>\n",
       "      <td>Unclassified</td>\n",
       "      <td>...</td>\n",
       "      <td>0.0</td>\n",
       "      <td>0.0</td>\n",
       "      <td>0.0</td>\n",
       "      <td>0.0</td>\n",
       "      <td>0.0</td>\n",
       "      <td>0.0</td>\n",
       "      <td>0.0</td>\n",
       "      <td>32.666667</td>\n",
       "      <td>2.000000</td>\n",
       "      <td>1242.000000</td>\n",
       "    </tr>\n",
       "    <tr>\n",
       "      <th>129441</th>\n",
       "      <td>301060</td>\n",
       "      <td>339991.0</td>\n",
       "      <td>733454.0</td>\n",
       "      <td>-2.976128</td>\n",
       "      <td>56.489394</td>\n",
       "      <td>1</td>\n",
       "      <td>1</td>\n",
       "      <td>2016-05-31</td>\n",
       "      <td>19:35</td>\n",
       "      <td>Unclassified</td>\n",
       "      <td>...</td>\n",
       "      <td>0.0</td>\n",
       "      <td>0.0</td>\n",
       "      <td>0.0</td>\n",
       "      <td>0.0</td>\n",
       "      <td>0.0</td>\n",
       "      <td>0.0</td>\n",
       "      <td>1.0</td>\n",
       "      <td>NaN</td>\n",
       "      <td>2.000000</td>\n",
       "      <td>1248.000000</td>\n",
       "    </tr>\n",
       "    <tr>\n",
       "      <th>104030</th>\n",
       "      <td>463285</td>\n",
       "      <td>591484.0</td>\n",
       "      <td>158928.0</td>\n",
       "      <td>0.745259</td>\n",
       "      <td>51.297211</td>\n",
       "      <td>1</td>\n",
       "      <td>1</td>\n",
       "      <td>2016-03-27</td>\n",
       "      <td>07:48</td>\n",
       "      <td>Motorway</td>\n",
       "      <td>...</td>\n",
       "      <td>0.0</td>\n",
       "      <td>0.0</td>\n",
       "      <td>0.0</td>\n",
       "      <td>0.0</td>\n",
       "      <td>0.0</td>\n",
       "      <td>0.0</td>\n",
       "      <td>1.0</td>\n",
       "      <td>27.000000</td>\n",
       "      <td>4.000000</td>\n",
       "      <td>1560.000000</td>\n",
       "    </tr>\n",
       "    <tr>\n",
       "      <th>15911</th>\n",
       "      <td>494190</td>\n",
       "      <td>531230.0</td>\n",
       "      <td>178310.0</td>\n",
       "      <td>-0.111251</td>\n",
       "      <td>51.488465</td>\n",
       "      <td>2</td>\n",
       "      <td>1</td>\n",
       "      <td>2016-08-08</td>\n",
       "      <td>19:45</td>\n",
       "      <td>A</td>\n",
       "      <td>...</td>\n",
       "      <td>0.0</td>\n",
       "      <td>0.0</td>\n",
       "      <td>0.0</td>\n",
       "      <td>0.0</td>\n",
       "      <td>0.0</td>\n",
       "      <td>1.0</td>\n",
       "      <td>0.0</td>\n",
       "      <td>46.500000</td>\n",
       "      <td>7.000000</td>\n",
       "      <td>1797.000000</td>\n",
       "    </tr>\n",
       "  </tbody>\n",
       "</table>\n",
       "<p>5 rows × 67 columns</p>\n",
       "</div>"
      ],
      "text/plain": [
       "        accident_id  location_easting_osgr  location_northing_osgr  longitude  \\\n",
       "96365        320754               436967.0                116357.0  -1.475189   \n",
       "129456       382572               341017.0                731306.0  -2.958981   \n",
       "129441       301060               339991.0                733454.0  -2.976128   \n",
       "104030       463285               591484.0                158928.0   0.745259   \n",
       "15911        494190               531230.0                178310.0  -0.111251   \n",
       "\n",
       "         latitude  number_of_vehicles  number_of_casualties        date  \\\n",
       "96365   50.945410                   4                     1  2016-04-29   \n",
       "129456  56.470229                   3                     2  2016-08-06   \n",
       "129441  56.489394                   1                     1  2016-05-31   \n",
       "104030  51.297211                   1                     1  2016-03-27   \n",
       "15911   51.488465                   2                     1  2016-08-08   \n",
       "\n",
       "         time 1st_road_class         ...           Entering from slip road  \\\n",
       "96365   15:20       Motorway         ...                               0.0   \n",
       "129456  18:15   Unclassified         ...                               0.0   \n",
       "129441  19:35   Unclassified         ...                               0.0   \n",
       "104030  07:48       Motorway         ...                               0.0   \n",
       "15911   19:45              A         ...                               0.0   \n",
       "\n",
       "       Entering main road  Entering roundabout Leaving main road  \\\n",
       "96365                 0.0                  0.0               0.0   \n",
       "129456                0.0                  0.0               0.0   \n",
       "129441                0.0                  0.0               0.0   \n",
       "104030                0.0                  0.0               0.0   \n",
       "15911                 0.0                  0.0               0.0   \n",
       "\n",
       "       Leaving roundabout Mid Junction - on roundabout or on main road  \\\n",
       "96365                 0.0                                          4.0   \n",
       "129456                0.0                                          0.0   \n",
       "129441                0.0                                          0.0   \n",
       "104030                0.0                                          0.0   \n",
       "15911                 0.0                                          1.0   \n",
       "\n",
       "        Not at or within 20 metres of junction Age_of_Driver Age_of_Vehicle  \\\n",
       "96365                                      0.0     37.250000       3.666667   \n",
       "129456                                     0.0     32.666667       2.000000   \n",
       "129441                                     1.0           NaN       2.000000   \n",
       "104030                                     1.0     27.000000       4.000000   \n",
       "15911                                      0.0     46.500000       7.000000   \n",
       "\n",
       "       Engine_Capacity_(CC)  \n",
       "96365           1678.666667  \n",
       "129456          1242.000000  \n",
       "129441          1248.000000  \n",
       "104030          1560.000000  \n",
       "15911           1797.000000  \n",
       "\n",
       "[5 rows x 67 columns]"
      ]
     },
     "execution_count": 86,
     "metadata": {},
     "output_type": "execute_result"
    }
   ],
   "source": [
    "accident_data_with_vehicles.head()"
   ]
  },
  {
   "cell_type": "code",
   "execution_count": 87,
   "metadata": {},
   "outputs": [
    {
     "data": {
      "text/plain": [
       "Index(['accident_id', 'location_easting_osgr', 'location_northing_osgr',\n",
       "       'longitude', 'latitude', 'number_of_vehicles', 'number_of_casualties',\n",
       "       '1st_road_number', 'speed_limit', '2nd_road_number', 'target', 'Female',\n",
       "       'Male', 'Not known', 'Agricultural vehicle',\n",
       "       'Bus or coach (17 or more pass seats)', 'Car', 'Electric motorcycle',\n",
       "       'Goods 7.5 tonnes mgw and over', 'Goods over 3.5t. and under 7.5t',\n",
       "       'Goods vehicle - unknown weight', 'Minibus (8 - 16 passenger seats)',\n",
       "       'Mobility scooter', 'Motorcycle - unknown cc',\n",
       "       'Motorcycle 125cc and under', 'Motorcycle 50cc and under',\n",
       "       'Motorcycle over 125cc and up to 500cc', 'Motorcycle over 500cc',\n",
       "       'Other vehicle', 'Pedal cycle', 'Ridden horse', 'Taxi/Private hire car',\n",
       "       'Tram', 'Van / Goods 3.5 tonnes mgw or under', 'No', 'Yes',\n",
       "       'Approaching junction or waiting/parked at junction approach',\n",
       "       'Cleared junction or waiting/parked at junction exit',\n",
       "       'Entering from slip road', 'Entering main road', 'Entering roundabout',\n",
       "       'Leaving main road', 'Leaving roundabout',\n",
       "       'Mid Junction - on roundabout or on main road',\n",
       "       'Not at or within 20 metres of junction', 'Age_of_Driver',\n",
       "       'Age_of_Vehicle', 'Engine_Capacity_(CC)'],\n",
       "      dtype='object')"
      ]
     },
     "execution_count": 87,
     "metadata": {},
     "output_type": "execute_result"
    }
   ],
   "source": [
    "accident_and_vehicles_data.select_dtypes(include=['int64', 'float64']).columns"
   ]
  },
  {
   "cell_type": "code",
   "execution_count": 88,
   "metadata": {},
   "outputs": [],
   "source": [
    "num_attributes = ['longitude',\n",
    "                  'latitude',\n",
    "                  'number_of_vehicles',\n",
    "                  'number_of_casualties',\n",
    "                  '1st_road_number',\n",
    "                  'speed_limit',\n",
    "                  '2nd_road_number', \n",
    "                  'Female',\n",
    "                  'Male',\n",
    "                  'Not known',\n",
    "                  'Agricultural vehicle',\n",
    "                  'Bus or coach (17 or more pass seats)',\n",
    "                  'Car', 'Electric motorcycle',\n",
    "                  'Goods 7.5 tonnes mgw and over',\n",
    "                  'Goods over 3.5t. and under 7.5t',\n",
    "                  'Goods vehicle - unknown weight',\n",
    "                  'Minibus (8 - 16 passenger seats)',\n",
    "                  'Mobility scooter',\n",
    "                  'Motorcycle - unknown cc',\n",
    "                  'Motorcycle 125cc and under',\n",
    "                  'Motorcycle 50cc and under',\n",
    "                  'Motorcycle over 125cc and up to 500cc', \n",
    "                  'Motorcycle over 500cc',\n",
    "                  'Other vehicle',\n",
    "                  'Pedal cycle',\n",
    "                  'Ridden horse',\n",
    "                  'Taxi/Private hire car',\n",
    "                  'Tram',\n",
    "                  'Van / Goods 3.5 tonnes mgw or under', \n",
    "                  'No',\n",
    "                  'Yes',\n",
    "                  'Approaching junction or waiting/parked at junction approach',\n",
    "                  'Cleared junction or waiting/parked at junction exit',\n",
    "                  'Entering from slip road',\n",
    "                  'Entering main road',\n",
    "                  'Entering roundabout',\n",
    "                  'Leaving main road',\n",
    "                  'Leaving roundabout',\n",
    "                  'Mid Junction - on roundabout or on main road',\n",
    "                  'Not at or within 20 metres of junction', \n",
    "                  'Age_of_Driver',\n",
    "                  'Age_of_Vehicle',\n",
    "                  'Engine_Capacity_(CC)']"
   ]
  },
  {
   "cell_type": "code",
   "execution_count": 89,
   "metadata": {},
   "outputs": [],
   "source": [
    "number_of_casualties_ix = num_attributes.index('number_of_casualties')\n",
    "number_of_vehicles_ix = num_attributes.index('number_of_vehicles')\n",
    "\n",
    "extra_attributes = ['casualties_per_vehicle']\n",
    "\n",
    "class CombinedNumAttributesAdder(BaseEstimator, TransformerMixin):\n",
    "    def fit(self, X, y=None):\n",
    "        print('CombinedNumAttributesAdder fit')\n",
    "        return self\n",
    "    \n",
    "    def transform(self, X, y=None):\n",
    "        print('CombinedNumAttributesAdder transform')\n",
    "        casualties_per_vehicle = X[:, number_of_casualties_ix] / X[:, number_of_vehicles_ix]\n",
    "        return np.c_[X, casualties_per_vehicle]"
   ]
  },
  {
   "cell_type": "code",
   "execution_count": 90,
   "metadata": {},
   "outputs": [],
   "source": [
    "from sklearn.pipeline import Pipeline\n",
    "from sklearn.preprocessing import StandardScaler\n",
    "from sklearn.impute import SimpleImputer\n",
    "\n",
    "num_pipeline = Pipeline([\n",
    "    ('selector', DataFrameSelector(num_attributes)),\n",
    "    ('imputer', SimpleImputer(strategy='mean')),\n",
    "    ('attr_adder', CombinedNumAttributesAdder()),\n",
    "    ('scaler', StandardScaler()),\n",
    "])"
   ]
  },
  {
   "cell_type": "code",
   "execution_count": 91,
   "metadata": {},
   "outputs": [
    {
     "name": "stdout",
     "output_type": "stream",
     "text": [
      "DataFrameSelector fit\n",
      "DataFrameSelector transform\n",
      "attributes names: ['longitude', 'latitude', 'number_of_vehicles', 'number_of_casualties', '1st_road_number', 'speed_limit', '2nd_road_number', 'Female', 'Male', 'Not known', 'Agricultural vehicle', 'Bus or coach (17 or more pass seats)', 'Car', 'Electric motorcycle', 'Goods 7.5 tonnes mgw and over', 'Goods over 3.5t. and under 7.5t', 'Goods vehicle - unknown weight', 'Minibus (8 - 16 passenger seats)', 'Mobility scooter', 'Motorcycle - unknown cc', 'Motorcycle 125cc and under', 'Motorcycle 50cc and under', 'Motorcycle over 125cc and up to 500cc', 'Motorcycle over 500cc', 'Other vehicle', 'Pedal cycle', 'Ridden horse', 'Taxi/Private hire car', 'Tram', 'Van / Goods 3.5 tonnes mgw or under', 'No', 'Yes', 'Approaching junction or waiting/parked at junction approach', 'Cleared junction or waiting/parked at junction exit', 'Entering from slip road', 'Entering main road', 'Entering roundabout', 'Leaving main road', 'Leaving roundabout', 'Mid Junction - on roundabout or on main road', 'Not at or within 20 metres of junction', 'Age_of_Driver', 'Age_of_Vehicle', 'Engine_Capacity_(CC)']\n",
      "CombinedNumAttributesAdder fit\n",
      "CombinedNumAttributesAdder transform\n"
     ]
    },
    {
     "data": {
      "text/plain": [
       "(105828, 45)"
      ]
     },
     "execution_count": 91,
     "metadata": {},
     "output_type": "execute_result"
    }
   ],
   "source": [
    "num_pipeline.fit_transform(accident_data_with_vehicles).shape"
   ]
  },
  {
   "cell_type": "markdown",
   "metadata": {},
   "source": [
    "## Transformation Pipelines"
   ]
  },
  {
   "cell_type": "markdown",
   "metadata": {},
   "source": [
    "Now we have a preprocessing pipeline that takes the raw data and outputs numerical input features that we can feed to any Machine Learning model we want."
   ]
  },
  {
   "cell_type": "code",
   "execution_count": 92,
   "metadata": {},
   "outputs": [],
   "source": [
    "from sklearn.pipeline import FeatureUnion\n",
    "\n",
    "preprocess_pipeline = FeatureUnion(transformer_list=[\n",
    "    (\"num_pipeline\", num_pipeline),\n",
    "    (\"cat_pipeline\", cat_pipeline),\n",
    "    (\"date_pipeline\", date_pipeline)\n",
    "    ])"
   ]
  },
  {
   "cell_type": "code",
   "execution_count": 93,
   "metadata": {},
   "outputs": [],
   "source": [
    "accidents = train_set.copy()"
   ]
  },
  {
   "cell_type": "code",
   "execution_count": 94,
   "metadata": {},
   "outputs": [],
   "source": [
    "vehicle_adder = AddVehiclesAttributes()"
   ]
  },
  {
   "cell_type": "code",
   "execution_count": 95,
   "metadata": {},
   "outputs": [
    {
     "name": "stdout",
     "output_type": "stream",
     "text": [
      "AddVehiclesAttributes fit\n",
      "AddVehiclesAttributes transform\n",
      "<class 'pandas.core.frame.DataFrame'>\n",
      "Int64Index: 105828 entries, 96365 to 121958\n",
      "Data columns (total 67 columns):\n",
      "accident_id                                                    105828 non-null int64\n",
      "location_easting_osgr                                          105828 non-null float64\n",
      "location_northing_osgr                                         105828 non-null float64\n",
      "longitude                                                      105828 non-null float64\n",
      "latitude                                                       105828 non-null float64\n",
      "number_of_vehicles                                             105828 non-null int64\n",
      "number_of_casualties                                           105828 non-null int64\n",
      "date                                                           105828 non-null object\n",
      "time                                                           105828 non-null object\n",
      "1st_road_class                                                 105828 non-null object\n",
      "1st_road_number                                                105828 non-null int64\n",
      "road_type                                                      105828 non-null object\n",
      "speed_limit                                                    105828 non-null float64\n",
      "junction_detail                                                105818 non-null object\n",
      "junction_control                                               62159 non-null object\n",
      "2nd_road_class                                                 61710 non-null object\n",
      "2nd_road_number                                                105356 non-null float64\n",
      "pedestrian_crossing-human_control                              105698 non-null object\n",
      "pedestrian_crossing-physical_facilities                        105574 non-null object\n",
      "light_conditions                                               105820 non-null object\n",
      "weather_conditions                                             105820 non-null object\n",
      "road_surface_conditions                                        105454 non-null object\n",
      "special_conditions_at_site                                     105668 non-null object\n",
      "carriageway_hazards                                            105648 non-null object\n",
      "urban_or_rural_area                                            105828 non-null object\n",
      "lsoa_of_accident_location                                      99260 non-null object\n",
      "police_force                                                   105828 non-null object\n",
      "local_authority_district                                       105828 non-null object\n",
      "local_authority_highway                                        105828 non-null object\n",
      "target                                                         105828 non-null int64\n",
      "Female                                                         105828 non-null float64\n",
      "Male                                                           105828 non-null float64\n",
      "Not known                                                      105828 non-null float64\n",
      "Agricultural vehicle                                           105828 non-null float64\n",
      "Bus or coach (17 or more pass seats)                           105828 non-null float64\n",
      "Car                                                            105828 non-null float64\n",
      "Electric motorcycle                                            105828 non-null float64\n",
      "Goods 7.5 tonnes mgw and over                                  105828 non-null float64\n",
      "Goods over 3.5t. and under 7.5t                                105828 non-null float64\n",
      "Goods vehicle - unknown weight                                 105828 non-null float64\n",
      "Minibus (8 - 16 passenger seats)                               105828 non-null float64\n",
      "Mobility scooter                                               105828 non-null float64\n",
      "Motorcycle - unknown cc                                        105828 non-null float64\n",
      "Motorcycle 125cc and under                                     105828 non-null float64\n",
      "Motorcycle 50cc and under                                      105828 non-null float64\n",
      "Motorcycle over 125cc and up to 500cc                          105828 non-null float64\n",
      "Motorcycle over 500cc                                          105828 non-null float64\n",
      "Other vehicle                                                  105828 non-null float64\n",
      "Pedal cycle                                                    105828 non-null float64\n",
      "Ridden horse                                                   105828 non-null float64\n",
      "Taxi/Private hire car                                          105828 non-null float64\n",
      "Tram                                                           105828 non-null float64\n",
      "Van / Goods 3.5 tonnes mgw or under                            105828 non-null float64\n",
      "No                                                             105828 non-null float64\n",
      "Yes                                                            105828 non-null float64\n",
      "Approaching junction or waiting/parked at junction approach    105828 non-null float64\n",
      "Cleared junction or waiting/parked at junction exit            105828 non-null float64\n",
      "Entering from slip road                                        105828 non-null float64\n",
      "Entering main road                                             105828 non-null float64\n",
      "Entering roundabout                                            105828 non-null float64\n",
      "Leaving main road                                              105828 non-null float64\n",
      "Leaving roundabout                                             105828 non-null float64\n",
      "Mid Junction - on roundabout or on main road                   105828 non-null float64\n",
      "Not at or within 20 metres of junction                         105828 non-null float64\n",
      "Age_of_Driver                                                  104354 non-null float64\n",
      "Age_of_Vehicle                                                 93854 non-null float64\n",
      "Engine_Capacity_(CC)                                           96103 non-null float64\n",
      "dtypes: float64(43), int64(5), object(19)\n",
      "memory usage: 54.9+ MB\n"
     ]
    }
   ],
   "source": [
    "X_train = vehicle_adder.fit_transform(accidents)\n",
    "X_train.info()"
   ]
  },
  {
   "cell_type": "code",
   "execution_count": 96,
   "metadata": {},
   "outputs": [
    {
     "name": "stdout",
     "output_type": "stream",
     "text": [
      "DataFrameSelector fit\n",
      "DataFrameSelector transform\n",
      "attributes names: ['longitude', 'latitude', 'number_of_vehicles', 'number_of_casualties', '1st_road_number', 'speed_limit', '2nd_road_number', 'Female', 'Male', 'Not known', 'Agricultural vehicle', 'Bus or coach (17 or more pass seats)', 'Car', 'Electric motorcycle', 'Goods 7.5 tonnes mgw and over', 'Goods over 3.5t. and under 7.5t', 'Goods vehicle - unknown weight', 'Minibus (8 - 16 passenger seats)', 'Mobility scooter', 'Motorcycle - unknown cc', 'Motorcycle 125cc and under', 'Motorcycle 50cc and under', 'Motorcycle over 125cc and up to 500cc', 'Motorcycle over 500cc', 'Other vehicle', 'Pedal cycle', 'Ridden horse', 'Taxi/Private hire car', 'Tram', 'Van / Goods 3.5 tonnes mgw or under', 'No', 'Yes', 'Approaching junction or waiting/parked at junction approach', 'Cleared junction or waiting/parked at junction exit', 'Entering from slip road', 'Entering main road', 'Entering roundabout', 'Leaving main road', 'Leaving roundabout', 'Mid Junction - on roundabout or on main road', 'Not at or within 20 metres of junction', 'Age_of_Driver', 'Age_of_Vehicle', 'Engine_Capacity_(CC)']\n",
      "CombinedNumAttributesAdder fit\n",
      "CombinedNumAttributesAdder transform\n",
      "DataFrameSelector fit\n",
      "DataFrameSelector transform\n",
      "attributes names: ['1st_road_class', 'road_type', 'junction_detail', 'pedestrian_crossing-human_control', 'pedestrian_crossing-physical_facilities', 'light_conditions', 'weather_conditions', 'road_surface_conditions', 'special_conditions_at_site', 'carriageway_hazards', 'urban_or_rural_area', 'lsoa_of_accident_location']\n",
      "AccidentLocationSlicer fit\n",
      "AccidentLocationSlicer transform\n",
      "slicing\n",
      "CategoricalImputer fit\n",
      "CategoricalImputer transform\n",
      "1st_road_class                                                                            A\n",
      "road_type                                                                Single carriageway\n",
      "junction_detail                                         Not at junction or within 20 metres\n",
      "pedestrian_crossing-human_control                                     None within 50 metres\n",
      "pedestrian_crossing-physical_facilities    No physical crossing facilities within 50 metres\n",
      "light_conditions                                                                   Daylight\n",
      "weather_conditions                                                       Fine no high winds\n",
      "road_surface_conditions                                                                 Dry\n",
      "special_conditions_at_site                                                             None\n",
      "carriageway_hazards                                                                    None\n",
      "urban_or_rural_area                                                                   Urban\n",
      "lsoa_of_accident_location                                                            E01002\n",
      "dtype: object\n",
      "DataFrameSelector fit\n",
      "DataFrameSelector transform\n",
      "attributes names: ['date', 'time']\n",
      "CategoricalImputer fit\n",
      "CategoricalImputer transform\n",
      "date    2016-11-11\n",
      "time         17:00\n",
      "dtype: object\n",
      "DateTimeTransformer fit\n",
      "DateTimeTransformer transform\n",
      "TimeInfoExtractor fit\n",
      "TimeInfoExtractor transform\n"
     ]
    }
   ],
   "source": [
    "X_train_prepared = preprocess_pipeline.fit_transform(X_train)\n",
    "y_train = X_train['target']"
   ]
  },
  {
   "cell_type": "code",
   "execution_count": 97,
   "metadata": {},
   "outputs": [
    {
     "name": "stdout",
     "output_type": "stream",
     "text": [
      "(105828, 152)\n",
      "(105828,)\n"
     ]
    }
   ],
   "source": [
    "print(X_train_prepared.shape)\n",
    "print(y_train.shape)"
   ]
  },
  {
   "cell_type": "code",
   "execution_count": 98,
   "metadata": {},
   "outputs": [
    {
     "data": {
      "text/plain": [
       "[array(['A', 'A(M)', 'B', 'C', 'Motorway', 'Unclassified'], dtype=object),\n",
       " array(['Dual carriageway', 'One way street', 'Roundabout',\n",
       "        'Single carriageway', 'Slip road', 'Unknown'], dtype=object),\n",
       " array(['Crossroads', 'Mini-roundabout',\n",
       "        'More than 4 arms (not roundabout)',\n",
       "        'Not at junction or within 20 metres', 'Other junction',\n",
       "        'Private drive or entrance', 'Roundabout', 'Slip road',\n",
       "        'T or staggered junction'], dtype=object),\n",
       " array(['Control by other authorised person',\n",
       "        'Control by school crossing patrol', 'None within 50 metres'],\n",
       "       dtype=object),\n",
       " array(['Central refuge', 'Footbridge or subway',\n",
       "        'No physical crossing facilities within 50 metres',\n",
       "        'Pedestrian phase at traffic signal junction',\n",
       "        'Pelican, puffin, toucan or similar non-junction pedestrian light crossing',\n",
       "        'Zebra'], dtype=object),\n",
       " array(['Darkness - lighting unknown', 'Darkness - lights lit',\n",
       "        'Darkness - lights unlit', 'Darkness - no lighting', 'Daylight'],\n",
       "       dtype=object),\n",
       " array(['Fine + high winds', 'Fine no high winds', 'Fog or mist', 'Other',\n",
       "        'Raining + high winds', 'Raining no high winds',\n",
       "        'Snowing + high winds', 'Snowing no high winds', 'Unknown'],\n",
       "       dtype=object),\n",
       " array(['Dry', 'Flood over 3cm. deep', 'Frost or ice', 'Snow',\n",
       "        'Wet or damp'], dtype=object),\n",
       " array(['Auto signal part defective', 'Auto traffic signal - out', 'Mud',\n",
       "        'None', 'Oil or diesel',\n",
       "        'Road sign or marking defective or obscured',\n",
       "        'Road surface defective', 'Roadworks'], dtype=object),\n",
       " array(['Any animal in carriageway (except ridden horse)', 'None',\n",
       "        'Other object on road', 'Pedestrian in carriageway - not injured',\n",
       "        'Previous accident', 'Vehicle load on road'], dtype=object),\n",
       " array(['Rural', 'Urban'], dtype=object),\n",
       " array(['E01000', 'E01001', 'E01002', 'E01003', 'E01004', 'E01005',\n",
       "        'E01006', 'E01007', 'E01008', 'E01009', 'E01010', 'E01011',\n",
       "        'E01012', 'E01013', 'E01014', 'E01015', 'E01016', 'E01017',\n",
       "        'E01018', 'E01019', 'E01020', 'E01021', 'E01022', 'E01023',\n",
       "        'E01024', 'E01025', 'E01026', 'E01027', 'E01028', 'E01029',\n",
       "        'E01030', 'E01031', 'E01032', 'E01033', 'W01000', 'W01001'],\n",
       "       dtype=object)]"
      ]
     },
     "execution_count": 98,
     "metadata": {},
     "output_type": "execute_result"
    }
   ],
   "source": [
    "cat_encoder = cat_pipeline.named_steps['encoder']\n",
    "cat_encoder.categories_"
   ]
  },
  {
   "cell_type": "code",
   "execution_count": 99,
   "metadata": {},
   "outputs": [],
   "source": [
    "cat_one_hot_attribs =[] \n",
    "for cat in range(len(cat_encoder.categories_)):\n",
    "    cat_one_hot_attribs = cat_one_hot_attribs + list(cat_encoder.categories_[cat])"
   ]
  },
  {
   "cell_type": "code",
   "execution_count": 100,
   "metadata": {},
   "outputs": [
    {
     "data": {
      "text/plain": [
       "['longitude',\n",
       " 'latitude',\n",
       " 'number_of_vehicles',\n",
       " 'number_of_casualties',\n",
       " '1st_road_number',\n",
       " 'speed_limit',\n",
       " '2nd_road_number',\n",
       " 'Female',\n",
       " 'Male',\n",
       " 'Not known',\n",
       " 'Agricultural vehicle',\n",
       " 'Bus or coach (17 or more pass seats)',\n",
       " 'Car',\n",
       " 'Electric motorcycle',\n",
       " 'Goods 7.5 tonnes mgw and over',\n",
       " 'Goods over 3.5t. and under 7.5t',\n",
       " 'Goods vehicle - unknown weight',\n",
       " 'Minibus (8 - 16 passenger seats)',\n",
       " 'Mobility scooter',\n",
       " 'Motorcycle - unknown cc',\n",
       " 'Motorcycle 125cc and under',\n",
       " 'Motorcycle 50cc and under',\n",
       " 'Motorcycle over 125cc and up to 500cc',\n",
       " 'Motorcycle over 500cc',\n",
       " 'Other vehicle',\n",
       " 'Pedal cycle',\n",
       " 'Ridden horse',\n",
       " 'Taxi/Private hire car',\n",
       " 'Tram',\n",
       " 'Van / Goods 3.5 tonnes mgw or under',\n",
       " 'No',\n",
       " 'Yes',\n",
       " 'Approaching junction or waiting/parked at junction approach',\n",
       " 'Cleared junction or waiting/parked at junction exit',\n",
       " 'Entering from slip road',\n",
       " 'Entering main road',\n",
       " 'Entering roundabout',\n",
       " 'Leaving main road',\n",
       " 'Leaving roundabout',\n",
       " 'Mid Junction - on roundabout or on main road',\n",
       " 'Not at or within 20 metres of junction',\n",
       " 'Age_of_Driver',\n",
       " 'Age_of_Vehicle',\n",
       " 'Engine_Capacity_(CC)',\n",
       " 'casualties_per_vehicle',\n",
       " 'A',\n",
       " 'A(M)',\n",
       " 'B',\n",
       " 'C',\n",
       " 'Motorway',\n",
       " 'Unclassified',\n",
       " 'Dual carriageway',\n",
       " 'One way street',\n",
       " 'Roundabout',\n",
       " 'Single carriageway',\n",
       " 'Slip road',\n",
       " 'Unknown',\n",
       " 'Crossroads',\n",
       " 'Mini-roundabout',\n",
       " 'More than 4 arms (not roundabout)',\n",
       " 'Not at junction or within 20 metres',\n",
       " 'Other junction',\n",
       " 'Private drive or entrance',\n",
       " 'Roundabout',\n",
       " 'Slip road',\n",
       " 'T or staggered junction',\n",
       " 'Control by other authorised person',\n",
       " 'Control by school crossing patrol',\n",
       " 'None within 50 metres',\n",
       " 'Central refuge',\n",
       " 'Footbridge or subway',\n",
       " 'No physical crossing facilities within 50 metres',\n",
       " 'Pedestrian phase at traffic signal junction',\n",
       " 'Pelican, puffin, toucan or similar non-junction pedestrian light crossing',\n",
       " 'Zebra',\n",
       " 'Darkness - lighting unknown',\n",
       " 'Darkness - lights lit',\n",
       " 'Darkness - lights unlit',\n",
       " 'Darkness - no lighting',\n",
       " 'Daylight',\n",
       " 'Fine + high winds',\n",
       " 'Fine no high winds',\n",
       " 'Fog or mist',\n",
       " 'Other',\n",
       " 'Raining + high winds',\n",
       " 'Raining no high winds',\n",
       " 'Snowing + high winds',\n",
       " 'Snowing no high winds',\n",
       " 'Unknown',\n",
       " 'Dry',\n",
       " 'Flood over 3cm. deep',\n",
       " 'Frost or ice',\n",
       " 'Snow',\n",
       " 'Wet or damp',\n",
       " 'Auto signal part defective',\n",
       " 'Auto traffic signal - out',\n",
       " 'Mud',\n",
       " 'None',\n",
       " 'Oil or diesel',\n",
       " 'Road sign or marking defective or obscured',\n",
       " 'Road surface defective',\n",
       " 'Roadworks',\n",
       " 'Any animal in carriageway (except ridden horse)',\n",
       " 'None',\n",
       " 'Other object on road',\n",
       " 'Pedestrian in carriageway - not injured',\n",
       " 'Previous accident',\n",
       " 'Vehicle load on road',\n",
       " 'Rural',\n",
       " 'Urban',\n",
       " 'E01000',\n",
       " 'E01001',\n",
       " 'E01002',\n",
       " 'E01003',\n",
       " 'E01004',\n",
       " 'E01005',\n",
       " 'E01006',\n",
       " 'E01007',\n",
       " 'E01008',\n",
       " 'E01009',\n",
       " 'E01010',\n",
       " 'E01011',\n",
       " 'E01012',\n",
       " 'E01013',\n",
       " 'E01014',\n",
       " 'E01015',\n",
       " 'E01016',\n",
       " 'E01017',\n",
       " 'E01018',\n",
       " 'E01019',\n",
       " 'E01020',\n",
       " 'E01021',\n",
       " 'E01022',\n",
       " 'E01023',\n",
       " 'E01024',\n",
       " 'E01025',\n",
       " 'E01026',\n",
       " 'E01027',\n",
       " 'E01028',\n",
       " 'E01029',\n",
       " 'E01030',\n",
       " 'E01031',\n",
       " 'E01032',\n",
       " 'E01033',\n",
       " 'W01000',\n",
       " 'W01001',\n",
       " 'year',\n",
       " 'month',\n",
       " 'week',\n",
       " 'day',\n",
       " 'hour',\n",
       " 'minute']"
      ]
     },
     "execution_count": 100,
     "metadata": {},
     "output_type": "execute_result"
    }
   ],
   "source": [
    "attributes = num_attributes + extra_attributes + cat_one_hot_attribs + date_attributes\n",
    "attributes"
   ]
  },
  {
   "cell_type": "markdown",
   "metadata": {},
   "source": [
    "# Select and Train a model"
   ]
  },
  {
   "cell_type": "markdown",
   "metadata": {},
   "source": [
    "We formed the problem, got the data and explored it and wrote transformation pipelines to clean up and prepare the data for ML algorithms automatically. We are now ready to select and train ML models."
   ]
  },
  {
   "cell_type": "markdown",
   "metadata": {},
   "source": [
    "## Training and Evaluating a Binary Classifier"
   ]
  },
  {
   "cell_type": "code",
   "execution_count": 101,
   "metadata": {},
   "outputs": [
    {
     "data": {
      "text/plain": [
       "LogisticRegression(C=1.0, class_weight=None, dual=False, fit_intercept=True,\n",
       "          intercept_scaling=1, max_iter=100, multi_class='warn',\n",
       "          n_jobs=None, penalty='l2', random_state=42, solver='liblinear',\n",
       "          tol=0.0001, verbose=0, warm_start=False)"
      ]
     },
     "execution_count": 101,
     "metadata": {},
     "output_type": "execute_result"
    }
   ],
   "source": [
    "from sklearn.linear_model import LogisticRegression\n",
    "\n",
    "log_clf = LogisticRegression(random_state=42, solver='liblinear')\n",
    "log_clf.fit(X_train_prepared, y_train)"
   ]
  },
  {
   "cell_type": "code",
   "execution_count": 102,
   "metadata": {},
   "outputs": [
    {
     "name": "stdout",
     "output_type": "stream",
     "text": [
      "[0 0 0 0 0 0 0 0 0 1 0 0 0 0 0 0 0 0 0]\n",
      "[0 0 0 0 0 0 0 0 0 1 0 0 0 0 0 0 1 0 0]\n"
     ]
    }
   ],
   "source": [
    "some_customers = X_train_prepared[1:20]\n",
    "print(log_clf.predict(some_customers))\n",
    "print(y_train[1:20].ravel())"
   ]
  },
  {
   "cell_type": "markdown",
   "metadata": {},
   "source": [
    "In our sample there are two fatal accidents. The model however couldn't predict correctly."
   ]
  },
  {
   "cell_type": "markdown",
   "metadata": {},
   "source": [
    "### Confusion Matrix"
   ]
  },
  {
   "cell_type": "markdown",
   "metadata": {},
   "source": [
    "To compute the confusion matrix we first need to have a set of predictions so they can be compared to the actual targets. Therefore we use the `cross_val_predict()` function:"
   ]
  },
  {
   "cell_type": "code",
   "execution_count": 103,
   "metadata": {},
   "outputs": [],
   "source": [
    "from sklearn.model_selection import cross_val_predict\n",
    "from sklearn.metrics import confusion_matrix, precision_score, recall_score, f1_score, roc_auc_score"
   ]
  },
  {
   "cell_type": "code",
   "execution_count": 104,
   "metadata": {},
   "outputs": [],
   "source": [
    "def display_scores(target, prediction, scores):\n",
    "    print('Precision: ', precision_score(target, prediction))\n",
    "    print('Recall:    ', recall_score(target, prediction))\n",
    "    print('F1:        ', f1_score(target, prediction))\n",
    "    print('ROC AUC:   ', roc_auc_score(target, scores))\n",
    "    print(confusion_matrix(target, prediction))"
   ]
  },
  {
   "cell_type": "code",
   "execution_count": 105,
   "metadata": {},
   "outputs": [
    {
     "name": "stdout",
     "output_type": "stream",
     "text": [
      "Precision:  0.5551227113361901\n",
      "Recall:     0.07827089970339449\n",
      "F1:         0.13719732344870744\n",
      "ROC AUC:    0.715109794104174\n",
      "[[86480  1142]\n",
      " [16781  1425]]\n"
     ]
    }
   ],
   "source": [
    "from sklearn.linear_model import LogisticRegression\n",
    "from sklearn.preprocessing import PolynomialFeatures\n",
    "\n",
    "poly_log_clf = Pipeline([\n",
    "    #('poly_features', PolynomialFeatures(degree=2)),\n",
    "    ('log_clf', LogisticRegression(solver='liblinear'))\n",
    "])\n",
    "\n",
    "log_pred = cross_val_predict(poly_log_clf, X_train_prepared, y_train, cv=3)\n",
    "\n",
    "log_scores = cross_val_predict(poly_log_clf, X_train_prepared, y_train, cv=3, method='decision_function')\n",
    "\n",
    "display_scores(y_train, log_pred, log_scores)"
   ]
  },
  {
   "cell_type": "code",
   "execution_count": 106,
   "metadata": {},
   "outputs": [
    {
     "name": "stdout",
     "output_type": "stream",
     "text": [
      "Precision:  0.3898401826484018\n",
      "Recall:     0.1500604196418763\n",
      "F1:         0.21670500515586577\n",
      "ROC AUC:    0.6319642159144881\n",
      "[[83346  4276]\n",
      " [15474  2732]]\n"
     ]
    }
   ],
   "source": [
    "from sklearn.linear_model import SGDClassifier\n",
    "\n",
    "sgd_clf = SGDClassifier(max_iter=5, random_state=42)\n",
    "\n",
    "sgd_pred = cross_val_predict(sgd_clf, X_train_prepared, y_train, cv=3)\n",
    "\n",
    "sgd_scores = cross_val_predict(sgd_clf, X_train_prepared, y_train, cv=3, method=\"decision_function\")\n",
    "\n",
    "display_scores(y_train, sgd_pred, sgd_scores)"
   ]
  },
  {
   "cell_type": "code",
   "execution_count": 107,
   "metadata": {},
   "outputs": [
    {
     "name": "stdout",
     "output_type": "stream",
     "text": [
      "Precision:  0.4335232668566002\n",
      "Recall:     0.1002966055146655\n",
      "F1:         0.16290480863591758\n",
      "ROC AUC:    0.6882118426600266\n",
      "[[85236  2386]\n",
      " [16380  1826]]\n"
     ]
    }
   ],
   "source": [
    "from sklearn.tree import DecisionTreeClassifier\n",
    "\n",
    "tree_clf = DecisionTreeClassifier(max_depth=10)\n",
    "\n",
    "tree_pred = cross_val_predict(tree_clf, X_train_prepared, y_train, cv=3)\n",
    "\n",
    "tree_proba = cross_val_predict(tree_clf, X_train_prepared, y_train, cv=3, method='predict_proba')\n",
    "tree_scores = tree_proba[:,1]\n",
    "\n",
    "display_scores(y_train, tree_pred, tree_scores)"
   ]
  },
  {
   "cell_type": "code",
   "execution_count": 108,
   "metadata": {},
   "outputs": [
    {
     "name": "stdout",
     "output_type": "stream",
     "text": [
      "Precision:  0.45192958700067704\n",
      "Recall:     0.07332747445896957\n",
      "F1:         0.12618147448015124\n",
      "ROC AUC:    0.6573019043684476\n",
      "[[86003  1619]\n",
      " [16871  1335]]\n"
     ]
    }
   ],
   "source": [
    "from sklearn.ensemble import RandomForestClassifier\n",
    "\n",
    "forest_clf = RandomForestClassifier(random_state=42, n_estimators=10)\n",
    "\n",
    "forest_pred = cross_val_predict(forest_clf, X_train_prepared, y_train, cv=3)\n",
    "\n",
    "forest_proba = cross_val_predict(forest_clf, X_train_prepared, y_train, cv=3, method='predict_proba')\n",
    "forest_scores = forest_proba[:,1]\n",
    "\n",
    "display_scores(y_train, forest_pred, forest_scores)"
   ]
  },
  {
   "cell_type": "markdown",
   "metadata": {},
   "source": [
    "### Precision/Recall Tradeoff"
   ]
  },
  {
   "cell_type": "markdown",
   "metadata": {},
   "source": [
    "Increasing precision reduces recall, and vice versa. This is called the _precision/recall_ tradeoff"
   ]
  },
  {
   "cell_type": "code",
   "execution_count": 109,
   "metadata": {},
   "outputs": [],
   "source": [
    "from sklearn.metrics import precision_recall_curve\n",
    "\n",
    "log_precisions, log_recalls, log_thresholds = precision_recall_curve(y_train, log_scores)\n",
    "tree_precisions, tree_recalls, tree_thresholds = precision_recall_curve(y_train, tree_scores)\n",
    "forest_precisions, forest_recalls, forest_thresholds = precision_recall_curve(y_train, forest_scores)\n",
    "sgd_precisions, sgd_recalls, sgd_thresholds = precision_recall_curve(y_train, sgd_scores)"
   ]
  },
  {
   "cell_type": "code",
   "execution_count": 110,
   "metadata": {},
   "outputs": [
    {
     "name": "stdout",
     "output_type": "stream",
     "text": [
      "Saving figure precision_recall_vs_threshold_plot\n"
     ]
    },
    {
     "data": {
      "image/png": "[encoded data removed]",
      "text/plain": [
       "<Figure size 864x216 with 3 Axes>"
      ]
     },
     "metadata": {
      "needs_background": "light"
     },
     "output_type": "display_data"
    }
   ],
   "source": [
    "def plot_precision_recall_vs_threshold(precisions, recalls, thresholds):\n",
    "    plt.plot(thresholds, precisions[:-1], \"b--\", label=\"Precision\", linewidth=2)\n",
    "    plt.plot(thresholds, recalls[:-1], \"g-\", label=\"Recall\", linewidth=2)\n",
    "    plt.xlabel(\"Threshold\", fontsize=16)\n",
    "    plt.legend(loc=\"upper left\", fontsize=16)\n",
    "    plt.ylim([0, 1])\n",
    "    plt.xlim([np.min(thresholds), np.max(thresholds)])\n",
    "\n",
    "plt.figure(figsize=(12, 3))\n",
    "plt.subplot(131)\n",
    "plot_precision_recall_vs_threshold(log_precisions, log_recalls, log_thresholds)\n",
    "plt.title('Log Regression')\n",
    "plt.subplot(132)\n",
    "plot_precision_recall_vs_threshold(tree_precisions, tree_recalls, tree_thresholds)\n",
    "plt.title('Decision Tree')\n",
    "plt.subplot(133)\n",
    "plot_precision_recall_vs_threshold(forest_precisions, forest_recalls, forest_thresholds)\n",
    "plt.title('Random Forest')\n",
    "\n",
    "save_fig(\"precision_recall_vs_threshold_plot\")\n",
    "plt.show()"
   ]
  },
  {
   "cell_type": "code",
   "execution_count": 111,
   "metadata": {},
   "outputs": [
    {
     "name": "stdout",
     "output_type": "stream",
     "text": [
      "Saving figure precision_vs_recall_plot\n"
     ]
    },
    {
     "data": {
      "image/png": "[encoded data removed]",
      "text/plain": [
       "<Figure size 288x216 with 1 Axes>"
      ]
     },
     "metadata": {
      "needs_background": "light"
     },
     "output_type": "display_data"
    }
   ],
   "source": [
    "def plot_precision_vs_recall(recalls, precisions, label=None):\n",
    "    plt.plot(recalls, precisions, linewidth=2, label=label)\n",
    "    plt.xlabel(\"Recall\", fontsize=12)\n",
    "    plt.ylabel(\"Precision\", fontsize=12)\n",
    "    plt.axis([0, 1, 0, 1])\n",
    "    \n",
    "plt.figure(figsize=(4, 3))\n",
    "plt.plot(log_recalls, log_precisions, 'r--', label='Log Regression')\n",
    "plt.plot(tree_recalls, tree_precisions, 'g--', label='Decision Tree')\n",
    "plt.plot(sgd_recalls, sgd_precisions, 'b--', label='SGD')\n",
    "plot_precision_vs_recall(forest_recalls, forest_precisions, label='Rnd Forest')\n",
    "plt.legend(loc='upper right')\n",
    "\n",
    "save_fig(\"precision_vs_recall_plot\")\n",
    "plt.show()"
   ]
  },
  {
   "cell_type": "markdown",
   "metadata": {},
   "source": [
    "### ROC Curves"
   ]
  },
  {
   "cell_type": "code",
   "execution_count": 112,
   "metadata": {},
   "outputs": [],
   "source": [
    "from sklearn.metrics import roc_curve\n",
    "\n",
    "def plot_roc_curve(fpr, tpr, label=None):\n",
    "    plt.plot(fpr, tpr, linewidth=2, label=label)\n",
    "    plt.plot([0, 1], [0, 1], 'k--', label='Rnd Classifier')\n",
    "    plt.axis([0, 1, 0, 1])\n",
    "    plt.xlabel('False Positive Rate', fontsize=12)\n",
    "    plt.ylabel('True Positive Rate', fontsize=12)"
   ]
  },
  {
   "cell_type": "code",
   "execution_count": 113,
   "metadata": {},
   "outputs": [],
   "source": [
    "log_fpr, log_tpr, log_thresholds = roc_curve(y_train, log_scores)"
   ]
  },
  {
   "cell_type": "code",
   "execution_count": 114,
   "metadata": {},
   "outputs": [],
   "source": [
    "tree_fpr, tree_tpr, tree_thresholds = roc_curve(y_train, tree_scores)"
   ]
  },
  {
   "cell_type": "code",
   "execution_count": 115,
   "metadata": {},
   "outputs": [],
   "source": [
    "forest_fpr, forest_tpr, forest_thresholds = roc_curve(y_train, forest_scores)"
   ]
  },
  {
   "cell_type": "code",
   "execution_count": 116,
   "metadata": {},
   "outputs": [],
   "source": [
    "sgd_fpr, sgd_tpr, sgd_thresholds = roc_curve(y_train, sgd_scores)"
   ]
  },
  {
   "cell_type": "code",
   "execution_count": 117,
   "metadata": {},
   "outputs": [
    {
     "name": "stdout",
     "output_type": "stream",
     "text": [
      "Saving figure roc_curves_plot\n"
     ]
    },
    {
     "data": {
      "image/png": "[encoded data removed]",
      "text/plain": [
       "<Figure size 288x216 with 1 Axes>"
      ]
     },
     "metadata": {
      "needs_background": "light"
     },
     "output_type": "display_data"
    }
   ],
   "source": [
    "plt.figure(figsize=(4, 3))\n",
    "plt.plot(log_fpr, log_tpr, 'r--', label='Log Regression')\n",
    "plt.plot(tree_fpr, tree_tpr, 'g--', label='Decision Tree')\n",
    "plt.plot(sgd_fpr, sgd_tpr, 'b--', label='SGD')\n",
    "plot_roc_curve(forest_fpr, forest_tpr, \"Rnd Forest\")\n",
    "plt.legend(loc='lower right')\n",
    "save_fig(\"roc_curves_plot\")\n",
    "plt.show()"
   ]
  },
  {
   "cell_type": "markdown",
   "metadata": {},
   "source": [
    "## Fine-tune the Model"
   ]
  },
  {
   "cell_type": "markdown",
   "metadata": {},
   "source": [
    "### Grid Search"
   ]
  },
  {
   "cell_type": "code",
   "execution_count": 118,
   "metadata": {},
   "outputs": [
    {
     "name": "stdout",
     "output_type": "stream",
     "text": [
      "Fitting 3 folds for each of 54 candidates, totalling 162 fits\n"
     ]
    },
    {
     "name": "stderr",
     "output_type": "stream",
     "text": [
      "[Parallel(n_jobs=-1)]: Using backend LokyBackend with 4 concurrent workers.\n",
      "[Parallel(n_jobs=-1)]: Done  33 tasks      | elapsed:   34.3s\n",
      "[Parallel(n_jobs=-1)]: Done 154 tasks      | elapsed:  3.8min\n",
      "[Parallel(n_jobs=-1)]: Done 162 out of 162 | elapsed:  4.1min finished\n"
     ]
    },
    {
     "data": {
      "text/plain": [
       "GridSearchCV(cv=3, error_score='raise-deprecating',\n",
       "       estimator=RandomForestClassifier(bootstrap=True, class_weight=None, criterion='gini',\n",
       "            max_depth=None, max_features='auto', max_leaf_nodes=None,\n",
       "            min_impurity_decrease=0.0, min_impurity_split=None,\n",
       "            min_samples_leaf=1, min_samples_split=2,\n",
       "            min_weight_fraction_leaf=0.0, n_estimators='warn', n_jobs=None,\n",
       "            oob_score=False, random_state=42, verbose=0, warm_start=False),\n",
       "       fit_params=None, iid='warn', n_jobs=-1,\n",
       "       param_grid=[{'n_estimators': [5, 10, 50], 'max_features': [10, 15, 20], 'max_depth': [10, 15, 20]}, {'bootstrap': [False], 'n_estimators': [5, 10, 50], 'max_features': [10, 15, 20], 'max_depth': [10, 15, 20]}],\n",
       "       pre_dispatch='2*n_jobs', refit=True, return_train_score=True,\n",
       "       scoring='f1', verbose=2)"
      ]
     },
     "execution_count": 118,
     "metadata": {},
     "output_type": "execute_result"
    }
   ],
   "source": [
    "from sklearn.model_selection import GridSearchCV\n",
    "\n",
    "param_grid = [\n",
    "    {'n_estimators': [5, 10, 50], \n",
    "     'max_features': [10, 15, 20],\n",
    "     'max_depth': [10, 15, 20]},\n",
    "    {'bootstrap': [False],\n",
    "     'n_estimators': [5, 10, 50],\n",
    "     'max_features': [10, 15, 20],\n",
    "     'max_depth': [10, 15, 20]}\n",
    "]\n",
    "\n",
    "forest_clf = RandomForestClassifier(random_state=42)\n",
    "forest_grd_search = GridSearchCV(forest_clf, param_grid, cv=3, scoring='f1',\n",
    "                                  return_train_score=True, verbose=2, n_jobs=-1)\n",
    "forest_grd_search.fit(X_train_prepared, y_train)"
   ]
  },
  {
   "cell_type": "code",
   "execution_count": 119,
   "metadata": {},
   "outputs": [
    {
     "data": {
      "text/plain": [
       "{'bootstrap': False, 'max_depth': 20, 'max_features': 20, 'n_estimators': 5}"
      ]
     },
     "execution_count": 119,
     "metadata": {},
     "output_type": "execute_result"
    }
   ],
   "source": [
    "forest_grd_search.best_params_"
   ]
  },
  {
   "cell_type": "code",
   "execution_count": 120,
   "metadata": {},
   "outputs": [
    {
     "data": {
      "text/plain": [
       "RandomForestClassifier(bootstrap=False, class_weight=None, criterion='gini',\n",
       "            max_depth=20, max_features=20, max_leaf_nodes=None,\n",
       "            min_impurity_decrease=0.0, min_impurity_split=None,\n",
       "            min_samples_leaf=1, min_samples_split=2,\n",
       "            min_weight_fraction_leaf=0.0, n_estimators=5, n_jobs=None,\n",
       "            oob_score=False, random_state=42, verbose=0, warm_start=False)"
      ]
     },
     "execution_count": 120,
     "metadata": {},
     "output_type": "execute_result"
    }
   ],
   "source": [
    "forest_grd_search.best_estimator_"
   ]
  },
  {
   "cell_type": "code",
   "execution_count": 121,
   "metadata": {},
   "outputs": [
    {
     "name": "stdout",
     "output_type": "stream",
     "text": [
      "Precision:  0.9948131783690327\n",
      "Recall:     0.5688783917389871\n",
      "F1:         0.7238354824055632\n",
      "ROC AUC:    0.9736075548747984\n",
      "[[87568    54]\n",
      " [ 7849 10357]]\n"
     ]
    }
   ],
   "source": [
    "forest_grd_pred = forest_grd_search.best_estimator_.predict(X_train_prepared)\n",
    "forest_grd_proba = forest_grd_search.best_estimator_.predict_proba(X_train_prepared)\n",
    "forest_grd_scores = forest_grd_proba[:,1]\n",
    "display_scores(y_train, forest_grd_pred, forest_grd_scores)"
   ]
  },
  {
   "cell_type": "code",
   "execution_count": 122,
   "metadata": {},
   "outputs": [],
   "source": [
    "forest_grd_fpr, forest_grd_tpr, forest_grd_thresholds = roc_curve(y_train, forest_grd_scores)"
   ]
  },
  {
   "cell_type": "code",
   "execution_count": 123,
   "metadata": {},
   "outputs": [
    {
     "name": "stdout",
     "output_type": "stream",
     "text": [
      "Saving figure roc_curves_after_gridsearch_plot\n"
     ]
    },
    {
     "data": {
      "image/png": "[encoded data removed]",
      "text/plain": [
       "<Figure size 288x216 with 1 Axes>"
      ]
     },
     "metadata": {
      "needs_background": "light"
     },
     "output_type": "display_data"
    }
   ],
   "source": [
    "plt.figure(figsize=(4, 3))\n",
    "plt.plot(log_fpr, log_tpr, 'r--', label='Log Regres')\n",
    "plt.plot(tree_fpr, tree_tpr, 'g--', label='Decision Tree')\n",
    "plt.plot(forest_fpr, forest_tpr, 'b-.', label='Rnd Forest')\n",
    "plot_roc_curve(forest_grd_fpr, forest_grd_tpr, \"Rnd Forest GrdSrch\")\n",
    "plt.legend(loc='lower right')\n",
    "save_fig(\"roc_curves_after_gridsearch_plot\")\n",
    "plt.show()"
   ]
  },
  {
   "cell_type": "markdown",
   "metadata": {},
   "source": [
    "### Randomized Grid Search"
   ]
  },
  {
   "cell_type": "code",
   "execution_count": 124,
   "metadata": {},
   "outputs": [
    {
     "name": "stdout",
     "output_type": "stream",
     "text": [
      "Fitting 3 folds for each of 50 candidates, totalling 150 fits\n"
     ]
    },
    {
     "name": "stderr",
     "output_type": "stream",
     "text": [
      "[Parallel(n_jobs=-1)]: Using backend LokyBackend with 4 concurrent workers.\n",
      "[Parallel(n_jobs=-1)]: Done  33 tasks      | elapsed:   58.1s\n",
      "[Parallel(n_jobs=-1)]: Done 150 out of 150 | elapsed:  3.2min finished\n"
     ]
    },
    {
     "data": {
      "text/plain": [
       "RandomizedSearchCV(cv=3, error_score='raise-deprecating',\n",
       "          estimator=RandomForestClassifier(bootstrap=True, class_weight=None, criterion='gini',\n",
       "            max_depth=None, max_features='auto', max_leaf_nodes=None,\n",
       "            min_impurity_decrease=0.0, min_impurity_split=None,\n",
       "            min_samples_leaf=1, min_samples_split=2,\n",
       "            min_weight_fraction_leaf=0.0, n_estimators='warn', n_jobs=None,\n",
       "            oob_score=False, random_state=42, verbose=0, warm_start=False),\n",
       "          fit_params=None, iid='warn', n_iter=50, n_jobs=-1,\n",
       "          param_distributions={'bootstrap': [False], 'n_estimators': <scipy.stats._distn_infrastructure.rv_frozen object at 0x0000026D2B083B38>, 'max_features': <scipy.stats._distn_infrastructure.rv_frozen object at 0x0000026D2B07A5F8>, 'max_depth': <scipy.stats._distn_infrastructure.rv_frozen object at 0x0000026D2B07AF28>},\n",
       "          pre_dispatch='2*n_jobs', random_state=42, refit=True,\n",
       "          return_train_score=True, scoring='f1', verbose=2)"
      ]
     },
     "execution_count": 124,
     "metadata": {},
     "output_type": "execute_result"
    }
   ],
   "source": [
    "from sklearn.model_selection import RandomizedSearchCV\n",
    "from scipy.stats import randint\n",
    "\n",
    "param_distribs = {\n",
    "    'bootstrap':[False],\n",
    "    'n_estimators': randint(low=5, high=30),\n",
    "    'max_features': randint(low=5, high=25),\n",
    "    'max_depth': randint(low=5, high=25)\n",
    "    }\n",
    "\n",
    "forest_clf = RandomForestClassifier(random_state=42)\n",
    "forest_rnd_search = RandomizedSearchCV(forest_clf, param_distributions=param_distribs,\n",
    "                                       n_iter=50, cv=3, scoring='f1', return_train_score=True,\n",
    "                                       random_state=42, verbose=2, n_jobs=-1)\n",
    "forest_rnd_search.fit(X_train_prepared, y_train)"
   ]
  },
  {
   "cell_type": "code",
   "execution_count": 125,
   "metadata": {},
   "outputs": [
    {
     "data": {
      "text/plain": [
       "{'bootstrap': False, 'max_depth': 22, 'max_features': 16, 'n_estimators': 6}"
      ]
     },
     "execution_count": 125,
     "metadata": {},
     "output_type": "execute_result"
    }
   ],
   "source": [
    "forest_rnd_search.best_params_"
   ]
  },
  {
   "cell_type": "code",
   "execution_count": 126,
   "metadata": {},
   "outputs": [
    {
     "data": {
      "text/plain": [
       "RandomForestClassifier(bootstrap=False, class_weight=None, criterion='gini',\n",
       "            max_depth=22, max_features=16, max_leaf_nodes=None,\n",
       "            min_impurity_decrease=0.0, min_impurity_split=None,\n",
       "            min_samples_leaf=1, min_samples_split=2,\n",
       "            min_weight_fraction_leaf=0.0, n_estimators=6, n_jobs=None,\n",
       "            oob_score=False, random_state=42, verbose=0, warm_start=False)"
      ]
     },
     "execution_count": 126,
     "metadata": {},
     "output_type": "execute_result"
    }
   ],
   "source": [
    "forest_rnd_search.best_estimator_"
   ]
  },
  {
   "cell_type": "code",
   "execution_count": 127,
   "metadata": {},
   "outputs": [
    {
     "name": "stdout",
     "output_type": "stream",
     "text": [
      "Precision:  0.9986527450319973\n",
      "Recall:     0.6514335933208832\n",
      "F1:         0.788511402167409\n",
      "ROC AUC:    0.9894955432494978\n",
      "[[87606    16]\n",
      " [ 6346 11860]]\n"
     ]
    }
   ],
   "source": [
    "forest_rnd_pred = forest_rnd_search.best_estimator_.predict(X_train_prepared)\n",
    "\n",
    "forest_rnd_proba = forest_rnd_search.best_estimator_.predict_proba(X_train_prepared)\n",
    "forest_rnd_scores = forest_rnd_proba[:,1]\n",
    "\n",
    "display_scores(y_train, forest_rnd_pred, forest_rnd_scores)"
   ]
  },
  {
   "cell_type": "code",
   "execution_count": 128,
   "metadata": {},
   "outputs": [],
   "source": [
    "forest_rnd_fpr, forest_rnd_tpr, forest_rnd_thresholds = roc_curve(y_train, forest_rnd_scores)"
   ]
  },
  {
   "cell_type": "code",
   "execution_count": 129,
   "metadata": {},
   "outputs": [
    {
     "name": "stdout",
     "output_type": "stream",
     "text": [
      "Saving figure roc_curves_after_randomsearch_plot\n"
     ]
    },
    {
     "data": {
      "image/png": "[encoded data removed]",
      "text/plain": [
       "<Figure size 288x216 with 1 Axes>"
      ]
     },
     "metadata": {
      "needs_background": "light"
     },
     "output_type": "display_data"
    }
   ],
   "source": [
    "plt.figure(figsize=(4, 3))\n",
    "plt.plot(log_fpr, log_tpr, 'r--', label='Log Regres')\n",
    "plt.plot(tree_fpr, tree_tpr, 'g--', label='Decision Tree')\n",
    "plt.plot(forest_fpr, forest_tpr, 'b-.', label='Rnd Forest')\n",
    "plot_roc_curve(forest_rnd_fpr, forest_rnd_tpr, \"Rnd Forest RndSrch\")\n",
    "plt.legend(loc='lower right')\n",
    "save_fig(\"roc_curves_after_randomsearch_plot\")\n",
    "plt.show()"
   ]
  },
  {
   "cell_type": "markdown",
   "metadata": {},
   "source": [
    "### Final Model"
   ]
  },
  {
   "cell_type": "code",
   "execution_count": 130,
   "metadata": {},
   "outputs": [
    {
     "data": {
      "text/plain": [
       "RandomForestClassifier(bootstrap=False, class_weight=None, criterion='gini',\n",
       "            max_depth=22, max_features=16, max_leaf_nodes=None,\n",
       "            min_impurity_decrease=0.0, min_impurity_split=None,\n",
       "            min_samples_leaf=1, min_samples_split=2,\n",
       "            min_weight_fraction_leaf=0.0, n_estimators=6, n_jobs=None,\n",
       "            oob_score=False, random_state=42, verbose=0, warm_start=False)"
      ]
     },
     "execution_count": 130,
     "metadata": {},
     "output_type": "execute_result"
    }
   ],
   "source": [
    "final_model = forest_rnd_search.best_estimator_\n",
    "final_model"
   ]
  },
  {
   "cell_type": "markdown",
   "metadata": {},
   "source": [
    "### Feature Importances"
   ]
  },
  {
   "cell_type": "code",
   "execution_count": 131,
   "metadata": {},
   "outputs": [],
   "source": [
    "feature_importances = final_model.feature_importances_"
   ]
  },
  {
   "cell_type": "code",
   "execution_count": 132,
   "metadata": {},
   "outputs": [
    {
     "data": {
      "text/plain": [
       "[(0.05915961767173623, 'latitude'),\n",
       " (0.057528040939994, 'longitude'),\n",
       " (0.05564403387103827, 'Engine_Capacity_(CC)'),\n",
       " (0.0515673957737677, 'Age_of_Driver'),\n",
       " (0.04061666035563465, 'minute'),\n",
       " (0.040197633706438994, '1st_road_number'),\n",
       " (0.03970824333663311, 'day'),\n",
       " (0.039075620261060755, 'week'),\n",
       " (0.0386938330248874, 'Age_of_Vehicle'),\n",
       " (0.038107213045170486, 'hour'),\n",
       " (0.03536964478211371, 'Car'),\n",
       " (0.033209914668896695, 'Motorcycle over 500cc'),\n",
       " (0.031735690545624994, 'casualties_per_vehicle'),\n",
       " (0.027349013091132357, 'month'),\n",
       " (0.021191358488545888, 'speed_limit'),\n",
       " (0.0151202129822363, 'number_of_casualties'),\n",
       " (0.013570314528720482, '2nd_road_number'),\n",
       " (0.011580610077405707, 'Male'),\n",
       " (0.009886514698659634, 'Female'),\n",
       " (0.009418951919095532, 'number_of_vehicles'),\n",
       " (0.009115763824390255, 'Pedal cycle'),\n",
       " (0.00901529090326351,\n",
       "  'Approaching junction or waiting/parked at junction approach'),\n",
       " (0.008559063648032175, 'Urban'),\n",
       " (0.00822409589536124, 'Mid Junction - on roundabout or on main road'),\n",
       " (0.00807643608669523, 'Not at or within 20 metres of junction'),\n",
       " (0.0074557060647836145, 'Motorcycle 125cc and under'),\n",
       " (0.007381936936782192, 'A'),\n",
       " (0.006879709602675366, 'Single carriageway'),\n",
       " (0.006716464164549268, 'Rural'),\n",
       " (0.006262921620425135, 'Dry'),\n",
       " (0.005876659544454994, 'No'),\n",
       " (0.005834711467214167, 'Daylight'),\n",
       " (0.005822432880398195, 'Unclassified'),\n",
       " (0.005771338719659964, 'Wet or damp'),\n",
       " (0.005512790095377849, 'T or staggered junction'),\n",
       " (0.005376289180622148, 'Fine no high winds'),\n",
       " (0.005327399742304788, 'Not known'),\n",
       " (0.005273560828539339, 'Van / Goods 3.5 tonnes mgw or under'),\n",
       " (0.005261510411873508, 'Not at junction or within 20 metres'),\n",
       " (0.005084901608538178, 'No physical crossing facilities within 50 metres'),\n",
       " (0.004756961989895107, 'B'),\n",
       " (0.004649851911835189, 'Darkness - lights lit'),\n",
       " (0.004395115465160681, 'Cleared junction or waiting/parked at junction exit'),\n",
       " (0.004263775524435556, 'Dual carriageway'),\n",
       " (0.004107921235924585, 'Darkness - no lighting'),\n",
       " (0.00410435637141037, 'Motorcycle over 125cc and up to 500cc'),\n",
       " (0.003919127211144937, 'Entering main road'),\n",
       " (0.003703634477774116, 'Crossroads'),\n",
       " (0.003683103517242659, 'Roundabout'),\n",
       " (0.003579083361203277, 'C'),\n",
       " (0.0035787517284086925, 'Leaving main road'),\n",
       " (0.003524508995191706, 'Raining no high winds'),\n",
       " (0.003481795633627794, 'Goods 7.5 tonnes mgw and over'),\n",
       " (0.0034434194237188474, 'E01002'),\n",
       " (0.0034032184150763803, 'E01021'),\n",
       " (0.0033479672565122766,\n",
       "  'Pelican, puffin, toucan or similar non-junction pedestrian light crossing'),\n",
       " (0.0033386285217111597, 'E01022'),\n",
       " (0.0032025040887331386, 'E01031'),\n",
       " (0.0027035829848107026, 'E01017'),\n",
       " (0.0026861383412176243, 'E01027'),\n",
       " (0.00262953195364189, 'Bus or coach (17 or more pass seats)'),\n",
       " (0.0026088761975748237, 'E01028'),\n",
       " (0.0025925225341397475, 'E01019'),\n",
       " (0.002498336994558119, 'E01023'),\n",
       " (0.0024858001048641636, 'E01024'),\n",
       " (0.0024054425525643964, 'Private drive or entrance'),\n",
       " (0.0023975234621001562, 'Taxi/Private hire car'),\n",
       " (0.002396328631653078, 'Pedestrian phase at traffic signal junction'),\n",
       " (0.0023385156513714895, 'E01016'),\n",
       " (0.0023045054780050345, 'Central refuge'),\n",
       " (0.0022819222617918105, 'E01026'),\n",
       " (0.0022812873780072526, 'E01030'),\n",
       " (0.002277001164174609, 'E01018'),\n",
       " (0.0022693505671556586, 'E01015'),\n",
       " (0.0022275768375931387, 'E01029'),\n",
       " (0.002225537213890223, 'E01020'),\n",
       " (0.0022027900837676214, 'Motorcycle 50cc and under'),\n",
       " (0.0021880082032432334, 'E01007'),\n",
       " (0.002156526721226772, 'Entering roundabout'),\n",
       " (0.002126023438741583, 'Roundabout'),\n",
       " (0.0020848079735831587, 'E01033'),\n",
       " (0.0020781157589871515, 'None'),\n",
       " (0.002064832787683011, 'Other junction'),\n",
       " (0.002052987781146141, 'E01032'),\n",
       " (0.001983502541469384, 'W01000'),\n",
       " (0.001963399312570758, 'E01013'),\n",
       " (0.0019512821931152652, 'E01025'),\n",
       " (0.0018170306730104096, 'E01011'),\n",
       " (0.0017770675054225506, 'Other'),\n",
       " (0.0017767140616657493, 'Other vehicle'),\n",
       " (0.001760311920786812, 'None'),\n",
       " (0.0017594143790642472, 'Zebra'),\n",
       " (0.001753691739330148, 'E01006'),\n",
       " (0.001753215672087741, 'Darkness - lighting unknown'),\n",
       " (0.0017069012786432747, 'Unknown'),\n",
       " (0.001690732624486948, 'E01004'),\n",
       " (0.0016273713317578441, 'Frost or ice'),\n",
       " (0.0016273005843386393, 'E01014'),\n",
       " (0.001623118852871839, 'E01012'),\n",
       " (0.0016094522547641839, 'Motorway'),\n",
       " (0.0016087909853668928, 'One way street'),\n",
       " (0.0015844854261563366, 'E01009'),\n",
       " (0.0015586530705031841, 'Leaving roundabout'),\n",
       " (0.0015584567183804037, 'E01003'),\n",
       " (0.0014249451056226774, 'E01005'),\n",
       " (0.0013967250406572837, 'W01001'),\n",
       " (0.001333700346225937, 'Other object on road'),\n",
       " (0.001330596783883351, 'Goods over 3.5t. and under 7.5t'),\n",
       " (0.0013253064065312818, 'Darkness - lights unlit'),\n",
       " (0.0013236214108198353, 'Fine + high winds'),\n",
       " (0.0013115742985080243, 'Raining + high winds'),\n",
       " (0.0012380297476544096, 'E01010'),\n",
       " (0.0012368941354619167, 'E01008'),\n",
       " (0.001181184272667947, 'Motorcycle - unknown cc'),\n",
       " (0.0011157182793643339, 'Roadworks'),\n",
       " (0.0010650830927445415, 'Slip road'),\n",
       " (0.0010496526856830519, 'Yes'),\n",
       " (0.001020490567966909, 'E01001'),\n",
       " (0.0009868878686187228, 'E01000'),\n",
       " (0.0009559549797131615, 'Slip road'),\n",
       " (0.0008926848423560841, 'Goods vehicle - unknown weight'),\n",
       " (0.0008842373346739065, 'Fog or mist'),\n",
       " (0.000803295838295413, 'Oil or diesel'),\n",
       " (0.0007828105430207122, 'Any animal in carriageway (except ridden horse)'),\n",
       " (0.0007762129847653697, 'None within 50 metres'),\n",
       " (0.0007650011522704105, 'More than 4 arms (not roundabout)'),\n",
       " (0.0007596800928555313, 'Unknown'),\n",
       " (0.0007489079514359354, 'Agricultural vehicle'),\n",
       " (0.0007403065829958057, 'Minibus (8 - 16 passenger seats)'),\n",
       " (0.0007311279495282179, 'Mini-roundabout'),\n",
       " (0.0006837884045997406, 'Control by other authorised person'),\n",
       " (0.0006795876500802168, 'Road surface defective'),\n",
       " (0.0005949487645732873, 'Auto traffic signal - out'),\n",
       " (0.0005926433543629807, 'Entering from slip road'),\n",
       " (0.0005921522997730477, 'Road sign or marking defective or obscured'),\n",
       " (0.0004583501724658072, 'Vehicle load on road'),\n",
       " (0.0004218041260717312, 'Flood over 3cm. deep'),\n",
       " (0.0004154672123782381, 'Mud'),\n",
       " (0.00039753171399818974, 'Snowing no high winds'),\n",
       " (0.0003922111010659771, 'Mobility scooter'),\n",
       " (0.00038850159215698954, 'A(M)'),\n",
       " (0.0003726723376736368, 'Previous accident'),\n",
       " (0.0003685296642646061, 'Control by school crossing patrol'),\n",
       " (0.0003185014439536016, 'Footbridge or subway'),\n",
       " (0.0002884973318156031, 'Pedestrian in carriageway - not injured'),\n",
       " (0.00021751964521815595, 'Snow'),\n",
       " (0.00018584064930652613, 'Ridden horse'),\n",
       " (0.00013517516569461595, 'Electric motorcycle'),\n",
       " (0.00011637914866220565, 'Snowing + high winds'),\n",
       " (6.29754274580852e-05, 'Auto signal part defective'),\n",
       " (3.8300193080237416e-05, 'Tram'),\n",
       " (0.0, 'year')]"
      ]
     },
     "execution_count": 132,
     "metadata": {},
     "output_type": "execute_result"
    }
   ],
   "source": [
    "sorted(zip(feature_importances, attributes), reverse=True)"
   ]
  },
  {
   "cell_type": "markdown",
   "metadata": {},
   "source": [
    "The higher, the more important the feature is. The importance of a feature is computed as the (normalized) total reduction of the criterion brought by that feature. It is also known as the Gini importance"
   ]
  },
  {
   "cell_type": "code",
   "execution_count": 133,
   "metadata": {},
   "outputs": [
    {
     "name": "stdout",
     "output_type": "stream",
     "text": [
      "Saving figure feature_importances_plot\n"
     ]
    },
    {
     "data": {
      "image/png": "[encoded data removed]",
      "text/plain": [
       "<Figure size 720x360 with 1 Axes>"
      ]
     },
     "metadata": {
      "needs_background": "light"
     },
     "output_type": "display_data"
    }
   ],
   "source": [
    "indices = np.argsort(feature_importances)[::-1]\n",
    "\n",
    "ranking = pd.DataFrame({'features':[attributes[indices[f]] for f in range(len(attributes[:20]))],\n",
    "                        'values': [feature_importances[indices[f]] for f in range(len(attributes[:20]))]})\n",
    "\n",
    "plt.figure(figsize=(10, 5))\n",
    "sns.barplot(x='values', y='features', data=ranking, orient='h', color='mediumseagreen')\n",
    "plt.title('feature importances')\n",
    "save_fig(\"feature_importances_plot\")\n",
    "plt.show()"
   ]
  },
  {
   "cell_type": "markdown",
   "metadata": {},
   "source": [
    "## Evaluate the model on the Test Set"
   ]
  },
  {
   "cell_type": "code",
   "execution_count": 134,
   "metadata": {},
   "outputs": [],
   "source": [
    "accidents = test_set.copy()"
   ]
  },
  {
   "cell_type": "code",
   "execution_count": 135,
   "metadata": {},
   "outputs": [],
   "source": [
    "vehicle_adder = AddVehiclesAttributes()"
   ]
  },
  {
   "cell_type": "code",
   "execution_count": 136,
   "metadata": {},
   "outputs": [
    {
     "name": "stdout",
     "output_type": "stream",
     "text": [
      "AddVehiclesAttributes transform\n",
      "<class 'pandas.core.frame.DataFrame'>\n",
      "Int64Index: 26418 entries, 121968 to 134074\n",
      "Data columns (total 67 columns):\n",
      "accident_id                                                    26418 non-null int64\n",
      "location_easting_osgr                                          26418 non-null float64\n",
      "location_northing_osgr                                         26418 non-null float64\n",
      "longitude                                                      26418 non-null float64\n",
      "latitude                                                       26418 non-null float64\n",
      "number_of_vehicles                                             26418 non-null int64\n",
      "number_of_casualties                                           26418 non-null int64\n",
      "date                                                           26418 non-null object\n",
      "time                                                           26418 non-null object\n",
      "1st_road_class                                                 26418 non-null object\n",
      "1st_road_number                                                26418 non-null int64\n",
      "road_type                                                      26418 non-null object\n",
      "speed_limit                                                    26418 non-null float64\n",
      "junction_detail                                                26416 non-null object\n",
      "junction_control                                               15594 non-null object\n",
      "2nd_road_class                                                 15470 non-null object\n",
      "2nd_road_number                                                26290 non-null float64\n",
      "pedestrian_crossing-human_control                              26391 non-null object\n",
      "pedestrian_crossing-physical_facilities                        26351 non-null object\n",
      "light_conditions                                               26418 non-null object\n",
      "weather_conditions                                             26418 non-null object\n",
      "road_surface_conditions                                        26320 non-null object\n",
      "special_conditions_at_site                                     26388 non-null object\n",
      "carriageway_hazards                                            26376 non-null object\n",
      "urban_or_rural_area                                            26418 non-null object\n",
      "lsoa_of_accident_location                                      24759 non-null object\n",
      "police_force                                                   26418 non-null object\n",
      "local_authority_district                                       26418 non-null object\n",
      "local_authority_highway                                        26418 non-null object\n",
      "target                                                         26418 non-null int64\n",
      "Female                                                         26418 non-null float64\n",
      "Male                                                           26418 non-null float64\n",
      "Not known                                                      26418 non-null float64\n",
      "Agricultural vehicle                                           26418 non-null float64\n",
      "Bus or coach (17 or more pass seats)                           26418 non-null float64\n",
      "Car                                                            26418 non-null float64\n",
      "Electric motorcycle                                            26418 non-null float64\n",
      "Goods 7.5 tonnes mgw and over                                  26418 non-null float64\n",
      "Goods over 3.5t. and under 7.5t                                26418 non-null float64\n",
      "Goods vehicle - unknown weight                                 26418 non-null float64\n",
      "Minibus (8 - 16 passenger seats)                               26418 non-null float64\n",
      "Mobility scooter                                               26418 non-null float64\n",
      "Motorcycle - unknown cc                                        26418 non-null float64\n",
      "Motorcycle 125cc and under                                     26418 non-null float64\n",
      "Motorcycle 50cc and under                                      26418 non-null float64\n",
      "Motorcycle over 125cc and up to 500cc                          26418 non-null float64\n",
      "Motorcycle over 500cc                                          26418 non-null float64\n",
      "Other vehicle                                                  26418 non-null float64\n",
      "Pedal cycle                                                    26418 non-null float64\n",
      "Ridden horse                                                   26418 non-null float64\n",
      "Taxi/Private hire car                                          26418 non-null float64\n",
      "Tram                                                           26418 non-null float64\n",
      "Van / Goods 3.5 tonnes mgw or under                            26418 non-null float64\n",
      "No                                                             26418 non-null float64\n",
      "Yes                                                            26418 non-null float64\n",
      "Approaching junction or waiting/parked at junction approach    26418 non-null float64\n",
      "Cleared junction or waiting/parked at junction exit            26418 non-null float64\n",
      "Entering from slip road                                        26418 non-null float64\n",
      "Entering main road                                             26418 non-null float64\n",
      "Entering roundabout                                            26418 non-null float64\n",
      "Leaving main road                                              26418 non-null float64\n",
      "Leaving roundabout                                             26418 non-null float64\n",
      "Mid Junction - on roundabout or on main road                   26418 non-null float64\n",
      "Not at or within 20 metres of junction                         26418 non-null float64\n",
      "Age_of_Driver                                                  26031 non-null float64\n",
      "Age_of_Vehicle                                                 23446 non-null float64\n",
      "Engine_Capacity_(CC)                                           23966 non-null float64\n",
      "dtypes: float64(43), int64(5), object(19)\n",
      "memory usage: 13.7+ MB\n"
     ]
    }
   ],
   "source": [
    "X_test = vehicle_adder.transform(accidents)\n",
    "X_test.info()"
   ]
  },
  {
   "cell_type": "code",
   "execution_count": 137,
   "metadata": {},
   "outputs": [
    {
     "name": "stdout",
     "output_type": "stream",
     "text": [
      "DataFrameSelector transform\n",
      "attributes names: ['longitude', 'latitude', 'number_of_vehicles', 'number_of_casualties', '1st_road_number', 'speed_limit', '2nd_road_number', 'Female', 'Male', 'Not known', 'Agricultural vehicle', 'Bus or coach (17 or more pass seats)', 'Car', 'Electric motorcycle', 'Goods 7.5 tonnes mgw and over', 'Goods over 3.5t. and under 7.5t', 'Goods vehicle - unknown weight', 'Minibus (8 - 16 passenger seats)', 'Mobility scooter', 'Motorcycle - unknown cc', 'Motorcycle 125cc and under', 'Motorcycle 50cc and under', 'Motorcycle over 125cc and up to 500cc', 'Motorcycle over 500cc', 'Other vehicle', 'Pedal cycle', 'Ridden horse', 'Taxi/Private hire car', 'Tram', 'Van / Goods 3.5 tonnes mgw or under', 'No', 'Yes', 'Approaching junction or waiting/parked at junction approach', 'Cleared junction or waiting/parked at junction exit', 'Entering from slip road', 'Entering main road', 'Entering roundabout', 'Leaving main road', 'Leaving roundabout', 'Mid Junction - on roundabout or on main road', 'Not at or within 20 metres of junction', 'Age_of_Driver', 'Age_of_Vehicle', 'Engine_Capacity_(CC)']\n",
      "CombinedNumAttributesAdder transform\n",
      "DataFrameSelector transform\n",
      "attributes names: ['1st_road_class', 'road_type', 'junction_detail', 'pedestrian_crossing-human_control', 'pedestrian_crossing-physical_facilities', 'light_conditions', 'weather_conditions', 'road_surface_conditions', 'special_conditions_at_site', 'carriageway_hazards', 'urban_or_rural_area', 'lsoa_of_accident_location']\n",
      "AccidentLocationSlicer transform\n",
      "slicing\n",
      "CategoricalImputer transform\n",
      "1st_road_class                                                                            A\n",
      "road_type                                                                Single carriageway\n",
      "junction_detail                                         Not at junction or within 20 metres\n",
      "pedestrian_crossing-human_control                                     None within 50 metres\n",
      "pedestrian_crossing-physical_facilities    No physical crossing facilities within 50 metres\n",
      "light_conditions                                                                   Daylight\n",
      "weather_conditions                                                       Fine no high winds\n",
      "road_surface_conditions                                                                 Dry\n",
      "special_conditions_at_site                                                             None\n",
      "carriageway_hazards                                                                    None\n",
      "urban_or_rural_area                                                                   Urban\n",
      "lsoa_of_accident_location                                                            E01002\n",
      "dtype: object\n",
      "DataFrameSelector transform\n",
      "attributes names: ['date', 'time']\n",
      "CategoricalImputer transform\n",
      "date    2016-11-11\n",
      "time         17:00\n",
      "dtype: object\n",
      "DateTimeTransformer transform\n",
      "TimeInfoExtractor transform\n"
     ]
    }
   ],
   "source": [
    "X_test_prepared = preprocess_pipeline.transform(X_test)\n",
    "y_test = X_test['target']"
   ]
  },
  {
   "cell_type": "code",
   "execution_count": 138,
   "metadata": {},
   "outputs": [
    {
     "name": "stdout",
     "output_type": "stream",
     "text": [
      "(26418, 152)\n",
      "(26418,)\n"
     ]
    }
   ],
   "source": [
    "print(X_test_prepared.shape)\n",
    "print(y_test.shape)"
   ]
  },
  {
   "cell_type": "code",
   "execution_count": 139,
   "metadata": {},
   "outputs": [],
   "source": [
    "y_pred = final_model.predict(X_test_prepared)\n",
    "y_proba = final_model.predict_proba(X_test_prepared)\n",
    "y_scores = y_proba[:,1]"
   ]
  },
  {
   "cell_type": "code",
   "execution_count": 140,
   "metadata": {},
   "outputs": [
    {
     "name": "stdout",
     "output_type": "stream",
     "text": [
      "Precision:  0.4050632911392405\n",
      "Recall:     0.0979020979020979\n",
      "F1:         0.15769095388947554\n",
      "ROC AUC:    0.6742623577434378\n",
      "[[21184   658]\n",
      " [ 4128   448]]\n"
     ]
    }
   ],
   "source": [
    "display_scores(y_test, y_pred, y_scores)"
   ]
  },
  {
   "cell_type": "markdown",
   "metadata": {},
   "source": [
    "# Final Model - Make Predictions"
   ]
  },
  {
   "cell_type": "code",
   "execution_count": 141,
   "metadata": {},
   "outputs": [],
   "source": [
    "test_data = load_transport_data('test.csv')"
   ]
  },
  {
   "cell_type": "code",
   "execution_count": 142,
   "metadata": {},
   "outputs": [],
   "source": [
    "accidents = test_data.copy()"
   ]
  },
  {
   "cell_type": "code",
   "execution_count": 143,
   "metadata": {},
   "outputs": [
    {
     "name": "stdout",
     "output_type": "stream",
     "text": [
      "AddVehiclesAttributes transform\n",
      "<class 'pandas.core.frame.DataFrame'>\n",
      "Int64Index: 103409 entries, 0 to 129949\n",
      "Data columns (total 66 columns):\n",
      "accident_id                                                    103409 non-null int64\n",
      "location_easting_osgr                                          103409 non-null float64\n",
      "location_northing_osgr                                         103409 non-null float64\n",
      "longitude                                                      103409 non-null float64\n",
      "latitude                                                       103409 non-null float64\n",
      "number_of_vehicles                                             103409 non-null int64\n",
      "number_of_casualties                                           103409 non-null int64\n",
      "date                                                           103409 non-null object\n",
      "time                                                           103409 non-null object\n",
      "1st_road_class                                                 103409 non-null object\n",
      "1st_road_number                                                103409 non-null int64\n",
      "road_type                                                      103409 non-null object\n",
      "speed_limit                                                    103409 non-null float64\n",
      "junction_detail                                                103390 non-null object\n",
      "junction_control                                               57458 non-null object\n",
      "2nd_road_class                                                 57614 non-null object\n",
      "2nd_road_number                                                103264 non-null float64\n",
      "pedestrian_crossing-human_control                              103163 non-null object\n",
      "pedestrian_crossing-physical_facilities                        103098 non-null object\n",
      "light_conditions                                               103408 non-null object\n",
      "weather_conditions                                             103408 non-null object\n",
      "road_surface_conditions                                        103104 non-null object\n",
      "special_conditions_at_site                                     103153 non-null object\n",
      "carriageway_hazards                                            103195 non-null object\n",
      "urban_or_rural_area                                            103409 non-null object\n",
      "lsoa_of_accident_location                                      96421 non-null object\n",
      "police_force                                                   103409 non-null object\n",
      "local_authority_district                                       103409 non-null object\n",
      "local_authority_highway                                        103409 non-null object\n",
      "Female                                                         103409 non-null float64\n",
      "Male                                                           103409 non-null float64\n",
      "Not known                                                      103409 non-null float64\n",
      "Agricultural vehicle                                           103409 non-null float64\n",
      "Bus or coach (17 or more pass seats)                           103409 non-null float64\n",
      "Car                                                            103409 non-null float64\n",
      "Electric motorcycle                                            103409 non-null float64\n",
      "Goods 7.5 tonnes mgw and over                                  103409 non-null float64\n",
      "Goods over 3.5t. and under 7.5t                                103409 non-null float64\n",
      "Goods vehicle - unknown weight                                 103409 non-null float64\n",
      "Minibus (8 - 16 passenger seats)                               103409 non-null float64\n",
      "Mobility scooter                                               103409 non-null float64\n",
      "Motorcycle - unknown cc                                        103409 non-null float64\n",
      "Motorcycle 125cc and under                                     103409 non-null float64\n",
      "Motorcycle 50cc and under                                      103409 non-null float64\n",
      "Motorcycle over 125cc and up to 500cc                          103409 non-null float64\n",
      "Motorcycle over 500cc                                          103409 non-null float64\n",
      "Other vehicle                                                  103409 non-null float64\n",
      "Pedal cycle                                                    103409 non-null float64\n",
      "Ridden horse                                                   103409 non-null float64\n",
      "Taxi/Private hire car                                          103409 non-null float64\n",
      "Tram                                                           103409 non-null float64\n",
      "Van / Goods 3.5 tonnes mgw or under                            103409 non-null float64\n",
      "No                                                             103409 non-null float64\n",
      "Yes                                                            103409 non-null float64\n",
      "Approaching junction or waiting/parked at junction approach    103409 non-null float64\n",
      "Cleared junction or waiting/parked at junction exit            103409 non-null float64\n",
      "Entering from slip road                                        103409 non-null float64\n",
      "Entering main road                                             103409 non-null float64\n",
      "Entering roundabout                                            103409 non-null float64\n",
      "Leaving main road                                              103409 non-null float64\n",
      "Leaving roundabout                                             103409 non-null float64\n",
      "Mid Junction - on roundabout or on main road                   103409 non-null float64\n",
      "Not at or within 20 metres of junction                         103409 non-null float64\n",
      "Age_of_Driver                                                  102163 non-null float64\n",
      "Age_of_Vehicle                                                 92522 non-null float64\n",
      "Engine_Capacity_(CC)                                           94390 non-null float64\n",
      "dtypes: float64(43), int64(4), object(19)\n",
      "memory usage: 52.9+ MB\n"
     ]
    }
   ],
   "source": [
    "X_pred = vehicle_adder.transform(accidents)\n",
    "X_pred.info()"
   ]
  },
  {
   "cell_type": "code",
   "execution_count": 144,
   "metadata": {},
   "outputs": [],
   "source": [
    "def check_categoricals_in_test_set(X_pred, X_train, col):\n",
    "    flag = np.in1d(X_pred[col].value_counts().index, X_train[col].value_counts().index).all()\n",
    "    print(flag)\n",
    "    if not flag:\n",
    "        val = np.extract(np.logical_not(np.in1d(X_pred[col].value_counts().index,X_train[col].value_counts().index)),\n",
    "                         X_pred[col].value_counts().index)\n",
    "        print(val)\n",
    "        print(X_pred[col].value_counts())\n",
    "        idx = np.extract(X_pred[col].isin(val), X_pred.index)\n",
    "        X_pred.loc[idx, col] = np.nan\n",
    "    return X_pred"
   ]
  },
  {
   "cell_type": "code",
   "execution_count": 145,
   "metadata": {},
   "outputs": [
    {
     "name": "stdout",
     "output_type": "stream",
     "text": [
      "False\n",
      "['Unallocated']\n",
      "Urban          64235\n",
      "Rural          39173\n",
      "Unallocated        1\n",
      "Name: urban_or_rural_area, dtype: int64\n"
     ]
    }
   ],
   "source": [
    "X_pred = check_categoricals_in_test_set(X_pred, X_train, 'urban_or_rural_area')"
   ]
  },
  {
   "cell_type": "code",
   "execution_count": 146,
   "metadata": {},
   "outputs": [
    {
     "name": "stdout",
     "output_type": "stream",
     "text": [
      "DataFrameSelector transform\n",
      "attributes names: ['longitude', 'latitude', 'number_of_vehicles', 'number_of_casualties', '1st_road_number', 'speed_limit', '2nd_road_number', 'Female', 'Male', 'Not known', 'Agricultural vehicle', 'Bus or coach (17 or more pass seats)', 'Car', 'Electric motorcycle', 'Goods 7.5 tonnes mgw and over', 'Goods over 3.5t. and under 7.5t', 'Goods vehicle - unknown weight', 'Minibus (8 - 16 passenger seats)', 'Mobility scooter', 'Motorcycle - unknown cc', 'Motorcycle 125cc and under', 'Motorcycle 50cc and under', 'Motorcycle over 125cc and up to 500cc', 'Motorcycle over 500cc', 'Other vehicle', 'Pedal cycle', 'Ridden horse', 'Taxi/Private hire car', 'Tram', 'Van / Goods 3.5 tonnes mgw or under', 'No', 'Yes', 'Approaching junction or waiting/parked at junction approach', 'Cleared junction or waiting/parked at junction exit', 'Entering from slip road', 'Entering main road', 'Entering roundabout', 'Leaving main road', 'Leaving roundabout', 'Mid Junction - on roundabout or on main road', 'Not at or within 20 metres of junction', 'Age_of_Driver', 'Age_of_Vehicle', 'Engine_Capacity_(CC)']\n",
      "CombinedNumAttributesAdder transform\n",
      "DataFrameSelector transform\n",
      "attributes names: ['1st_road_class', 'road_type', 'junction_detail', 'pedestrian_crossing-human_control', 'pedestrian_crossing-physical_facilities', 'light_conditions', 'weather_conditions', 'road_surface_conditions', 'special_conditions_at_site', 'carriageway_hazards', 'urban_or_rural_area', 'lsoa_of_accident_location']\n",
      "AccidentLocationSlicer transform\n",
      "slicing\n",
      "CategoricalImputer transform\n",
      "1st_road_class                                                                            A\n",
      "road_type                                                                Single carriageway\n",
      "junction_detail                                         Not at junction or within 20 metres\n",
      "pedestrian_crossing-human_control                                     None within 50 metres\n",
      "pedestrian_crossing-physical_facilities    No physical crossing facilities within 50 metres\n",
      "light_conditions                                                                   Daylight\n",
      "weather_conditions                                                       Fine no high winds\n",
      "road_surface_conditions                                                                 Dry\n",
      "special_conditions_at_site                                                             None\n",
      "carriageway_hazards                                                                    None\n",
      "urban_or_rural_area                                                                   Urban\n",
      "lsoa_of_accident_location                                                            E01002\n",
      "dtype: object\n",
      "DataFrameSelector transform\n",
      "attributes names: ['date', 'time']\n",
      "CategoricalImputer transform\n",
      "date    2016-11-11\n",
      "time         17:00\n",
      "dtype: object\n",
      "DateTimeTransformer transform\n",
      "TimeInfoExtractor transform\n"
     ]
    },
    {
     "data": {
      "text/plain": [
       "(103409, 152)"
      ]
     },
     "execution_count": 146,
     "metadata": {},
     "output_type": "execute_result"
    }
   ],
   "source": [
    "X_pred_prepared = preprocess_pipeline.transform(X_pred)\n",
    "X_pred_prepared.shape"
   ]
  },
  {
   "cell_type": "code",
   "execution_count": 147,
   "metadata": {},
   "outputs": [],
   "source": [
    "y_pred = final_model.predict(X_pred_prepared)\n",
    "y_proba = final_model.predict_proba(X_pred_prepared)[:,1]"
   ]
  },
  {
   "cell_type": "code",
   "execution_count": 148,
   "metadata": {},
   "outputs": [],
   "source": [
    "predictions = pd.DataFrame({'accident_id':X_pred['accident_id'].values.ravel(),\n",
    "                            'target':y_pred.ravel(),\n",
    "                            'probability':y_proba.ravel()})"
   ]
  },
  {
   "cell_type": "code",
   "execution_count": 149,
   "metadata": {},
   "outputs": [],
   "source": [
    "predictions.sort_values(by='probability', inplace=True, ascending=False)\n",
    "predictions.reset_index(drop=True, inplace=True)"
   ]
  },
  {
   "cell_type": "code",
   "execution_count": 150,
   "metadata": {},
   "outputs": [],
   "source": [
    "OUTPUT = 'outputs'\n",
    "predictions[['accident_id', \n",
    "             'target',\n",
    "             'probability']].to_csv(os.path.join(PROJECT_ROOT_DIR, OUTPUT, 'predictions_georchat.csv'))"
   ]
  },
  {
   "cell_type": "code",
   "execution_count": 151,
   "metadata": {},
   "outputs": [
    {
     "data": {
      "text/html": [
       "<div>\n",
       "<style scoped>\n",
       "    .dataframe tbody tr th:only-of-type {\n",
       "        vertical-align: middle;\n",
       "    }\n",
       "\n",
       "    .dataframe tbody tr th {\n",
       "        vertical-align: top;\n",
       "    }\n",
       "\n",
       "    .dataframe thead th {\n",
       "        text-align: right;\n",
       "    }\n",
       "</style>\n",
       "<table border=\"1\" class=\"dataframe\">\n",
       "  <thead>\n",
       "    <tr style=\"text-align: right;\">\n",
       "      <th></th>\n",
       "      <th>accident_id</th>\n",
       "      <th>target</th>\n",
       "      <th>probability</th>\n",
       "    </tr>\n",
       "  </thead>\n",
       "  <tbody>\n",
       "    <tr>\n",
       "      <th>count</th>\n",
       "      <td>103409.000000</td>\n",
       "      <td>103409.000000</td>\n",
       "      <td>103409.000000</td>\n",
       "    </tr>\n",
       "    <tr>\n",
       "      <th>mean</th>\n",
       "      <td>449981.191947</td>\n",
       "      <td>0.046737</td>\n",
       "      <td>0.184803</td>\n",
       "    </tr>\n",
       "    <tr>\n",
       "      <th>std</th>\n",
       "      <td>86693.803901</td>\n",
       "      <td>0.211075</td>\n",
       "      <td>0.156536</td>\n",
       "    </tr>\n",
       "    <tr>\n",
       "      <th>min</th>\n",
       "      <td>300003.000000</td>\n",
       "      <td>0.000000</td>\n",
       "      <td>0.000000</td>\n",
       "    </tr>\n",
       "    <tr>\n",
       "      <th>25%</th>\n",
       "      <td>374879.000000</td>\n",
       "      <td>0.000000</td>\n",
       "      <td>0.053956</td>\n",
       "    </tr>\n",
       "    <tr>\n",
       "      <th>50%</th>\n",
       "      <td>450017.000000</td>\n",
       "      <td>0.000000</td>\n",
       "      <td>0.157794</td>\n",
       "    </tr>\n",
       "    <tr>\n",
       "      <th>75%</th>\n",
       "      <td>525274.000000</td>\n",
       "      <td>0.000000</td>\n",
       "      <td>0.261055</td>\n",
       "    </tr>\n",
       "    <tr>\n",
       "      <th>max</th>\n",
       "      <td>599998.000000</td>\n",
       "      <td>1.000000</td>\n",
       "      <td>1.000000</td>\n",
       "    </tr>\n",
       "  </tbody>\n",
       "</table>\n",
       "</div>"
      ],
      "text/plain": [
       "         accident_id         target    probability\n",
       "count  103409.000000  103409.000000  103409.000000\n",
       "mean   449981.191947       0.046737       0.184803\n",
       "std     86693.803901       0.211075       0.156536\n",
       "min    300003.000000       0.000000       0.000000\n",
       "25%    374879.000000       0.000000       0.053956\n",
       "50%    450017.000000       0.000000       0.157794\n",
       "75%    525274.000000       0.000000       0.261055\n",
       "max    599998.000000       1.000000       1.000000"
      ]
     },
     "execution_count": 151,
     "metadata": {},
     "output_type": "execute_result"
    }
   ],
   "source": [
    "predictions.describe()"
   ]
  },
  {
   "cell_type": "code",
   "execution_count": null,
   "metadata": {},
   "outputs": [],
   "source": []
  }
 ],
 "metadata": {
  "kernelspec": {
   "display_name": "Python 3",
   "language": "python",
   "name": "python3"
  },
  "language_info": {
   "codemirror_mode": {
    "name": "ipython",
    "version": 3
   },
   "file_extension": ".py",
   "mimetype": "text/x-python",
   "name": "python",
   "nbconvert_exporter": "python",
   "pygments_lexer": "ipython3",
   "version": "3.7.6"
  }
 },
 "nbformat": 4,
 "nbformat_minor": 2
}
